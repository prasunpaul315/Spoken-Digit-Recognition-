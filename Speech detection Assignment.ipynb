{
 "cells": [
  {
   "cell_type": "markdown",
   "metadata": {
    "id": "ZwoTWIysaNmc"
   },
   "source": [
    "# <font color='red'> Spoken Digit Recognition</font>"
   ]
  },
  {
   "cell_type": "markdown",
   "metadata": {
    "id": "rPO3mjDDaNmf"
   },
   "source": [
    "\n",
    "In this notebook, You will do Spoken Digit Recognition. \n",
    "\n",
    "Input - speech signal, output - digit number\n",
    "\n",
    "\n",
    "\n",
    "It contains  \n",
    "\n",
    "1. Reading the dataset. and Preprocess the data set. Detailed instrctions are given below. You have to write the code in the same cell which contains the instrction. \n",
    "2. Training the LSTM with RAW data\n",
    "3. Converting to spectrogram and Training the LSTM network\n",
    "4. Creating the augmented data and doing step 2 and 3 again.  \n",
    "\n",
    "<font size=5>Instructions:</font>\n",
    "\n",
    "    1. Don't change any Grader Functions. Don't manipulate any Grader functions. If you manipulate any, it will be considered as plagiarised. \n",
    "    \n",
    "    2. Please read the instructions on the code cells and markdown cells. We will explain what to write. \n",
    "    \n",
    "    3. Please return outputs in the same format what we asked. Eg. Don't return List of we are asking for a numpy array.\n",
    "    \n",
    "    4. Please read the external links that we are given so that you will learn the concept behind the code that you are writing.\n",
    "    \n",
    "    5. We are giving instructions at each section if necessary, please follow them. \n",
    "\n",
    "<font size=5>Every Grader function has to return True. </font>\n",
    "\n"
   ]
  },
  {
   "cell_type": "code",
   "execution_count": 1,
   "metadata": {
    "scrolled": true
   },
   "outputs": [],
   "source": [
    "#!pip install librosa"
   ]
  },
  {
   "cell_type": "code",
   "execution_count": 2,
   "metadata": {
    "id": "_qGuPcj-aNmh"
   },
   "outputs": [],
   "source": [
    "import numpy as np\n",
    "import pandas as pd\n",
    "import librosa\n",
    "import os\n",
    "from tqdm import tqdm\n",
    "from matplotlib import pyplot as plt\n",
    "import warnings\n",
    "warnings.filterwarnings(\"ignore\")\n",
    "##if you need any imports you can do that here. "
   ]
  },
  {
   "cell_type": "markdown",
   "metadata": {
    "id": "PdhFzGK1aNmo"
   },
   "source": [
    "We shared recordings.zip, please unzip those. "
   ]
  },
  {
   "cell_type": "code",
   "execution_count": 3,
   "metadata": {
    "id": "HDBcl_PUaNmp"
   },
   "outputs": [
    {
     "data": {
      "text/plain": [
       "2000"
      ]
     },
     "execution_count": 3,
     "metadata": {},
     "output_type": "execute_result"
    }
   ],
   "source": [
    "#read the all file names in the recordings folder given by us\n",
    "#(if you get entire path, it is very useful in future)\n",
    "#save those files names as list in \"all_files\"\n",
    "\n",
    "all_files = os.listdir(r\"recordings\")\n",
    "len(all_files)"
   ]
  },
  {
   "cell_type": "markdown",
   "metadata": {
    "id": "8NYYpfqoaNmv"
   },
   "source": [
    "<font size=4>Grader function 1 </font>"
   ]
  },
  {
   "cell_type": "code",
   "execution_count": 4,
   "metadata": {
    "id": "2oJSOmYBaNmx",
    "outputId": "d4509e7d-1cb6-4e7f-e469-ef40314a8510"
   },
   "outputs": [
    {
     "data": {
      "text/plain": [
       "True"
      ]
     },
     "execution_count": 4,
     "metadata": {},
     "output_type": "execute_result"
    }
   ],
   "source": [
    "def grader_files():\n",
    "    temp = len(all_files)==2000\n",
    "    temp1 = all([x[-3:]==\"wav\" for x in all_files])\n",
    "    temp = temp and temp1\n",
    "    return temp\n",
    "grader_files()"
   ]
  },
  {
   "cell_type": "markdown",
   "metadata": {
    "id": "MhvSIN6raNm3"
   },
   "source": [
    "Create a dataframe(name=df_audio) with two columns(path, label).   \n",
    "You can get the label from the first letter of name.  \n",
    "Eg: 0_jackson_0 --> 0  \n",
    "0_jackson_43 --> 0"
   ]
  },
  {
   "cell_type": "markdown",
   "metadata": {
    "id": "LZbhCvvRPPMw"
   },
   "source": [
    "## Exploring the sound dataset"
   ]
  },
  {
   "cell_type": "code",
   "execution_count": 5,
   "metadata": {
    "id": "ilJsqdhhPMed"
   },
   "outputs": [],
   "source": [
    "#It is a good programming practise to explore the dataset that you are dealing with. This dataset is unique in itself because it has sounds as input\n",
    "#https://colab.research.google.com/github/Tyler-Hilbert/AudioProcessingInPythonWorkshop/blob/master/AudioProcessingInPython.ipynb\n",
    "#visualize the data and write code to play 2-3 sound samples in the notebook for better understanding.\n",
    "#please go through the following reference video https://www.youtube.com/watch?v=37zCgCdV468"
   ]
  },
  {
   "cell_type": "code",
   "execution_count": 6,
   "metadata": {},
   "outputs": [
    {
     "data": {
      "text/plain": [
       "['7_jackson_7.wav',\n",
       " '8_yweweler_23.wav',\n",
       " '1_yweweler_1.wav',\n",
       " '0_yweweler_3.wav',\n",
       " '6_jackson_44.wav']"
      ]
     },
     "execution_count": 6,
     "metadata": {},
     "output_type": "execute_result"
    }
   ],
   "source": [
    "all_files[:5]"
   ]
  },
  {
   "cell_type": "code",
   "execution_count": 7,
   "metadata": {},
   "outputs": [
    {
     "data": {
      "text/plain": [
       "'8'"
      ]
     },
     "execution_count": 7,
     "metadata": {},
     "output_type": "execute_result"
    }
   ],
   "source": [
    "all_files[1][0]"
   ]
  },
  {
   "cell_type": "code",
   "execution_count": 8,
   "metadata": {
    "id": "bX_umjikPy5Y"
   },
   "outputs": [],
   "source": [
    "df_audio = pd.DataFrame()\n",
    "\n",
    "def dataframe(root_dir):\n",
    "    path = []\n",
    "    label = []\n",
    "    for i in range(len(all_files)):\n",
    "        path.append(root_dir+'/'+all_files[i])\n",
    "        label.append(all_files[i][0])\n",
    "        \n",
    "    df_audio['path'] = path\n",
    "    df_audio['label'] = label\n",
    "        \n",
    "    return df_audio\n"
   ]
  },
  {
   "cell_type": "code",
   "execution_count": 9,
   "metadata": {
    "id": "7Wx5tOjSPX2Y"
   },
   "outputs": [
    {
     "data": {
      "text/html": [
       "<div>\n",
       "<style scoped>\n",
       "    .dataframe tbody tr th:only-of-type {\n",
       "        vertical-align: middle;\n",
       "    }\n",
       "\n",
       "    .dataframe tbody tr th {\n",
       "        vertical-align: top;\n",
       "    }\n",
       "\n",
       "    .dataframe thead th {\n",
       "        text-align: right;\n",
       "    }\n",
       "</style>\n",
       "<table border=\"1\" class=\"dataframe\">\n",
       "  <thead>\n",
       "    <tr style=\"text-align: right;\">\n",
       "      <th></th>\n",
       "      <th>path</th>\n",
       "      <th>label</th>\n",
       "    </tr>\n",
       "  </thead>\n",
       "  <tbody>\n",
       "    <tr>\n",
       "      <th>0</th>\n",
       "      <td>recordings/7_jackson_7.wav</td>\n",
       "      <td>7</td>\n",
       "    </tr>\n",
       "    <tr>\n",
       "      <th>1</th>\n",
       "      <td>recordings/8_yweweler_23.wav</td>\n",
       "      <td>8</td>\n",
       "    </tr>\n",
       "    <tr>\n",
       "      <th>2</th>\n",
       "      <td>recordings/1_yweweler_1.wav</td>\n",
       "      <td>1</td>\n",
       "    </tr>\n",
       "    <tr>\n",
       "      <th>3</th>\n",
       "      <td>recordings/0_yweweler_3.wav</td>\n",
       "      <td>0</td>\n",
       "    </tr>\n",
       "    <tr>\n",
       "      <th>4</th>\n",
       "      <td>recordings/6_jackson_44.wav</td>\n",
       "      <td>6</td>\n",
       "    </tr>\n",
       "  </tbody>\n",
       "</table>\n",
       "</div>"
      ],
      "text/plain": [
       "                           path label\n",
       "0    recordings/7_jackson_7.wav     7\n",
       "1  recordings/8_yweweler_23.wav     8\n",
       "2   recordings/1_yweweler_1.wav     1\n",
       "3   recordings/0_yweweler_3.wav     0\n",
       "4   recordings/6_jackson_44.wav     6"
      ]
     },
     "execution_count": 9,
     "metadata": {},
     "output_type": "execute_result"
    }
   ],
   "source": [
    "root_dir = 'recordings'\n",
    "df_audio = dataframe(root_dir)\n",
    "df_audio.head()"
   ]
  },
  {
   "cell_type": "code",
   "execution_count": 10,
   "metadata": {},
   "outputs": [
    {
     "data": {
      "text/plain": [
       "(2000, 2)"
      ]
     },
     "execution_count": 10,
     "metadata": {},
     "output_type": "execute_result"
    }
   ],
   "source": [
    "df_audio.shape"
   ]
  },
  {
   "cell_type": "markdown",
   "metadata": {
    "id": "AA0nAtjbQLmu"
   },
   "source": [
    "## Creating dataframe"
   ]
  },
  {
   "cell_type": "code",
   "execution_count": 11,
   "metadata": {
    "id": "fWP6vXBeaNm3"
   },
   "outputs": [],
   "source": [
    "#Create a dataframe(name=df_audio) with two columns(path, label).   \n",
    "#You can get the label from the first letter of name.  \n",
    "#Eg: 0_jackson_0 --> 0  \n",
    "#0_jackson_43 --> 0\n"
   ]
  },
  {
   "cell_type": "code",
   "execution_count": 12,
   "metadata": {},
   "outputs": [
    {
     "name": "stdout",
     "output_type": "stream",
     "text": [
      "<class 'pandas.core.frame.DataFrame'>\n",
      "RangeIndex: 2000 entries, 0 to 1999\n",
      "Data columns (total 2 columns):\n",
      " #   Column  Non-Null Count  Dtype \n",
      "---  ------  --------------  ----- \n",
      " 0   path    2000 non-null   object\n",
      " 1   label   2000 non-null   object\n",
      "dtypes: object(2)\n",
      "memory usage: 31.4+ KB\n"
     ]
    }
   ],
   "source": [
    "#info\n",
    "df_audio.info()"
   ]
  },
  {
   "cell_type": "markdown",
   "metadata": {
    "id": "VOKpYJ_LaNnD"
   },
   "source": [
    "<font size=4>Grader function 2 </font>"
   ]
  },
  {
   "cell_type": "code",
   "execution_count": 13,
   "metadata": {
    "id": "7Q8r_T8-aNnE",
    "outputId": "849e3f3e-e77c-492c-ba29-77508e74fc57"
   },
   "outputs": [
    {
     "data": {
      "text/plain": [
       "True"
      ]
     },
     "execution_count": 13,
     "metadata": {},
     "output_type": "execute_result"
    }
   ],
   "source": [
    "def grader_df():\n",
    "    flag_shape = df_audio.shape==(2000,2)\n",
    "    flag_columns = all(df_audio.columns==['path', 'label'])\n",
    "    list_values = list(df_audio.label.value_counts())\n",
    "    flag_label = len(list_values)==10\n",
    "    flag_label2 = all([i==200 for i in list_values])\n",
    "    final_flag = flag_shape and flag_columns and flag_label and flag_label2\n",
    "    return final_flag\n",
    "grader_df()"
   ]
  },
  {
   "cell_type": "code",
   "execution_count": 14,
   "metadata": {
    "id": "PlfssCc3aNnL"
   },
   "outputs": [],
   "source": [
    "from sklearn.utils import shuffle\n",
    "df_audio = shuffle(df_audio, random_state=33)#don't change the random state"
   ]
  },
  {
   "cell_type": "markdown",
   "metadata": {
    "id": "PZ448aENaNnR"
   },
   "source": [
    "<pre><font size=4>Train and Validation split</font></pre>"
   ]
  },
  {
   "cell_type": "code",
   "execution_count": 15,
   "metadata": {
    "id": "vSPy-Ln6aNnS"
   },
   "outputs": [],
   "source": [
    "#split the data into train and validation and save in X_train, X_test, y_train, y_test\n",
    "#use stratify sampling\n",
    "#use random state of 45\n",
    "#use test size of 30%\n",
    "\n",
    "\n",
    "from sklearn.model_selection import train_test_split\n",
    "\n",
    "X = df_audio['path']\n",
    "y = df_audio['label']\n",
    "\n",
    "X_train,X_test,y_train,y_test = train_test_split(X, y, test_size=0.3,random_state=45,stratify=y )"
   ]
  },
  {
   "cell_type": "code",
   "execution_count": 16,
   "metadata": {},
   "outputs": [
    {
     "name": "stdout",
     "output_type": "stream",
     "text": [
      "train shape:  (1400,) (1400,)\n",
      "test shape:   (600,) (600,)\n"
     ]
    }
   ],
   "source": [
    "print(\"train shape: \", X_train.shape, y_train.shape)\n",
    "print(\"test shape:  \", X_test.shape, y_test.shape)"
   ]
  },
  {
   "cell_type": "markdown",
   "metadata": {
    "id": "YPK3sbzUaNnW"
   },
   "source": [
    "<font size=4>Grader function 3 </font>"
   ]
  },
  {
   "cell_type": "code",
   "execution_count": 17,
   "metadata": {
    "id": "chZzntKUaNnX",
    "outputId": "e2949c8b-2f00-434f-8403-56b577faf04f"
   },
   "outputs": [
    {
     "data": {
      "text/plain": [
       "True"
      ]
     },
     "execution_count": 17,
     "metadata": {},
     "output_type": "execute_result"
    }
   ],
   "source": [
    "def grader_split():\n",
    "    flag_len = (len(X_train)==1400) and (len(X_test)==600) and (len(y_train)==1400) and (len(y_test)==600)\n",
    "    values_ytrain = list(y_train.value_counts())\n",
    "    flag_ytrain = (len(values_ytrain)==10) and (all([i==140 for i in values_ytrain]))\n",
    "    values_ytest = list(y_test.value_counts())\n",
    "    flag_ytest = (len(values_ytest)==10) and (all([i==60 for i in values_ytest]))\n",
    "    final_flag = flag_len and flag_ytrain and flag_ytest\n",
    "    return final_flag\n",
    "grader_split()"
   ]
  },
  {
   "cell_type": "markdown",
   "metadata": {
    "id": "LGhh-39vaNnb"
   },
   "source": [
    "<pre><font size=4>Preprocessing</font>\n",
    "\n",
    "All files are in the \"WAV\" format. We will read those raw data files using the librosa</pre>"
   ]
  },
  {
   "cell_type": "code",
   "execution_count": 18,
   "metadata": {
    "id": "i99JacQSaNnc"
   },
   "outputs": [],
   "source": [
    "sample_rate = 22050\n",
    "def load_wav(x, get_duration=True):\n",
    "    '''This return the array values of audio with sampling rate of 22050 and Duration'''\n",
    "    #loading the wav file with sampling rate of 22050\n",
    "    samples, sample_rate = librosa.load(x, sr=22050)\n",
    "    if get_duration:\n",
    "        duration = librosa.get_duration(samples, sample_rate)\n",
    "        return [samples, duration]\n",
    "    else:\n",
    "        return samples"
   ]
  },
  {
   "cell_type": "code",
   "execution_count": 19,
   "metadata": {
    "id": "Rx97f8GGaNnh"
   },
   "outputs": [],
   "source": [
    "#use load_wav function that was written above to get every wave. \n",
    "#save it in X_train_processed and X_test_processed\n",
    "# X_train_processed/X_test_processed should be dataframes with two columns(raw_data, duration) with same index of X_train/y_train"
   ]
  },
  {
   "cell_type": "code",
   "execution_count": 20,
   "metadata": {},
   "outputs": [
    {
     "name": "stderr",
     "output_type": "stream",
     "text": [
      "100%|██████████████████████████████████████| 1400/1400 [00:13<00:00, 106.08it/s]\n"
     ]
    }
   ],
   "source": [
    "X_tr = X_train.values\n",
    "\n",
    "train_raw_data = []\n",
    "train_duration = []\n",
    "\n",
    "for i in tqdm(range(len(X_tr))):\n",
    "    samples, duration = load_wav(X_tr[i])\n",
    "    train_raw_data.append(samples)\n",
    "    train_duration.append(duration)\n",
    "    \n",
    "X_train_processed = pd.DataFrame()\n",
    "X_train_processed['raw_data'] = train_raw_data\n",
    "X_train_processed['duration'] = train_duration\n",
    "    "
   ]
  },
  {
   "cell_type": "code",
   "execution_count": 21,
   "metadata": {},
   "outputs": [
    {
     "data": {
      "text/html": [
       "<div>\n",
       "<style scoped>\n",
       "    .dataframe tbody tr th:only-of-type {\n",
       "        vertical-align: middle;\n",
       "    }\n",
       "\n",
       "    .dataframe tbody tr th {\n",
       "        vertical-align: top;\n",
       "    }\n",
       "\n",
       "    .dataframe thead th {\n",
       "        text-align: right;\n",
       "    }\n",
       "</style>\n",
       "<table border=\"1\" class=\"dataframe\">\n",
       "  <thead>\n",
       "    <tr style=\"text-align: right;\">\n",
       "      <th></th>\n",
       "      <th>raw_data</th>\n",
       "      <th>duration</th>\n",
       "    </tr>\n",
       "  </thead>\n",
       "  <tbody>\n",
       "    <tr>\n",
       "      <th>0</th>\n",
       "      <td>[0.00087281835, 0.0004117749, -2.936911e-05, -...</td>\n",
       "      <td>0.327755</td>\n",
       "    </tr>\n",
       "    <tr>\n",
       "      <th>1</th>\n",
       "      <td>[-0.00038002394, -0.00019715699, 0.00010046658...</td>\n",
       "      <td>0.427029</td>\n",
       "    </tr>\n",
       "    <tr>\n",
       "      <th>2</th>\n",
       "      <td>[-0.0002015104, -8.0844686e-05, -3.0828054e-05...</td>\n",
       "      <td>0.222630</td>\n",
       "    </tr>\n",
       "    <tr>\n",
       "      <th>3</th>\n",
       "      <td>[0.0012677191, 0.001223072, 0.0006890931, -0.0...</td>\n",
       "      <td>0.477143</td>\n",
       "    </tr>\n",
       "    <tr>\n",
       "      <th>4</th>\n",
       "      <td>[-0.007789636, -0.009217891, -0.008847748, -0....</td>\n",
       "      <td>0.426168</td>\n",
       "    </tr>\n",
       "  </tbody>\n",
       "</table>\n",
       "</div>"
      ],
      "text/plain": [
       "                                            raw_data  duration\n",
       "0  [0.00087281835, 0.0004117749, -2.936911e-05, -...  0.327755\n",
       "1  [-0.00038002394, -0.00019715699, 0.00010046658...  0.427029\n",
       "2  [-0.0002015104, -8.0844686e-05, -3.0828054e-05...  0.222630\n",
       "3  [0.0012677191, 0.001223072, 0.0006890931, -0.0...  0.477143\n",
       "4  [-0.007789636, -0.009217891, -0.008847748, -0....  0.426168"
      ]
     },
     "execution_count": 21,
     "metadata": {},
     "output_type": "execute_result"
    }
   ],
   "source": [
    "X_train_processed.head()"
   ]
  },
  {
   "cell_type": "code",
   "execution_count": 22,
   "metadata": {},
   "outputs": [
    {
     "name": "stderr",
     "output_type": "stream",
     "text": [
      "100%|████████████████████████████████████████| 600/600 [00:05<00:00, 113.31it/s]\n"
     ]
    }
   ],
   "source": [
    "X_te = X_test.values\n",
    "\n",
    "test_raw_data = []\n",
    "test_duration = []\n",
    "\n",
    "for i in tqdm(range(len(X_te))):\n",
    "    samples, duration = load_wav(X_te[i])\n",
    "    test_raw_data.append(samples)\n",
    "    test_duration.append(duration)\n",
    "    \n",
    "X_test_processed = pd.DataFrame()\n",
    "X_test_processed['raw_data'] = test_raw_data\n",
    "X_test_processed['duration'] = test_duration\n",
    "    "
   ]
  },
  {
   "cell_type": "code",
   "execution_count": 23,
   "metadata": {},
   "outputs": [
    {
     "data": {
      "text/html": [
       "<div>\n",
       "<style scoped>\n",
       "    .dataframe tbody tr th:only-of-type {\n",
       "        vertical-align: middle;\n",
       "    }\n",
       "\n",
       "    .dataframe tbody tr th {\n",
       "        vertical-align: top;\n",
       "    }\n",
       "\n",
       "    .dataframe thead th {\n",
       "        text-align: right;\n",
       "    }\n",
       "</style>\n",
       "<table border=\"1\" class=\"dataframe\">\n",
       "  <thead>\n",
       "    <tr style=\"text-align: right;\">\n",
       "      <th></th>\n",
       "      <th>raw_data</th>\n",
       "      <th>duration</th>\n",
       "    </tr>\n",
       "  </thead>\n",
       "  <tbody>\n",
       "    <tr>\n",
       "      <th>0</th>\n",
       "      <td>[-0.00018607912, -0.0002530324, -0.00028846323...</td>\n",
       "      <td>0.259138</td>\n",
       "    </tr>\n",
       "    <tr>\n",
       "      <th>1</th>\n",
       "      <td>[-0.02292528, -0.03088903, -0.033623796, -0.03...</td>\n",
       "      <td>0.395011</td>\n",
       "    </tr>\n",
       "    <tr>\n",
       "      <th>2</th>\n",
       "      <td>[-0.030367538, -0.026899911, -0.013228855, 0.0...</td>\n",
       "      <td>0.309887</td>\n",
       "    </tr>\n",
       "    <tr>\n",
       "      <th>3</th>\n",
       "      <td>[0.00011964719, -0.0019205003, -0.0052836672, ...</td>\n",
       "      <td>0.470385</td>\n",
       "    </tr>\n",
       "    <tr>\n",
       "      <th>4</th>\n",
       "      <td>[0.00023663024, 0.00028101765, 0.00023928868, ...</td>\n",
       "      <td>0.513152</td>\n",
       "    </tr>\n",
       "  </tbody>\n",
       "</table>\n",
       "</div>"
      ],
      "text/plain": [
       "                                            raw_data  duration\n",
       "0  [-0.00018607912, -0.0002530324, -0.00028846323...  0.259138\n",
       "1  [-0.02292528, -0.03088903, -0.033623796, -0.03...  0.395011\n",
       "2  [-0.030367538, -0.026899911, -0.013228855, 0.0...  0.309887\n",
       "3  [0.00011964719, -0.0019205003, -0.0052836672, ...  0.470385\n",
       "4  [0.00023663024, 0.00028101765, 0.00023928868, ...  0.513152"
      ]
     },
     "execution_count": 23,
     "metadata": {},
     "output_type": "execute_result"
    }
   ],
   "source": [
    "X_test_processed.head()"
   ]
  },
  {
   "cell_type": "code",
   "execution_count": 24,
   "metadata": {},
   "outputs": [
    {
     "data": {
      "image/png": "[encoded data removed]",
      "text/plain": [
       "<Figure size 432x288 with 1 Axes>"
      ]
     },
     "metadata": {
      "needs_background": "light"
     },
     "output_type": "display_data"
    }
   ],
   "source": [
    "#plot the histogram of the duration for trian\n",
    "\n",
    "fig, ax = plt.subplots()\n",
    "ax.hist(X_train_processed['duration'])\n",
    " \n",
    "# Show plot\n",
    "plt.show()"
   ]
  },
  {
   "cell_type": "code",
   "execution_count": 25,
   "metadata": {
    "id": "wE5SDRzSaNns",
    "outputId": "f2501a90-2a43-43db-f02c-1463defe2146"
   },
   "outputs": [
    {
     "data": {
      "image/png": "[encoded data removed]",
      "text/plain": [
       "<Figure size 432x288 with 1 Axes>"
      ]
     },
     "metadata": {
      "needs_background": "light"
     },
     "output_type": "display_data"
    }
   ],
   "source": [
    "#plot the histogram of the duration for test\n",
    "\n",
    "fig, ax = plt.subplots()\n",
    "ax.hist(X_test_processed['duration'])\n",
    " \n",
    "# Show plot\n",
    "plt.show()"
   ]
  },
  {
   "cell_type": "code",
   "execution_count": 26,
   "metadata": {},
   "outputs": [
    {
     "name": "stdout",
     "output_type": "stream",
     "text": [
      "0 th percentile is 0.1435374149659864\n",
      "10 th percentile is 0.2597732426303855\n",
      "20 th percentile is 0.3020408163265306\n",
      "30 th percentile is 0.3322902494331066\n",
      "40 th percentile is 0.35950113378684806\n",
      "50 th percentile is 0.389750566893424\n",
      "60 th percentile is 0.4164172335600907\n",
      "70 th percentile is 0.44825396825396824\n",
      "80 th percentile is 0.48462585034013606\n",
      "90 th percentile is 0.5599092970521542\n",
      "100 th percentile is  2.282766439909297\n"
     ]
    }
   ],
   "source": [
    "#print 0 to 100 percentile values with step size of 10 for train data duration. \n",
    "\n",
    "for i in range(0,100,10):\n",
    "    var = X_train_processed['duration'].values\n",
    "    var = np.sort(var,axis = None)\n",
    "    print(\"{} th percentile is {}\".format(int(i),var[int(len(var)*(float(i)/100))]))\n",
    "print(\"100 th percentile is \",var[-1])"
   ]
  },
  {
   "cell_type": "code",
   "execution_count": 27,
   "metadata": {
    "id": "rSlVQh4CaNn2",
    "outputId": "d6970436-db83-4d01-c910-7ebe92baab41"
   },
   "outputs": [
    {
     "name": "stdout",
     "output_type": "stream",
     "text": [
      "90 th percentile is 0.5599092970521542\n",
      "91 th percentile is 0.5759183673469388\n",
      "92 th percentile is 0.5851700680272108\n",
      "93 th percentile is 0.6078911564625851\n",
      "94 th percentile is 0.6210430839002268\n",
      "95 th percentile is 0.6346485260770975\n",
      "96 th percentile is 0.648390022675737\n",
      "97 th percentile is 0.6742857142857143\n",
      "98 th percentile is 0.7120181405895691\n",
      "99 th percentile is 0.8067573696145125\n",
      "100 th percentile is  2.282766439909297\n"
     ]
    }
   ],
   "source": [
    "##print 90 to 100 percentile values with step size of 1. \n",
    "\n",
    "for i in range(90,100,1):\n",
    "    var = X_train_processed['duration'].values\n",
    "    var = np.sort(var,axis = None)\n",
    "    print(\"{} th percentile is {}\".format(int(i),var[int(len(var)*(float(i)/100))]))\n",
    "print(\"100 th percentile is \",var[-1])"
   ]
  },
  {
   "cell_type": "markdown",
   "metadata": {
    "id": "JbMb4Y0RaNoA"
   },
   "source": [
    "<font size=4>Grader function 4 </font>"
   ]
  },
  {
   "cell_type": "code",
   "execution_count": 28,
   "metadata": {
    "id": "UMoyLLSAaNoF",
    "outputId": "cfb3ad33-3dc0-49e7-d078-8619b164b5db"
   },
   "outputs": [
    {
     "data": {
      "text/plain": [
       "True"
      ]
     },
     "execution_count": 28,
     "metadata": {},
     "output_type": "execute_result"
    }
   ],
   "source": [
    "def grader_processed():\n",
    "    flag_columns = (all(X_train_processed.columns==['raw_data', 'duration'])) and (all(X_test_processed.columns==['raw_data', 'duration']))\n",
    "    flag_shape = (X_train_processed.shape ==(1400, 2)) and (X_test_processed.shape==(600,2))\n",
    "    return flag_columns and flag_shape\n",
    "grader_processed()"
   ]
  },
  {
   "cell_type": "markdown",
   "metadata": {
    "id": "Cux3_jfcaNoM"
   },
   "source": [
    "<b>Based on our analysis 99 percentile values are less than 0.8sec so we will limit maximum length of X_train_processed and X_test_processed to 0.8 sec. It is similar to pad_sequence for a text dataset.</b>\n",
    "\n",
    "<b>While loading the audio files, we are using sampling rate of 22050 so one sec will give array of length 22050. so, our maximum length is 0.8*22050 = 17640\n",
    "</b>\n",
    "<b>Pad with Zero if length of sequence is less than 17640 else Truncate the number. </b>\n",
    "\n",
    "<b> Also create a masking vector for train and test. </b>\n",
    "\n",
    "<b> masking vector value = 1 if it is real value, 0 if it is pad value. Masking vector data type must be bool.</b>\n"
   ]
  },
  {
   "cell_type": "code",
   "execution_count": 29,
   "metadata": {
    "id": "voqSEyvcaNoO"
   },
   "outputs": [],
   "source": [
    "max_length  = 17640"
   ]
  },
  {
   "cell_type": "code",
   "execution_count": 30,
   "metadata": {
    "id": "B1-_r20BaNoW"
   },
   "outputs": [],
   "source": [
    "## as discussed above, Pad with Zero if length of sequence is less than 17640 else Truncate the number. \n",
    "## save in the X_train_pad_seq, X_test_pad_seq\n",
    "## also Create masking vector X_train_mask, X_test_mask\n",
    "\n",
    "## all the X_train_pad_seq, X_test_pad_seq, X_train_mask, X_test_mask will be numpy arrays mask vector dtype must be bool."
   ]
  },
  {
   "cell_type": "code",
   "execution_count": 31,
   "metadata": {},
   "outputs": [
    {
     "name": "stdout",
     "output_type": "stream",
     "text": [
      "7227\n",
      "0.3277551020408163\n"
     ]
    }
   ],
   "source": [
    "print(len(X_train_processed['raw_data'][0]))\n",
    "print(X_train_processed['duration'][0])"
   ]
  },
  {
   "cell_type": "code",
   "execution_count": 32,
   "metadata": {},
   "outputs": [
    {
     "name": "stdout",
     "output_type": "stream",
     "text": [
      "(1400, 17640)\n",
      "(600, 17640)\n",
      "(1400, 17640)\n",
      "(600, 17640)\n"
     ]
    }
   ],
   "source": [
    "# https://stackoverflow.com/questions/30475558/padding-or-truncating-a-python-list\n",
    "\n",
    "def trp(l, n):\n",
    "    \"\"\" Truncate or pad a list \"\"\"\n",
    "    r = list(l[:n])\n",
    "    if(len(r) < n):\n",
    "        r.extend([0] * (n - len(r)))\n",
    "    return r\n",
    "\n",
    "X_train_pad_seq = []\n",
    "X_train_mask = []\n",
    "X_test_pad_seq = []\n",
    "X_test_mask = []\n",
    "\n",
    "for i in range(len(X_train_processed)):\n",
    "    pad_seq = trp(np.array(X_train_processed['raw_data'][i]), max_length)\n",
    "    X_train_pad_seq.append(pad_seq)\n",
    "    \n",
    "    \n",
    "for i in range(len(X_test_processed)):\n",
    "    pad_seq = trp(np.array(X_test_processed['raw_data'][i]), max_length)\n",
    "    X_test_pad_seq.append(pad_seq)\n",
    "    \n",
    "\n",
    "\n",
    "X_train_pad_seq = np.array(X_train_pad_seq)\n",
    "X_test_pad_seq = np.array(X_test_pad_seq)\n",
    "\n",
    "X_train_mask = np.where(X_train_pad_seq != 0, 1, 0)\n",
    "X_train_mask = X_train_mask.astype(bool)\n",
    "X_test_mask = np.where(X_test_pad_seq != 0, 1, 0)\n",
    "X_test_mask = X_test_mask.astype(bool)\n",
    "\n",
    "print(X_train_pad_seq.shape)\n",
    "print(X_test_pad_seq.shape)\n",
    "\n",
    "print(X_train_mask.shape)\n",
    "print(X_test_mask.shape)\n"
   ]
  },
  {
   "cell_type": "markdown",
   "metadata": {
    "id": "zEHMgm4DaNoe"
   },
   "source": [
    "<font size=4>Grader function 5 </font>"
   ]
  },
  {
   "cell_type": "code",
   "execution_count": 33,
   "metadata": {
    "id": "Th3KhplGaNof",
    "outputId": "5e783ec9-81d2-4156-9e88-efdee0ff8b2b"
   },
   "outputs": [
    {
     "data": {
      "text/plain": [
       "True"
      ]
     },
     "execution_count": 33,
     "metadata": {},
     "output_type": "execute_result"
    }
   ],
   "source": [
    "def grader_padoutput():\n",
    "    flag_padshape = (X_train_pad_seq.shape==(1400, 17640)) and (X_test_pad_seq.shape==(600, 17640)) and (y_train.shape==(1400,))\n",
    "    flag_maskshape = (X_train_mask.shape==(1400, 17640)) and (X_test_mask.shape==(600, 17640)) and (y_test.shape==(600,))\n",
    "    flag_dtype = (X_train_mask.dtype==bool) and (X_test_mask.dtype==bool)\n",
    "    return flag_padshape and flag_maskshape and flag_dtype\n",
    "grader_padoutput()"
   ]
  },
  {
   "cell_type": "markdown",
   "metadata": {
    "id": "K0kaYQ1jaNop"
   },
   "source": [
    "### 1. Giving Raw data directly. "
   ]
  },
  {
   "cell_type": "markdown",
   "metadata": {
    "id": "xGHxh3jTaNoq"
   },
   "source": [
    "\n",
    "Now we have\n",
    "\n",
    "Train data: X_train_pad_seq, X_train_mask and y_train  \n",
    "Test data: X_test_pad_seq, X_test_mask and y_test   \n",
    "\n",
    "We will create a LSTM model which takes this input. \n",
    "\n",
    "Task:\n",
    "\n",
    "1. Create an LSTM network which takes \"X_train_pad_seq\" as input, \"X_train_mask\" as mask input. You can use any number of LSTM cells. Please read LSTM documentation(https://www.tensorflow.org/api_docs/python/tf/keras/layers/LSTM) in tensorflow to know more about mask and also https://www.tensorflow.org/guide/keras/masking_and_padding \n",
    "2. Get the final output of the LSTM and give it to Dense layer of any size and then give it to Dense layer of size 10(because we have 10 outputs) and then compile with the sparse categorical cross entropy( because we are not converting it to one hot vectors). Also check the datatype of class labels(y_values) and make sure that you convert your class labels  to integer datatype before fitting in the model.\n",
    "3. While defining your model make sure that you pass both the input layer and mask input layer as input to lstm layer as follows\n",
    "<img src='https://i.imgur.com/FvcgvbY.jpg'>\n",
    "4. Use tensorboard to plot the graphs of loss and metric(use custom micro F1 score as metric) and histograms of gradients. You can write your code for computing F1 score using this <a  href='https://i.imgur.com/8YULUcu.jpg'>link</a> \n",
    "\n",
    "5. make sure that it won't overfit. \n",
    "6. You are free to include any regularization\n"
   ]
  },
  {
   "cell_type": "code",
   "execution_count": 44,
   "metadata": {},
   "outputs": [],
   "source": [
    "%load_ext tensorboard"
   ]
  },
  {
   "cell_type": "code",
   "execution_count": 45,
   "metadata": {},
   "outputs": [],
   "source": [
    "y_train_int = y_train.astype(int)\n",
    "y_test_int = y_test.astype(int)"
   ]
  },
  {
   "cell_type": "code",
   "execution_count": 36,
   "metadata": {},
   "outputs": [
    {
     "name": "stdout",
     "output_type": "stream",
     "text": [
      "<class 'str'> <class 'str'>\n"
     ]
    }
   ],
   "source": [
    "print(type(y_train[4]), type(y_test[17]))"
   ]
  },
  {
   "cell_type": "code",
   "execution_count": 37,
   "metadata": {},
   "outputs": [
    {
     "data": {
      "text/plain": [
       "6    140\n",
       "1    140\n",
       "5    140\n",
       "0    140\n",
       "2    140\n",
       "8    140\n",
       "9    140\n",
       "7    140\n",
       "3    140\n",
       "4    140\n",
       "Name: label, dtype: int64"
      ]
     },
     "execution_count": 37,
     "metadata": {},
     "output_type": "execute_result"
    }
   ],
   "source": [
    "y_train_int.value_counts()"
   ]
  },
  {
   "cell_type": "code",
   "execution_count": 38,
   "metadata": {},
   "outputs": [
    {
     "data": {
      "text/plain": [
       "3    60\n",
       "5    60\n",
       "2    60\n",
       "6    60\n",
       "9    60\n",
       "0    60\n",
       "1    60\n",
       "4    60\n",
       "8    60\n",
       "7    60\n",
       "Name: label, dtype: int64"
      ]
     },
     "execution_count": 38,
     "metadata": {},
     "output_type": "execute_result"
    }
   ],
   "source": [
    "y_test_int.value_counts()"
   ]
  },
  {
   "cell_type": "code",
   "execution_count": 39,
   "metadata": {
    "id": "X8yg951AaNor"
   },
   "outputs": [
    {
     "name": "stderr",
     "output_type": "stream",
     "text": [
      "2022-09-03 10:30:00.477107: I tensorflow/core/util/util.cc:169] oneDNN custom operations are on. You may see slightly different numerical results due to floating-point round-off errors from different computation orders. To turn them off, set the environment variable `TF_ENABLE_ONEDNN_OPTS=0`.\n"
     ]
    }
   ],
   "source": [
    "from tensorflow.keras.layers import Input, LSTM, Dense, concatenate, Dropout, GlobalAveragePooling1D\n",
    "from tensorflow.keras.models import Model\n",
    "from sklearn.metrics import f1_score\n",
    "from time import time\n",
    "import tensorflow as tf\n",
    "from tensorflow.keras.callbacks import Callback, EarlyStopping, ModelCheckpoint,LearningRateScheduler\n",
    "from tensorflow.python.keras.callbacks import TensorBoard"
   ]
  },
  {
   "cell_type": "code",
   "execution_count": null,
   "metadata": {},
   "outputs": [],
   "source": []
  },
  {
   "cell_type": "code",
   "execution_count": null,
   "metadata": {},
   "outputs": [],
   "source": []
  },
  {
   "cell_type": "code",
   "execution_count": null,
   "metadata": {},
   "outputs": [],
   "source": []
  },
  {
   "cell_type": "code",
   "execution_count": 41,
   "metadata": {
    "id": "d8y1sgeVaNoy"
   },
   "outputs": [
    {
     "name": "stderr",
     "output_type": "stream",
     "text": [
      "2022-09-02 10:06:32.360235: E tensorflow/stream_executor/cuda/cuda_driver.cc:271] failed call to cuInit: CUDA_ERROR_UNKNOWN: unknown error\n",
      "2022-09-02 10:06:32.360304: I tensorflow/stream_executor/cuda/cuda_diagnostics.cc:156] kernel driver does not appear to be running on this host (ubuntu22): /proc/driver/nvidia/version does not exist\n",
      "2022-09-02 10:06:32.372677: I tensorflow/core/platform/cpu_feature_guard.cc:193] This TensorFlow binary is optimized with oneAPI Deep Neural Network Library (oneDNN) to use the following CPU instructions in performance-critical operations:  AVX2 AVX512F AVX512_VNNI FMA\n",
      "To enable them in other operations, rebuild TensorFlow with the appropriate compiler flags.\n"
     ]
    },
    {
     "name": "stdout",
     "output_type": "stream",
     "text": [
      "Model: \"model\"\n",
      "__________________________________________________________________________________________________\n",
      " Layer (type)                   Output Shape         Param #     Connected to                     \n",
      "==================================================================================================\n",
      " seq_inp (InputLayer)           [(None, 17640, 1)]   0           []                               \n",
      "                                                                                                  \n",
      " mask_inp (InputLayer)          [(None, 17640)]      0           []                               \n",
      "                                                                                                  \n",
      " lstm (LSTM)                    (None, 64)           16896       ['seq_inp[0][0]',                \n",
      "                                                                  'mask_inp[0][0]']               \n",
      "                                                                                                  \n",
      " dense (Dense)                  (None, 64)           4160        ['lstm[0][0]']                   \n",
      "                                                                                                  \n",
      " dropout (Dropout)              (None, 64)           0           ['dense[0][0]']                  \n",
      "                                                                                                  \n",
      " dense_1 (Dense)                (None, 10)           650         ['dropout[0][0]']                \n",
      "                                                                                                  \n",
      "==================================================================================================\n",
      "Total params: 21,706\n",
      "Trainable params: 21,706\n",
      "Non-trainable params: 0\n",
      "__________________________________________________________________________________________________\n"
     ]
    }
   ],
   "source": [
    "## as discussed above, please write the architecture of the model.\n",
    "## you will have two input layers in your model (data input layer and mask input layer)\n",
    "## make sure that you have defined the data type of masking layer as bool\n",
    "\n",
    "\n",
    "tf.keras.backend.clear_session()\n",
    "\n",
    "seq_inp_layer = Input(shape=(17640,1), dtype='float32',name='seq_inp')\n",
    "mask_inp_layer = Input(shape=(17640), dtype='bool',name='mask_inp')\n",
    "lstm = LSTM(64)(seq_inp_layer,mask=mask_inp_layer)\n",
    "fc1 = Dense(64,activation='relu',kernel_initializer='he_uniform')(lstm)\n",
    "dp1 = Dropout(0.2)(fc1)\n",
    "out_layer = Dense(10,activation='softmax')(dp1)\n",
    "\n",
    "model1 = Model(inputs=[seq_inp_layer,mask_inp_layer],outputs=out_layer)\n",
    "model1.summary()"
   ]
  },
  {
   "cell_type": "code",
   "execution_count": 42,
   "metadata": {
    "id": "RPj_DGW2aNo9"
   },
   "outputs": [
    {
     "data": {
      "image/png": "[encoded data removed]",
      "text/plain": [
       "<IPython.core.display.Image object>"
      ]
     },
     "execution_count": 42,
     "metadata": {},
     "output_type": "execute_result"
    }
   ],
   "source": [
    "tf.keras.utils.plot_model(model1, to_file='model1/model1.png')"
   ]
  },
  {
   "cell_type": "code",
   "execution_count": 43,
   "metadata": {},
   "outputs": [],
   "source": [
    "class Metrics(tf.keras.callbacks.Callback):\n",
    "    def __init__(self, validation_data):\n",
    "        super().__init__()\n",
    "        self.x_test = validation_data[0]\n",
    "        self.y_test = validation_data[1]\n",
    "        \n",
    "    def on_epoch_end(self, epoch, logs={}):\n",
    "        val_predict = (np.asarray(self.model.predict(self.x_test)))\n",
    "        val_label = np.argmax(val_predict, axis = 1)\n",
    "        val_targ = self.y_test\n",
    "        val_f1 = f1_score(val_targ, val_label, average='micro')\n",
    "        print(\"val_F1_score: \", val_f1)\n",
    "        \n",
    "metrics = Metrics(validation_data=([X_test_pad_seq,X_test_mask], y_test_int))"
   ]
  },
  {
   "cell_type": "code",
   "execution_count": 44,
   "metadata": {},
   "outputs": [
    {
     "name": "stderr",
     "output_type": "stream",
     "text": [
      "2022-09-02 10:06:34.157948: I tensorflow/core/profiler/lib/profiler_session.cc:99] Profiler session initializing.\n",
      "2022-09-02 10:06:34.158017: I tensorflow/core/profiler/lib/profiler_session.cc:114] Profiler session started.\n",
      "2022-09-02 10:06:34.191964: I tensorflow/core/profiler/lib/profiler_session.cc:126] Profiler session tear down.\n"
     ]
    }
   ],
   "source": [
    "tensorboard1 = TensorBoard(log_dir='model1/model1_logs'.format(time()), histogram_freq=1, write_graph=True,)"
   ]
  },
  {
   "cell_type": "code",
   "execution_count": 45,
   "metadata": {},
   "outputs": [],
   "source": [
    "callbacks = [\n",
    "    ModelCheckpoint(filepath='./model1/best_model_1.h5', save_weights_only = True, save_best_only = True, \\\n",
    "                                       mode = 'max', monitor = 'val_accuracy', verbose = 1),\n",
    "    tf.keras.callbacks.ReduceLROnPlateau(monitor = 'val_accuracy', patience = 1, mode = 'max', verbose = 1),\n",
    "    tf.keras.callbacks.CSVLogger('./model1/history.csv'),\n",
    "]\n",
    "\n",
    "\n",
    "model1.compile(loss='sparse_categorical_crossentropy', optimizer=tf.keras.optimizers.Adam(lr=0.06,decay = 1e-4),\n",
    "              metrics=['accuracy'])\n"
   ]
  },
  {
   "cell_type": "code",
   "execution_count": 46,
   "metadata": {
    "id": "MzpPjxvHaNpJ"
   },
   "outputs": [
    {
     "name": "stdout",
     "output_type": "stream",
     "text": [
      "Epoch 1/3\n",
      " 1/22 [>.............................] - ETA: 3:40 - loss: 2.3026 - accuracy: 0.0938"
     ]
    },
    {
     "name": "stderr",
     "output_type": "stream",
     "text": [
      "2022-09-02 10:06:45.713180: I tensorflow/core/profiler/lib/profiler_session.cc:99] Profiler session initializing.\n",
      "2022-09-02 10:06:45.713235: I tensorflow/core/profiler/lib/profiler_session.cc:114] Profiler session started.\n",
      "2022-09-02 10:06:56.415031: I tensorflow/core/profiler/lib/profiler_session.cc:66] Profiler session collecting data.\n",
      "2022-09-02 10:07:05.657513: I tensorflow/core/profiler/lib/profiler_session.cc:126] Profiler session tear down.\n",
      "2022-09-02 10:07:13.363033: I tensorflow/core/profiler/rpc/client/save_profile.cc:136] Creating directory: model1/model1_logs/train/plugins/profile/2022_09_02_10_07_06\n",
      "\n",
      "2022-09-02 10:07:16.463181: I tensorflow/core/profiler/rpc/client/save_profile.cc:142] Dumped gzipped tool data for trace.json.gz to model1/model1_logs/train/plugins/profile/2022_09_02_10_07_06/ubuntu22.trace.json.gz\n",
      "2022-09-02 10:07:21.106844: I tensorflow/core/profiler/rpc/client/save_profile.cc:136] Creating directory: model1/model1_logs/train/plugins/profile/2022_09_02_10_07_06\n",
      "\n",
      "2022-09-02 10:07:21.224181: I tensorflow/core/profiler/rpc/client/save_profile.cc:142] Dumped gzipped tool data for memory_profile.json.gz to model1/model1_logs/train/plugins/profile/2022_09_02_10_07_06/ubuntu22.memory_profile.json.gz\n",
      "2022-09-02 10:07:22.490586: I tensorflow/core/profiler/rpc/client/capture_profile.cc:251] Creating directory: model1/model1_logs/train/plugins/profile/2022_09_02_10_07_06\n",
      "Dumped tool data for xplane.pb to model1/model1_logs/train/plugins/profile/2022_09_02_10_07_06/ubuntu22.xplane.pb\n",
      "Dumped tool data for overview_page.pb to model1/model1_logs/train/plugins/profile/2022_09_02_10_07_06/ubuntu22.overview_page.pb\n",
      "Dumped tool data for input_pipeline.pb to model1/model1_logs/train/plugins/profile/2022_09_02_10_07_06/ubuntu22.input_pipeline.pb\n",
      "Dumped tool data for tensorflow_stats.pb to model1/model1_logs/train/plugins/profile/2022_09_02_10_07_06/ubuntu22.tensorflow_stats.pb\n",
      "Dumped tool data for kernel_stats.pb to model1/model1_logs/train/plugins/profile/2022_09_02_10_07_06/ubuntu22.kernel_stats.pb\n",
      "\n"
     ]
    },
    {
     "name": "stdout",
     "output_type": "stream",
     "text": [
      "22/22 [==============================] - ETA: 0s - loss: 2.3428 - accuracy: 0.1000 \n",
      "Epoch 1: val_accuracy improved from -inf to 0.10000, saving model to ./model1/best_model_1.h5\n",
      "19/19 [==============================] - 30s 2s/step\n",
      "val_F1_score:  0.10000000000000002\n",
      "22/22 [==============================] - 294s 13s/step - loss: 2.3428 - accuracy: 0.1000 - val_loss: 2.3091 - val_accuracy: 0.1000 - lr: 0.0600\n",
      "Epoch 2/3\n",
      "22/22 [==============================] - ETA: 0s - loss: 2.3191 - accuracy: 0.0921\n",
      "Epoch 2: val_accuracy did not improve from 0.10000\n",
      "\n",
      "Epoch 2: ReduceLROnPlateau reducing learning rate to 0.00599999986588955.\n",
      "19/19 [==============================] - 27s 1s/step\n",
      "val_F1_score:  0.10000000000000002\n",
      "22/22 [==============================] - 252s 12s/step - loss: 2.3191 - accuracy: 0.0921 - val_loss: 2.3069 - val_accuracy: 0.1000 - lr: 0.0600\n",
      "Epoch 3/3\n",
      "22/22 [==============================] - ETA: 0s - loss: 2.3068 - accuracy: 0.1000\n",
      "Epoch 3: val_accuracy did not improve from 0.10000\n",
      "\n",
      "Epoch 3: ReduceLROnPlateau reducing learning rate to 0.0006000000052154065.\n",
      "19/19 [==============================] - 32s 2s/step\n",
      "val_F1_score:  0.10000000000000002\n",
      "22/22 [==============================] - 268s 12s/step - loss: 2.3068 - accuracy: 0.1000 - val_loss: 2.3053 - val_accuracy: 0.1000 - lr: 0.0060\n"
     ]
    },
    {
     "data": {
      "text/plain": [
       "<keras.callbacks.History at 0x7fd3b0bfa680>"
      ]
     },
     "execution_count": 46,
     "metadata": {},
     "output_type": "execute_result"
    }
   ],
   "source": [
    "#train your model\n",
    "model1.fit([X_train_pad_seq,X_train_mask],y_train_int, batch_size=64, epochs=3, \n",
    "           validation_data=([X_test_pad_seq,X_test_mask], y_test_int), callbacks=[callbacks, metrics, tensorboard1],\n",
    "          )"
   ]
  },
  {
   "cell_type": "markdown",
   "metadata": {},
   "source": [
    "> <b>At end of 3 epoch val_F1_score 0.10</b>"
   ]
  },
  {
   "cell_type": "code",
   "execution_count": 48,
   "metadata": {},
   "outputs": [
    {
     "data": {
      "text/html": [
       "\n",
       "      <iframe id=\"tensorboard-frame-19f9fc797342e40b\" width=\"100%\" height=\"800\" frameborder=\"0\">\n",
       "      </iframe>\n",
       "      <script>\n",
       "        (function() {\n",
       "          const frame = document.getElementById(\"tensorboard-frame-19f9fc797342e40b\");\n",
       "          const url = new URL(\"/\", window.location);\n",
       "          const port = 6006;\n",
       "          if (port) {\n",
       "            url.port = port;\n",
       "          }\n",
       "          frame.src = url;\n",
       "        })();\n",
       "      </script>\n",
       "    "
      ],
      "text/plain": [
       "<IPython.core.display.HTML object>"
      ]
     },
     "metadata": {},
     "output_type": "display_data"
    }
   ],
   "source": [
    "%tensorboard --logdir model1/model1_logs"
   ]
  },
  {
   "cell_type": "code",
   "execution_count": 47,
   "metadata": {},
   "outputs": [
    {
     "data": {
      "text/plain": [
       "<matplotlib.legend.Legend at 0x7fd3a805d960>"
      ]
     },
     "execution_count": 47,
     "metadata": {},
     "output_type": "execute_result"
    },
    {
     "data": {
      "image/png": "[encoded data removed]",
      "text/plain": [
       "<Figure size 2160x360 with 1 Axes>"
      ]
     },
     "metadata": {
      "needs_background": "light"
     },
     "output_type": "display_data"
    }
   ],
   "source": [
    "# Plot training & validation iou_score values\n",
    "import matplotlib.pyplot as plt\n",
    "his = pd.read_csv('model1/history.csv')\n",
    "\n",
    "plt.figure(figsize=(30, 5))\n",
    "plt.subplot(121)\n",
    "plt.plot(his['loss'])\n",
    "plt.plot(his['val_loss'])\n",
    "plt.title('Model loss')\n",
    "plt.ylabel('loss')\n",
    "plt.xlabel('Epoch')\n",
    "plt.legend(['Train', 'Test'], loc='upper left')"
   ]
  },
  {
   "cell_type": "markdown",
   "metadata": {},
   "source": [
    "> <b> From the above plot we can ensure that model is not overfitted</b>"
   ]
  },
  {
   "cell_type": "markdown",
   "metadata": {
    "id": "2Fwk0X4zaNpR"
   },
   "source": [
    "### 2. Converting into spectrogram and giving spectrogram data as input  \n",
    "\n",
    "We can use librosa to convert raw data into spectrogram. A spectrogram shows the features in a two-dimensional representation with the\n",
    "intensity of a frequency at a point in time i.e we are converting Time domain to frequency domain. you can read more about this in https://pnsn.org/spectrograms/what-is-a-spectrogram\n"
   ]
  },
  {
   "cell_type": "code",
   "execution_count": 34,
   "metadata": {
    "id": "nb5AGzTjaNpS"
   },
   "outputs": [],
   "source": [
    "def convert_to_spectrogram(raw_data):\n",
    "    '''converting to spectrogram'''\n",
    "    spectrum = librosa.feature.melspectrogram(y=raw_data, sr=sample_rate, n_mels=64)\n",
    "    logmel_spectrum = librosa.power_to_db(S=spectrum, ref=np.max)\n",
    "    return logmel_spectrum"
   ]
  },
  {
   "cell_type": "code",
   "execution_count": 35,
   "metadata": {
    "id": "B__rN4RjaNpc"
   },
   "outputs": [],
   "source": [
    "##use convert_to_spectrogram and convert every raw sequence in X_train_pad_seq and X_test_pad-seq.\n",
    "## save those all in the X_train_spectrogram and X_test_spectrogram ( These two arrays must be numpy arrays)\n",
    "\n",
    "\n",
    "X_train_spectrogram = np.array(convert_to_spectrogram(X_train_pad_seq))\n",
    "X_test_spectrogram = np.array(convert_to_spectrogram(X_test_pad_seq))"
   ]
  },
  {
   "cell_type": "code",
   "execution_count": 36,
   "metadata": {},
   "outputs": [
    {
     "name": "stdout",
     "output_type": "stream",
     "text": [
      "(1400, 64, 35)\n",
      "(600, 64, 35)\n"
     ]
    }
   ],
   "source": [
    "print(X_train_spectrogram.shape)\n",
    "print(X_test_spectrogram.shape)"
   ]
  },
  {
   "cell_type": "markdown",
   "metadata": {
    "id": "zr1ynYZnaNpj"
   },
   "source": [
    "<font size=4>Grader function 6 </font>"
   ]
  },
  {
   "cell_type": "code",
   "execution_count": 37,
   "metadata": {
    "id": "oniXBXcsaNpk",
    "outputId": "0f94ec35-98af-4b98-c501-35cbbfbd0a2e"
   },
   "outputs": [
    {
     "data": {
      "text/plain": [
       "True"
      ]
     },
     "execution_count": 37,
     "metadata": {},
     "output_type": "execute_result"
    }
   ],
   "source": [
    "def grader_spectrogram():\n",
    "    flag_shape = (X_train_spectrogram.shape==(1400,64, 35)) and (X_test_spectrogram.shape == (600, 64, 35))\n",
    "    return flag_shape\n",
    "grader_spectrogram()"
   ]
  },
  {
   "cell_type": "markdown",
   "metadata": {
    "id": "xxlEVyIYaNpt"
   },
   "source": [
    "\n",
    "Now we have\n",
    "\n",
    "Train data: X_train_spectrogram and y_train  \n",
    "Test data: X_test_spectrogram and y_test   \n",
    "\n",
    "We will create a LSTM model which takes this input. \n",
    "\n",
    "Task:\n",
    "\n",
    "1. Create an LSTM network which takes \"X_train_spectrogram\" as input and has to return output at every time step. \n",
    "2. Average the output of every time step and give this to the Dense layer of any size. \n",
    "(ex: Output from LSTM will be  (None, time_steps, features) average the output of every time step i.e, you should get (None,time_steps) \n",
    "and then pass to dense layer )\n",
    "3. give the above output to Dense layer of size 10( output layer) and train the network with sparse categorical cross entropy.  \n",
    "4. Use tensorboard to plot the graphs of loss and metric(use custom micro F1 score as metric) and histograms of gradients. You can write your code for computing F1 score using this <a  href='https://i.imgur.com/8YULUcu.jpg'>link</a> \n",
    "5. make sure that it won't overfit. \n",
    "6. You are free to include any regularization\n"
   ]
  },
  {
   "cell_type": "code",
   "execution_count": 92,
   "metadata": {},
   "outputs": [
    {
     "name": "stdout",
     "output_type": "stream",
     "text": [
      "Model: \"model\"\n",
      "_________________________________________________________________\n",
      " Layer (type)                Output Shape              Param #   \n",
      "=================================================================\n",
      " X_train_pad_seq_input (Inpu  [(None, 64, 35)]         0         \n",
      " tLayer)                                                         \n",
      "                                                                 \n",
      " lstm (LSTM)                 (None, 64, 120)           74880     \n",
      "                                                                 \n",
      " global_average_pooling1d (G  (None, 120)              0         \n",
      " lobalAveragePooling1D)                                          \n",
      "                                                                 \n",
      " dense (Dense)               (None, 64)                7744      \n",
      "                                                                 \n",
      " p_re_lu (PReLU)             (None, 64)                64        \n",
      "                                                                 \n",
      " dropout (Dropout)           (None, 64)                0         \n",
      "                                                                 \n",
      " dense_1 (Dense)             (None, 10)                650       \n",
      "                                                                 \n",
      "=================================================================\n",
      "Total params: 83,338\n",
      "Trainable params: 83,338\n",
      "Non-trainable params: 0\n",
      "_________________________________________________________________\n"
     ]
    }
   ],
   "source": [
    "# write the architecture of the model\n",
    "#print model.summary and make sure that it is following point 2 mentioned above\n",
    "\n",
    "tf.keras.backend.clear_session()\n",
    "\n",
    "input_layer = Input(shape=(64, 35), name=\"X_train_pad_seq_input\", dtype='float32')\n",
    "\n",
    "lstm_output = LSTM(120, return_sequences=True, kernel_initializer=tf.keras.initializers.HeUniform())(input_layer)\n",
    "\n",
    "global_pooling = GlobalAveragePooling1D()(lstm_output)\n",
    "\n",
    "fc1 = Dense(64, kernel_initializer=tf.keras.initializers.HeUniform())(global_pooling)\n",
    "\n",
    "gelu_1 = tf.keras.layers.PReLU()(fc1)\n",
    "\n",
    "droup_1 = Dropout(0.2)(gelu_1)\n",
    "\n",
    "output = Dense(10,activation='softmax')(droup_1)\n",
    "\n",
    "model2 = Model(inputs = [input_layer], outputs = output) \n",
    "\n",
    "model2.summary()"
   ]
  },
  {
   "cell_type": "code",
   "execution_count": 73,
   "metadata": {},
   "outputs": [
    {
     "data": {
      "image/png": "[encoded data removed]",
      "text/plain": [
       "<IPython.core.display.Image object>"
      ]
     },
     "execution_count": 73,
     "metadata": {},
     "output_type": "execute_result"
    }
   ],
   "source": [
    "tf.keras.utils.plot_model(model2, to_file='model2/model2.png')"
   ]
  },
  {
   "cell_type": "code",
   "execution_count": 42,
   "metadata": {},
   "outputs": [
    {
     "data": {
      "text/plain": [
       "(600, 64, 35)"
      ]
     },
     "execution_count": 42,
     "metadata": {},
     "output_type": "execute_result"
    }
   ],
   "source": [
    "X_test_spectrogram.shape"
   ]
  },
  {
   "cell_type": "code",
   "execution_count": 46,
   "metadata": {},
   "outputs": [
    {
     "data": {
      "text/plain": [
       "(600,)"
      ]
     },
     "execution_count": 46,
     "metadata": {},
     "output_type": "execute_result"
    }
   ],
   "source": [
    "y_test_int.shape"
   ]
  },
  {
   "cell_type": "code",
   "execution_count": 93,
   "metadata": {},
   "outputs": [],
   "source": [
    "THRESHOLD = 0.8\n",
    "class Metrics(tf.keras.callbacks.Callback):\n",
    "    def __init__(self, validation_data):\n",
    "        super().__init__()\n",
    "        self.x_test = validation_data[0]\n",
    "        self.y_test = validation_data[1]\n",
    "        \n",
    "    def on_epoch_end(self, epoch, logs={}):\n",
    "        val_predict = (np.asarray(self.model.predict(self.x_test)))\n",
    "        val_label = np.argmax(val_predict, axis = 1)\n",
    "        val_targ = self.y_test\n",
    "        val_f1 = f1_score(val_targ, val_label, average='micro')\n",
    "        print(\"val_F1_score: \", val_f1)\n",
    "        \n",
    "        \n",
    "        if(val_f1 > 0.80):\n",
    "            print(\"\\nReached %2.2f%% val_F1_score, so stopping training!!\" %(THRESHOLD))\n",
    "            self.model.stop_training = True\n",
    "        \n",
    "        \n",
    "metrics = Metrics(validation_data=([X_test_spectrogram], y_test_int))"
   ]
  },
  {
   "cell_type": "code",
   "execution_count": 94,
   "metadata": {},
   "outputs": [
    {
     "name": "stderr",
     "output_type": "stream",
     "text": [
      "2022-09-03 12:40:39.048308: I tensorflow/core/profiler/lib/profiler_session.cc:99] Profiler session initializing.\n",
      "2022-09-03 12:40:39.048330: I tensorflow/core/profiler/lib/profiler_session.cc:114] Profiler session started.\n",
      "2022-09-03 12:40:39.048437: E tensorflow/core/profiler/internal/gpu/cupti_error_manager.cc:133] cuptiGetTimestamp: ignored due to a previous error.\n",
      "2022-09-03 12:40:39.048447: E tensorflow/core/profiler/internal/gpu/cupti_error_manager.cc:184] cuptiSubscribe: ignored due to a previous error.\n",
      "2022-09-03 12:40:39.048452: E tensorflow/core/profiler/internal/gpu/cupti_error_manager.cc:457] cuptiGetResultString: ignored due to a previous error.\n",
      "2022-09-03 12:40:39.048457: E tensorflow/core/profiler/internal/gpu/cupti_tracer.cc:1716] function cupti_interface_->Subscribe( &subscriber_, (CUpti_CallbackFunc)ApiCallback, this)failed with error \n",
      "2022-09-03 12:40:39.048600: I tensorflow/core/profiler/lib/profiler_session.cc:126] Profiler session tear down.\n",
      "2022-09-03 12:40:39.048639: E tensorflow/core/profiler/internal/gpu/cupti_error_manager.cc:140] cuptiFinalize: ignored due to a previous error.\n",
      "2022-09-03 12:40:39.048644: E tensorflow/core/profiler/internal/gpu/cupti_error_manager.cc:457] cuptiGetResultString: ignored due to a previous error.\n",
      "2022-09-03 12:40:39.048647: E tensorflow/core/profiler/internal/gpu/cupti_tracer.cc:1808] function cupti_interface_->Finalize()failed with error \n"
     ]
    }
   ],
   "source": [
    "tensorboard2 = TensorBoard(log_dir='model2/model2_logs'.format(time()), histogram_freq=1, write_graph=True,)"
   ]
  },
  {
   "cell_type": "code",
   "execution_count": 95,
   "metadata": {},
   "outputs": [],
   "source": [
    "callbacks2 = [\n",
    "    ModelCheckpoint(filepath='./model2/best_model_2.h5', save_weights_only = True, save_best_only = True, \\\n",
    "                                       mode = 'max', monitor = 'val_accuracy', verbose = 1),\n",
    "    #tf.keras.callbacks.ReduceLROnPlateau(monitor = 'val_accuracy', patience = 1, mode = 'max', verbose = 1,factor=0.9),\n",
    "    tf.keras.callbacks.CSVLogger('./model2/history.csv'),\n",
    "]\n",
    "\n",
    "#compile model.\n",
    "model2.compile(loss='sparse_categorical_crossentropy', optimizer=tf.keras.optimizers.Adam(lr=0.0006),\n",
    "              metrics=['accuracy'])\n"
   ]
  },
  {
   "cell_type": "code",
   "execution_count": 96,
   "metadata": {
    "scrolled": true
   },
   "outputs": [
    {
     "name": "stdout",
     "output_type": "stream",
     "text": [
      "Epoch 1/3000\n",
      " 1/22 [>.............................] - ETA: 30s - loss: 2.4855 - accuracy: 0.1406"
     ]
    },
    {
     "name": "stderr",
     "output_type": "stream",
     "text": [
      "2022-09-03 12:41:07.930551: I tensorflow/core/profiler/lib/profiler_session.cc:99] Profiler session initializing.\n",
      "2022-09-03 12:41:07.930584: I tensorflow/core/profiler/lib/profiler_session.cc:114] Profiler session started.\n",
      "2022-09-03 12:41:07.930627: E tensorflow/core/profiler/internal/gpu/cupti_error_manager.cc:133] cuptiGetTimestamp: ignored due to a previous error.\n",
      "2022-09-03 12:41:07.930634: E tensorflow/core/profiler/internal/gpu/cupti_error_manager.cc:184] cuptiSubscribe: ignored due to a previous error.\n",
      "2022-09-03 12:41:07.930643: E tensorflow/core/profiler/internal/gpu/cupti_error_manager.cc:457] cuptiGetResultString: ignored due to a previous error.\n",
      "2022-09-03 12:41:07.930647: E tensorflow/core/profiler/internal/gpu/cupti_tracer.cc:1716] function cupti_interface_->Subscribe( &subscriber_, (CUpti_CallbackFunc)ApiCallback, this)failed with error \n",
      "2022-09-03 12:41:08.060668: I tensorflow/core/profiler/lib/profiler_session.cc:66] Profiler session collecting data.\n",
      "2022-09-03 12:41:08.061841: E tensorflow/core/profiler/internal/gpu/cupti_error_manager.cc:140] cuptiFinalize: ignored due to a previous error.\n",
      "2022-09-03 12:41:08.061855: E tensorflow/core/profiler/internal/gpu/cupti_error_manager.cc:457] cuptiGetResultString: ignored due to a previous error.\n",
      "2022-09-03 12:41:08.061860: E tensorflow/core/profiler/internal/gpu/cupti_tracer.cc:1808] function cupti_interface_->Finalize()failed with error \n",
      "2022-09-03 12:41:08.081096: E tensorflow/core/profiler/internal/gpu/cupti_error_manager.cc:133] cuptiGetTimestamp: ignored due to a previous error.\n",
      "2022-09-03 12:41:08.081116: E tensorflow/core/profiler/internal/gpu/cupti_error_manager.cc:133] cuptiGetTimestamp: ignored due to a previous error.\n",
      "2022-09-03 12:41:08.081122: I tensorflow/core/profiler/internal/gpu/cupti_collector.cc:521]  GpuTracer has collected 0 callback api events and 0 activity events. \n",
      "2022-09-03 12:41:08.106824: I tensorflow/core/profiler/lib/profiler_session.cc:126] Profiler session tear down.\n"
     ]
    },
    {
     "name": "stdout",
     "output_type": "stream",
     "text": [
      " 3/22 [===>..........................] - ETA: 3s - loss: 2.5174 - accuracy: 0.1094"
     ]
    },
    {
     "name": "stderr",
     "output_type": "stream",
     "text": [
      "2022-09-03 12:41:08.143810: I tensorflow/core/profiler/rpc/client/save_profile.cc:136] Creating directory: model2/model2_logs/train/plugins/profile/2022_09_03_12_41_08\n",
      "\n",
      "2022-09-03 12:41:08.173122: I tensorflow/core/profiler/rpc/client/save_profile.cc:142] Dumped gzipped tool data for trace.json.gz to model2/model2_logs/train/plugins/profile/2022_09_03_12_41_08/AI-iiitg.trace.json.gz\n",
      "2022-09-03 12:41:08.215991: I tensorflow/core/profiler/rpc/client/save_profile.cc:136] Creating directory: model2/model2_logs/train/plugins/profile/2022_09_03_12_41_08\n",
      "\n",
      "2022-09-03 12:41:08.220813: I tensorflow/core/profiler/rpc/client/save_profile.cc:142] Dumped gzipped tool data for memory_profile.json.gz to model2/model2_logs/train/plugins/profile/2022_09_03_12_41_08/AI-iiitg.memory_profile.json.gz\n",
      "2022-09-03 12:41:08.221435: I tensorflow/core/profiler/rpc/client/capture_profile.cc:251] Creating directory: model2/model2_logs/train/plugins/profile/2022_09_03_12_41_08\n",
      "Dumped tool data for xplane.pb to model2/model2_logs/train/plugins/profile/2022_09_03_12_41_08/AI-iiitg.xplane.pb\n",
      "Dumped tool data for overview_page.pb to model2/model2_logs/train/plugins/profile/2022_09_03_12_41_08/AI-iiitg.overview_page.pb\n",
      "Dumped tool data for input_pipeline.pb to model2/model2_logs/train/plugins/profile/2022_09_03_12_41_08/AI-iiitg.input_pipeline.pb\n",
      "Dumped tool data for tensorflow_stats.pb to model2/model2_logs/train/plugins/profile/2022_09_03_12_41_08/AI-iiitg.tensorflow_stats.pb\n",
      "Dumped tool data for kernel_stats.pb to model2/model2_logs/train/plugins/profile/2022_09_03_12_41_08/AI-iiitg.kernel_stats.pb\n",
      "\n"
     ]
    },
    {
     "name": "stdout",
     "output_type": "stream",
     "text": [
      "21/22 [===========================>..] - ETA: 0s - loss: 2.4031 - accuracy: 0.0990\n",
      "Epoch 1: val_accuracy improved from -inf to 0.11667, saving model to ./model2/best_model_2.h5\n",
      "19/19 [==============================] - 1s 15ms/step\n",
      "val_F1_score:  0.11666666666666667\n",
      "22/22 [==============================] - 4s 131ms/step - loss: 2.3996 - accuracy: 0.1000 - val_loss: 2.3009 - val_accuracy: 0.1167\n",
      "Epoch 2/3000\n",
      "22/22 [==============================] - ETA: 0s - loss: 2.2978 - accuracy: 0.1164\n",
      "Epoch 2: val_accuracy improved from 0.11667 to 0.12500, saving model to ./model2/best_model_2.h5\n",
      "19/19 [==============================] - 0s 15ms/step\n",
      "val_F1_score:  0.125\n",
      "22/22 [==============================] - 2s 87ms/step - loss: 2.2978 - accuracy: 0.1164 - val_loss: 2.2635 - val_accuracy: 0.1250\n",
      "Epoch 3/3000\n",
      "22/22 [==============================] - ETA: 0s - loss: 2.2479 - accuracy: 0.1593\n",
      "Epoch 3: val_accuracy improved from 0.12500 to 0.15833, saving model to ./model2/best_model_2.h5\n",
      "19/19 [==============================] - 0s 15ms/step\n",
      "val_F1_score:  0.15833333333333333\n",
      "22/22 [==============================] - 3s 133ms/step - loss: 2.2479 - accuracy: 0.1593 - val_loss: 2.2371 - val_accuracy: 0.1583\n",
      "Epoch 4/3000\n",
      "22/22 [==============================] - ETA: 0s - loss: 2.2107 - accuracy: 0.1786\n",
      "Epoch 4: val_accuracy improved from 0.15833 to 0.20167, saving model to ./model2/best_model_2.h5\n",
      "19/19 [==============================] - 0s 15ms/step\n",
      "val_F1_score:  0.20166666666666663\n",
      "22/22 [==============================] - 2s 89ms/step - loss: 2.2107 - accuracy: 0.1786 - val_loss: 2.2071 - val_accuracy: 0.2017\n",
      "Epoch 5/3000\n",
      "22/22 [==============================] - ETA: 0s - loss: 2.1851 - accuracy: 0.1936\n",
      "Epoch 5: val_accuracy did not improve from 0.20167\n",
      "19/19 [==============================] - 0s 15ms/step\n",
      "val_F1_score:  0.20000000000000004\n",
      "22/22 [==============================] - 2s 92ms/step - loss: 2.1851 - accuracy: 0.1936 - val_loss: 2.1756 - val_accuracy: 0.2000\n",
      "Epoch 6/3000\n",
      "22/22 [==============================] - ETA: 0s - loss: 2.1352 - accuracy: 0.2250\n",
      "Epoch 6: val_accuracy did not improve from 0.20167\n",
      "19/19 [==============================] - 0s 16ms/step\n",
      "val_F1_score:  0.20166666666666663\n",
      "22/22 [==============================] - 2s 90ms/step - loss: 2.1352 - accuracy: 0.2250 - val_loss: 2.1487 - val_accuracy: 0.2017\n",
      "Epoch 7/3000\n",
      "22/22 [==============================] - ETA: 0s - loss: 2.1161 - accuracy: 0.2300\n",
      "Epoch 7: val_accuracy improved from 0.20167 to 0.21167, saving model to ./model2/best_model_2.h5\n",
      "19/19 [==============================] - 0s 16ms/step\n",
      "val_F1_score:  0.21166666666666667\n",
      "22/22 [==============================] - 2s 91ms/step - loss: 2.1161 - accuracy: 0.2300 - val_loss: 2.1258 - val_accuracy: 0.2117\n",
      "Epoch 8/3000\n",
      "22/22 [==============================] - ETA: 0s - loss: 2.0926 - accuracy: 0.2407\n",
      "Epoch 8: val_accuracy improved from 0.21167 to 0.24667, saving model to ./model2/best_model_2.h5\n",
      "19/19 [==============================] - 0s 16ms/step\n",
      "val_F1_score:  0.2466666666666667\n",
      "22/22 [==============================] - 2s 92ms/step - loss: 2.0926 - accuracy: 0.2407 - val_loss: 2.1005 - val_accuracy: 0.2467\n",
      "Epoch 9/3000\n",
      "22/22 [==============================] - ETA: 0s - loss: 2.0654 - accuracy: 0.2686\n",
      "Epoch 9: val_accuracy improved from 0.24667 to 0.25500, saving model to ./model2/best_model_2.h5\n",
      "19/19 [==============================] - 0s 15ms/step\n",
      "val_F1_score:  0.255\n",
      "22/22 [==============================] - 2s 90ms/step - loss: 2.0654 - accuracy: 0.2686 - val_loss: 2.0708 - val_accuracy: 0.2550\n",
      "Epoch 10/3000\n",
      "22/22 [==============================] - ETA: 0s - loss: 2.0290 - accuracy: 0.2764\n",
      "Epoch 10: val_accuracy improved from 0.25500 to 0.30167, saving model to ./model2/best_model_2.h5\n",
      "19/19 [==============================] - 0s 16ms/step\n",
      "val_F1_score:  0.3016666666666667\n",
      "22/22 [==============================] - 2s 91ms/step - loss: 2.0290 - accuracy: 0.2764 - val_loss: 2.0472 - val_accuracy: 0.3017\n",
      "Epoch 11/3000\n",
      "22/22 [==============================] - ETA: 0s - loss: 2.0166 - accuracy: 0.2779\n",
      "Epoch 11: val_accuracy did not improve from 0.30167\n",
      "19/19 [==============================] - 0s 15ms/step\n",
      "val_F1_score:  0.2816666666666667\n",
      "22/22 [==============================] - 2s 91ms/step - loss: 2.0166 - accuracy: 0.2779 - val_loss: 2.0412 - val_accuracy: 0.2817\n",
      "Epoch 12/3000\n",
      "22/22 [==============================] - ETA: 0s - loss: 1.9868 - accuracy: 0.2957\n",
      "Epoch 12: val_accuracy did not improve from 0.30167\n",
      "19/19 [==============================] - 0s 16ms/step\n",
      "val_F1_score:  0.3\n",
      "22/22 [==============================] - 2s 91ms/step - loss: 1.9868 - accuracy: 0.2957 - val_loss: 2.0021 - val_accuracy: 0.3000\n",
      "Epoch 13/3000\n",
      "22/22 [==============================] - ETA: 0s - loss: 1.9632 - accuracy: 0.3000\n",
      "Epoch 13: val_accuracy improved from 0.30167 to 0.33167, saving model to ./model2/best_model_2.h5\n",
      "19/19 [==============================] - 0s 15ms/step\n",
      "val_F1_score:  0.33166666666666667\n",
      "22/22 [==============================] - 2s 89ms/step - loss: 1.9632 - accuracy: 0.3000 - val_loss: 1.9687 - val_accuracy: 0.3317\n",
      "Epoch 14/3000\n",
      "22/22 [==============================] - ETA: 0s - loss: 1.9164 - accuracy: 0.3250\n",
      "Epoch 14: val_accuracy did not improve from 0.33167\n",
      "19/19 [==============================] - 0s 15ms/step\n",
      "val_F1_score:  0.3283333333333333\n",
      "22/22 [==============================] - 2s 90ms/step - loss: 1.9164 - accuracy: 0.3250 - val_loss: 1.9482 - val_accuracy: 0.3283\n",
      "Epoch 15/3000\n",
      "22/22 [==============================] - ETA: 0s - loss: 1.9024 - accuracy: 0.3286\n",
      "Epoch 15: val_accuracy improved from 0.33167 to 0.36000, saving model to ./model2/best_model_2.h5\n",
      "19/19 [==============================] - 0s 15ms/step\n",
      "val_F1_score:  0.36\n",
      "22/22 [==============================] - 2s 88ms/step - loss: 1.9024 - accuracy: 0.3286 - val_loss: 1.9207 - val_accuracy: 0.3600\n",
      "Epoch 16/3000\n",
      "22/22 [==============================] - ETA: 0s - loss: 1.8910 - accuracy: 0.3457\n",
      "Epoch 16: val_accuracy did not improve from 0.36000\n",
      "19/19 [==============================] - 0s 15ms/step\n",
      "val_F1_score:  0.3516666666666667\n",
      "22/22 [==============================] - 2s 89ms/step - loss: 1.8910 - accuracy: 0.3457 - val_loss: 1.8967 - val_accuracy: 0.3517\n",
      "Epoch 17/3000\n",
      "22/22 [==============================] - ETA: 0s - loss: 1.8493 - accuracy: 0.3400\n",
      "Epoch 17: val_accuracy did not improve from 0.36000\n",
      "19/19 [==============================] - 0s 15ms/step\n",
      "val_F1_score:  0.35333333333333333\n",
      "22/22 [==============================] - 2s 88ms/step - loss: 1.8493 - accuracy: 0.3400 - val_loss: 1.8845 - val_accuracy: 0.3533\n",
      "Epoch 18/3000\n",
      "22/22 [==============================] - ETA: 0s - loss: 1.8302 - accuracy: 0.3550\n",
      "Epoch 18: val_accuracy improved from 0.36000 to 0.36333, saving model to ./model2/best_model_2.h5\n",
      "19/19 [==============================] - 0s 15ms/step\n",
      "val_F1_score:  0.3633333333333333\n",
      "22/22 [==============================] - 2s 88ms/step - loss: 1.8302 - accuracy: 0.3550 - val_loss: 1.8780 - val_accuracy: 0.3633\n",
      "Epoch 19/3000\n",
      "22/22 [==============================] - ETA: 0s - loss: 1.8147 - accuracy: 0.3707\n",
      "Epoch 19: val_accuracy did not improve from 0.36333\n",
      "19/19 [==============================] - 0s 15ms/step\n",
      "val_F1_score:  0.3616666666666667\n",
      "22/22 [==============================] - 2s 90ms/step - loss: 1.8147 - accuracy: 0.3707 - val_loss: 1.8396 - val_accuracy: 0.3617\n",
      "Epoch 20/3000\n",
      "22/22 [==============================] - ETA: 0s - loss: 1.7844 - accuracy: 0.3586\n",
      "Epoch 20: val_accuracy did not improve from 0.36333\n",
      "19/19 [==============================] - 0s 15ms/step\n",
      "val_F1_score:  0.36\n",
      "22/22 [==============================] - 2s 89ms/step - loss: 1.7844 - accuracy: 0.3586 - val_loss: 1.8093 - val_accuracy: 0.3600\n",
      "Epoch 21/3000\n",
      "22/22 [==============================] - ETA: 0s - loss: 1.7470 - accuracy: 0.4000\n",
      "Epoch 21: val_accuracy did not improve from 0.36333\n",
      "19/19 [==============================] - 0s 15ms/step\n",
      "val_F1_score:  0.35\n",
      "22/22 [==============================] - 2s 88ms/step - loss: 1.7470 - accuracy: 0.4000 - val_loss: 1.8187 - val_accuracy: 0.3500\n",
      "Epoch 22/3000\n",
      "22/22 [==============================] - ETA: 0s - loss: 1.7280 - accuracy: 0.3936\n",
      "Epoch 22: val_accuracy improved from 0.36333 to 0.40000, saving model to ./model2/best_model_2.h5\n",
      "19/19 [==============================] - 0s 16ms/step\n",
      "val_F1_score:  0.4000000000000001\n",
      "22/22 [==============================] - 2s 89ms/step - loss: 1.7280 - accuracy: 0.3936 - val_loss: 1.7779 - val_accuracy: 0.4000\n",
      "Epoch 23/3000\n",
      "22/22 [==============================] - ETA: 0s - loss: 1.7143 - accuracy: 0.4029\n",
      "Epoch 23: val_accuracy improved from 0.40000 to 0.40667, saving model to ./model2/best_model_2.h5\n",
      "19/19 [==============================] - 0s 16ms/step\n",
      "val_F1_score:  0.4066666666666667\n",
      "22/22 [==============================] - 2s 90ms/step - loss: 1.7143 - accuracy: 0.4029 - val_loss: 1.7504 - val_accuracy: 0.4067\n",
      "Epoch 24/3000\n",
      "22/22 [==============================] - ETA: 0s - loss: 1.6765 - accuracy: 0.4243\n",
      "Epoch 24: val_accuracy improved from 0.40667 to 0.41000, saving model to ./model2/best_model_2.h5\n",
      "19/19 [==============================] - 0s 15ms/step\n",
      "val_F1_score:  0.41\n",
      "22/22 [==============================] - 2s 88ms/step - loss: 1.6765 - accuracy: 0.4243 - val_loss: 1.7567 - val_accuracy: 0.4100\n",
      "Epoch 25/3000\n",
      "22/22 [==============================] - ETA: 0s - loss: 1.6703 - accuracy: 0.4164\n",
      "Epoch 25: val_accuracy improved from 0.41000 to 0.42167, saving model to ./model2/best_model_2.h5\n",
      "19/19 [==============================] - 0s 16ms/step\n",
      "val_F1_score:  0.42166666666666675\n",
      "22/22 [==============================] - 2s 90ms/step - loss: 1.6703 - accuracy: 0.4164 - val_loss: 1.7170 - val_accuracy: 0.4217\n",
      "Epoch 26/3000\n",
      "22/22 [==============================] - ETA: 0s - loss: 1.6204 - accuracy: 0.4314\n",
      "Epoch 26: val_accuracy improved from 0.42167 to 0.46000, saving model to ./model2/best_model_2.h5\n",
      "19/19 [==============================] - 0s 15ms/step\n",
      "val_F1_score:  0.46\n",
      "22/22 [==============================] - 2s 88ms/step - loss: 1.6204 - accuracy: 0.4314 - val_loss: 1.6800 - val_accuracy: 0.4600\n",
      "Epoch 27/3000\n",
      "22/22 [==============================] - ETA: 0s - loss: 1.6064 - accuracy: 0.4507\n",
      "Epoch 27: val_accuracy improved from 0.46000 to 0.46667, saving model to ./model2/best_model_2.h5\n",
      "19/19 [==============================] - 0s 16ms/step\n",
      "val_F1_score:  0.4666666666666667\n",
      "22/22 [==============================] - 2s 91ms/step - loss: 1.6064 - accuracy: 0.4507 - val_loss: 1.6497 - val_accuracy: 0.4667\n",
      "Epoch 28/3000\n",
      "22/22 [==============================] - ETA: 0s - loss: 1.5897 - accuracy: 0.4571\n",
      "Epoch 28: val_accuracy did not improve from 0.46667\n",
      "19/19 [==============================] - 0s 16ms/step\n",
      "val_F1_score:  0.4483333333333333\n",
      "22/22 [==============================] - 2s 91ms/step - loss: 1.5897 - accuracy: 0.4571 - val_loss: 1.6441 - val_accuracy: 0.4483\n",
      "Epoch 29/3000\n",
      "22/22 [==============================] - ETA: 0s - loss: 1.5836 - accuracy: 0.4486\n",
      "Epoch 29: val_accuracy improved from 0.46667 to 0.48167, saving model to ./model2/best_model_2.h5\n",
      "19/19 [==============================] - 0s 14ms/step\n",
      "val_F1_score:  0.4816666666666667\n",
      "22/22 [==============================] - 2s 89ms/step - loss: 1.5836 - accuracy: 0.4486 - val_loss: 1.6488 - val_accuracy: 0.4817\n",
      "Epoch 30/3000\n",
      "22/22 [==============================] - ETA: 0s - loss: 1.5438 - accuracy: 0.4643\n",
      "Epoch 30: val_accuracy improved from 0.48167 to 0.49667, saving model to ./model2/best_model_2.h5\n",
      "19/19 [==============================] - 0s 15ms/step\n",
      "val_F1_score:  0.49666666666666665\n",
      "22/22 [==============================] - 2s 90ms/step - loss: 1.5438 - accuracy: 0.4643 - val_loss: 1.6010 - val_accuracy: 0.4967\n",
      "Epoch 31/3000\n",
      "22/22 [==============================] - ETA: 0s - loss: 1.5211 - accuracy: 0.4836\n",
      "Epoch 31: val_accuracy did not improve from 0.49667\n",
      "19/19 [==============================] - 0s 15ms/step\n",
      "val_F1_score:  0.4866666666666667\n",
      "22/22 [==============================] - 2s 94ms/step - loss: 1.5211 - accuracy: 0.4836 - val_loss: 1.5814 - val_accuracy: 0.4867\n",
      "Epoch 32/3000\n",
      "22/22 [==============================] - ETA: 0s - loss: 1.5126 - accuracy: 0.4714\n",
      "Epoch 32: val_accuracy did not improve from 0.49667\n",
      "19/19 [==============================] - 0s 16ms/step\n",
      "val_F1_score:  0.48833333333333334\n",
      "22/22 [==============================] - 2s 92ms/step - loss: 1.5126 - accuracy: 0.4714 - val_loss: 1.5863 - val_accuracy: 0.4883\n",
      "Epoch 33/3000\n",
      "22/22 [==============================] - ETA: 0s - loss: 1.5065 - accuracy: 0.4886\n",
      "Epoch 33: val_accuracy improved from 0.49667 to 0.50833, saving model to ./model2/best_model_2.h5\n",
      "19/19 [==============================] - 0s 15ms/step\n",
      "val_F1_score:  0.5083333333333333\n",
      "22/22 [==============================] - 2s 91ms/step - loss: 1.5065 - accuracy: 0.4886 - val_loss: 1.5661 - val_accuracy: 0.5083\n",
      "Epoch 34/3000\n",
      "22/22 [==============================] - ETA: 0s - loss: 1.4550 - accuracy: 0.5021\n",
      "Epoch 34: val_accuracy did not improve from 0.50833\n",
      "19/19 [==============================] - 0s 15ms/step\n",
      "val_F1_score:  0.49833333333333335\n",
      "22/22 [==============================] - 2s 89ms/step - loss: 1.4550 - accuracy: 0.5021 - val_loss: 1.5514 - val_accuracy: 0.4983\n",
      "Epoch 35/3000\n",
      "22/22 [==============================] - ETA: 0s - loss: 1.4605 - accuracy: 0.4964\n",
      "Epoch 35: val_accuracy improved from 0.50833 to 0.52667, saving model to ./model2/best_model_2.h5\n",
      "19/19 [==============================] - 0s 15ms/step\n",
      "val_F1_score:  0.5266666666666666\n",
      "22/22 [==============================] - 2s 90ms/step - loss: 1.4605 - accuracy: 0.4964 - val_loss: 1.5276 - val_accuracy: 0.5267\n",
      "Epoch 36/3000\n",
      "22/22 [==============================] - ETA: 0s - loss: 1.4256 - accuracy: 0.5200\n",
      "Epoch 36: val_accuracy improved from 0.52667 to 0.53500, saving model to ./model2/best_model_2.h5\n",
      "19/19 [==============================] - 0s 15ms/step\n",
      "val_F1_score:  0.535\n",
      "22/22 [==============================] - 2s 90ms/step - loss: 1.4256 - accuracy: 0.5200 - val_loss: 1.5287 - val_accuracy: 0.5350\n",
      "Epoch 37/3000\n",
      "22/22 [==============================] - ETA: 0s - loss: 1.4071 - accuracy: 0.5186\n",
      "Epoch 37: val_accuracy improved from 0.53500 to 0.54833, saving model to ./model2/best_model_2.h5\n",
      "19/19 [==============================] - 0s 14ms/step\n",
      "val_F1_score:  0.5483333333333333\n",
      "22/22 [==============================] - 2s 88ms/step - loss: 1.4071 - accuracy: 0.5186 - val_loss: 1.4808 - val_accuracy: 0.5483\n",
      "Epoch 38/3000\n",
      "22/22 [==============================] - ETA: 0s - loss: 1.3859 - accuracy: 0.5250\n",
      "Epoch 38: val_accuracy did not improve from 0.54833\n",
      "19/19 [==============================] - 0s 15ms/step\n",
      "val_F1_score:  0.5366666666666666\n",
      "22/22 [==============================] - 2s 89ms/step - loss: 1.3859 - accuracy: 0.5250 - val_loss: 1.5092 - val_accuracy: 0.5367\n",
      "Epoch 39/3000\n",
      "22/22 [==============================] - ETA: 0s - loss: 1.3872 - accuracy: 0.5314\n",
      "Epoch 39: val_accuracy did not improve from 0.54833\n",
      "19/19 [==============================] - 0s 16ms/step\n",
      "val_F1_score:  0.53\n",
      "22/22 [==============================] - 2s 91ms/step - loss: 1.3872 - accuracy: 0.5314 - val_loss: 1.4748 - val_accuracy: 0.5300\n",
      "Epoch 40/3000\n",
      "22/22 [==============================] - ETA: 0s - loss: 1.3603 - accuracy: 0.5457\n",
      "Epoch 40: val_accuracy did not improve from 0.54833\n",
      "19/19 [==============================] - 0s 15ms/step\n",
      "val_F1_score:  0.5216666666666666\n",
      "22/22 [==============================] - 2s 89ms/step - loss: 1.3603 - accuracy: 0.5457 - val_loss: 1.4922 - val_accuracy: 0.5217\n",
      "Epoch 41/3000\n",
      "22/22 [==============================] - ETA: 0s - loss: 1.3909 - accuracy: 0.5107\n",
      "Epoch 41: val_accuracy did not improve from 0.54833\n",
      "19/19 [==============================] - 0s 16ms/step\n",
      "val_F1_score:  0.5166666666666667\n",
      "22/22 [==============================] - 2s 89ms/step - loss: 1.3909 - accuracy: 0.5107 - val_loss: 1.4916 - val_accuracy: 0.5167\n",
      "Epoch 42/3000\n",
      "22/22 [==============================] - ETA: 0s - loss: 1.3437 - accuracy: 0.5429\n",
      "Epoch 42: val_accuracy did not improve from 0.54833\n",
      "19/19 [==============================] - 0s 16ms/step\n",
      "val_F1_score:  0.545\n",
      "22/22 [==============================] - 2s 89ms/step - loss: 1.3437 - accuracy: 0.5429 - val_loss: 1.4604 - val_accuracy: 0.5450\n",
      "Epoch 43/3000\n",
      "22/22 [==============================] - ETA: 0s - loss: 1.3291 - accuracy: 0.5443\n",
      "Epoch 43: val_accuracy improved from 0.54833 to 0.57167, saving model to ./model2/best_model_2.h5\n",
      "19/19 [==============================] - 0s 16ms/step\n",
      "val_F1_score:  0.5716666666666667\n",
      "22/22 [==============================] - 2s 88ms/step - loss: 1.3291 - accuracy: 0.5443 - val_loss: 1.4430 - val_accuracy: 0.5717\n",
      "Epoch 44/3000\n",
      "22/22 [==============================] - ETA: 0s - loss: 1.3038 - accuracy: 0.5450\n",
      "Epoch 44: val_accuracy did not improve from 0.57167\n",
      "19/19 [==============================] - 0s 15ms/step\n",
      "val_F1_score:  0.55\n",
      "22/22 [==============================] - 2s 89ms/step - loss: 1.3038 - accuracy: 0.5450 - val_loss: 1.4408 - val_accuracy: 0.5500\n",
      "Epoch 45/3000\n",
      "22/22 [==============================] - ETA: 0s - loss: 1.2852 - accuracy: 0.5793\n",
      "Epoch 45: val_accuracy did not improve from 0.57167\n",
      "19/19 [==============================] - 0s 14ms/step\n",
      "val_F1_score:  0.5716666666666667\n",
      "22/22 [==============================] - 2s 88ms/step - loss: 1.2852 - accuracy: 0.5793 - val_loss: 1.4287 - val_accuracy: 0.5717\n",
      "Epoch 46/3000\n",
      "22/22 [==============================] - ETA: 0s - loss: 1.2906 - accuracy: 0.5700\n",
      "Epoch 46: val_accuracy did not improve from 0.57167\n",
      "19/19 [==============================] - 0s 15ms/step\n",
      "val_F1_score:  0.56\n",
      "22/22 [==============================] - 2s 86ms/step - loss: 1.2906 - accuracy: 0.5700 - val_loss: 1.4211 - val_accuracy: 0.5600\n",
      "Epoch 47/3000\n",
      "22/22 [==============================] - ETA: 0s - loss: 1.2538 - accuracy: 0.5700\n",
      "Epoch 47: val_accuracy did not improve from 0.57167\n",
      "19/19 [==============================] - 0s 15ms/step\n",
      "val_F1_score:  0.545\n",
      "22/22 [==============================] - 2s 88ms/step - loss: 1.2538 - accuracy: 0.5700 - val_loss: 1.4208 - val_accuracy: 0.5450\n",
      "Epoch 48/3000\n",
      "22/22 [==============================] - ETA: 0s - loss: 1.2427 - accuracy: 0.5850\n",
      "Epoch 48: val_accuracy did not improve from 0.57167\n",
      "19/19 [==============================] - 0s 15ms/step\n",
      "val_F1_score:  0.5683333333333334\n",
      "22/22 [==============================] - 2s 89ms/step - loss: 1.2427 - accuracy: 0.5850 - val_loss: 1.4128 - val_accuracy: 0.5683\n",
      "Epoch 49/3000\n",
      "21/22 [===========================>..] - ETA: 0s - loss: 1.2503 - accuracy: 0.5647\n",
      "Epoch 49: val_accuracy improved from 0.57167 to 0.58500, saving model to ./model2/best_model_2.h5\n",
      "19/19 [==============================] - 0s 14ms/step\n",
      "val_F1_score:  0.585\n",
      "22/22 [==============================] - 2s 88ms/step - loss: 1.2531 - accuracy: 0.5621 - val_loss: 1.3495 - val_accuracy: 0.5850\n",
      "Epoch 50/3000\n",
      "22/22 [==============================] - ETA: 0s - loss: 1.2391 - accuracy: 0.5700\n",
      "Epoch 50: val_accuracy did not improve from 0.58500\n",
      "19/19 [==============================] - 0s 14ms/step\n",
      "val_F1_score:  0.5666666666666667\n",
      "22/22 [==============================] - 2s 85ms/step - loss: 1.2391 - accuracy: 0.5700 - val_loss: 1.3887 - val_accuracy: 0.5667\n",
      "Epoch 51/3000\n",
      "22/22 [==============================] - ETA: 0s - loss: 1.2432 - accuracy: 0.5650\n",
      "Epoch 51: val_accuracy did not improve from 0.58500\n",
      "19/19 [==============================] - 0s 16ms/step\n",
      "val_F1_score:  0.5583333333333333\n",
      "22/22 [==============================] - 2s 89ms/step - loss: 1.2432 - accuracy: 0.5650 - val_loss: 1.3772 - val_accuracy: 0.5583\n",
      "Epoch 52/3000\n",
      "22/22 [==============================] - ETA: 0s - loss: 1.2337 - accuracy: 0.5729\n",
      "Epoch 52: val_accuracy did not improve from 0.58500\n",
      "19/19 [==============================] - 0s 15ms/step\n",
      "val_F1_score:  0.57\n",
      "22/22 [==============================] - 2s 88ms/step - loss: 1.2337 - accuracy: 0.5729 - val_loss: 1.3489 - val_accuracy: 0.5700\n",
      "Epoch 53/3000\n",
      "22/22 [==============================] - ETA: 0s - loss: 1.2067 - accuracy: 0.5886\n",
      "Epoch 53: val_accuracy did not improve from 0.58500\n",
      "19/19 [==============================] - 0s 15ms/step\n",
      "val_F1_score:  0.58\n",
      "22/22 [==============================] - 2s 88ms/step - loss: 1.2067 - accuracy: 0.5886 - val_loss: 1.3291 - val_accuracy: 0.5800\n",
      "Epoch 54/3000\n",
      "22/22 [==============================] - ETA: 0s - loss: 1.1911 - accuracy: 0.5971\n",
      "Epoch 54: val_accuracy did not improve from 0.58500\n",
      "19/19 [==============================] - 0s 15ms/step\n",
      "val_F1_score:  0.5466666666666666\n",
      "22/22 [==============================] - 2s 89ms/step - loss: 1.1911 - accuracy: 0.5971 - val_loss: 1.3588 - val_accuracy: 0.5467\n",
      "Epoch 55/3000\n",
      "22/22 [==============================] - ETA: 0s - loss: 1.1895 - accuracy: 0.6043\n",
      "Epoch 55: val_accuracy did not improve from 0.58500\n",
      "19/19 [==============================] - 0s 15ms/step\n",
      "val_F1_score:  0.5833333333333334\n",
      "22/22 [==============================] - 2s 88ms/step - loss: 1.1895 - accuracy: 0.6043 - val_loss: 1.3204 - val_accuracy: 0.5833\n",
      "Epoch 56/3000\n",
      "22/22 [==============================] - ETA: 0s - loss: 1.1676 - accuracy: 0.6043\n",
      "Epoch 56: val_accuracy improved from 0.58500 to 0.59333, saving model to ./model2/best_model_2.h5\n",
      "19/19 [==============================] - 0s 15ms/step\n",
      "val_F1_score:  0.5933333333333334\n",
      "22/22 [==============================] - 2s 88ms/step - loss: 1.1676 - accuracy: 0.6043 - val_loss: 1.3102 - val_accuracy: 0.5933\n",
      "Epoch 57/3000\n",
      "22/22 [==============================] - ETA: 0s - loss: 1.1544 - accuracy: 0.5871\n",
      "Epoch 57: val_accuracy improved from 0.59333 to 0.60833, saving model to ./model2/best_model_2.h5\n",
      "19/19 [==============================] - 0s 15ms/step\n",
      "val_F1_score:  0.6083333333333333\n",
      "22/22 [==============================] - 2s 88ms/step - loss: 1.1544 - accuracy: 0.5871 - val_loss: 1.2844 - val_accuracy: 0.6083\n",
      "Epoch 58/3000\n",
      "22/22 [==============================] - ETA: 0s - loss: 1.1344 - accuracy: 0.6129\n",
      "Epoch 58: val_accuracy improved from 0.60833 to 0.62500, saving model to ./model2/best_model_2.h5\n",
      "19/19 [==============================] - 0s 16ms/step\n",
      "val_F1_score:  0.625\n",
      "22/22 [==============================] - 2s 90ms/step - loss: 1.1344 - accuracy: 0.6129 - val_loss: 1.2811 - val_accuracy: 0.6250\n",
      "Epoch 59/3000\n",
      "22/22 [==============================] - ETA: 0s - loss: 1.1291 - accuracy: 0.6286\n",
      "Epoch 59: val_accuracy did not improve from 0.62500\n",
      "19/19 [==============================] - 0s 15ms/step\n",
      "val_F1_score:  0.6033333333333334\n",
      "22/22 [==============================] - 2s 89ms/step - loss: 1.1291 - accuracy: 0.6286 - val_loss: 1.2706 - val_accuracy: 0.6033\n",
      "Epoch 60/3000\n",
      "22/22 [==============================] - ETA: 0s - loss: 1.1154 - accuracy: 0.6121\n",
      "Epoch 60: val_accuracy did not improve from 0.62500\n",
      "19/19 [==============================] - 0s 15ms/step\n",
      "val_F1_score:  0.61\n",
      "22/22 [==============================] - 2s 88ms/step - loss: 1.1154 - accuracy: 0.6121 - val_loss: 1.2876 - val_accuracy: 0.6100\n",
      "Epoch 61/3000\n",
      "22/22 [==============================] - ETA: 0s - loss: 1.0916 - accuracy: 0.6336\n",
      "Epoch 61: val_accuracy did not improve from 0.62500\n",
      "19/19 [==============================] - 0s 15ms/step\n",
      "val_F1_score:  0.6016666666666667\n",
      "22/22 [==============================] - 2s 89ms/step - loss: 1.0916 - accuracy: 0.6336 - val_loss: 1.2539 - val_accuracy: 0.6017\n",
      "Epoch 62/3000\n",
      "22/22 [==============================] - ETA: 0s - loss: 1.0921 - accuracy: 0.6300\n",
      "Epoch 62: val_accuracy did not improve from 0.62500\n",
      "19/19 [==============================] - 0s 15ms/step\n",
      "val_F1_score:  0.5966666666666667\n",
      "22/22 [==============================] - 2s 91ms/step - loss: 1.0921 - accuracy: 0.6300 - val_loss: 1.2577 - val_accuracy: 0.5967\n",
      "Epoch 63/3000\n",
      "22/22 [==============================] - ETA: 0s - loss: 1.0717 - accuracy: 0.6421\n",
      "Epoch 63: val_accuracy did not improve from 0.62500\n",
      "19/19 [==============================] - 0s 16ms/step\n",
      "val_F1_score:  0.62\n",
      "22/22 [==============================] - 2s 89ms/step - loss: 1.0717 - accuracy: 0.6421 - val_loss: 1.2592 - val_accuracy: 0.6200\n",
      "Epoch 64/3000\n",
      "22/22 [==============================] - ETA: 0s - loss: 1.0869 - accuracy: 0.6286\n",
      "Epoch 64: val_accuracy improved from 0.62500 to 0.62667, saving model to ./model2/best_model_2.h5\n",
      "19/19 [==============================] - 0s 14ms/step\n",
      "val_F1_score:  0.6266666666666667\n",
      "22/22 [==============================] - 2s 89ms/step - loss: 1.0869 - accuracy: 0.6286 - val_loss: 1.2185 - val_accuracy: 0.6267\n",
      "Epoch 65/3000\n",
      "22/22 [==============================] - ETA: 0s - loss: 1.0659 - accuracy: 0.6329\n",
      "Epoch 65: val_accuracy improved from 0.62667 to 0.63333, saving model to ./model2/best_model_2.h5\n",
      "19/19 [==============================] - 0s 15ms/step\n",
      "val_F1_score:  0.6333333333333333\n",
      "22/22 [==============================] - 2s 89ms/step - loss: 1.0659 - accuracy: 0.6329 - val_loss: 1.1968 - val_accuracy: 0.6333\n",
      "Epoch 66/3000\n",
      "22/22 [==============================] - ETA: 0s - loss: 1.0600 - accuracy: 0.6386\n",
      "Epoch 66: val_accuracy did not improve from 0.63333\n",
      "19/19 [==============================] - 0s 15ms/step\n",
      "val_F1_score:  0.6083333333333333\n",
      "22/22 [==============================] - 2s 88ms/step - loss: 1.0600 - accuracy: 0.6386 - val_loss: 1.2545 - val_accuracy: 0.6083\n",
      "Epoch 67/3000\n",
      "22/22 [==============================] - ETA: 0s - loss: 1.0541 - accuracy: 0.6364\n",
      "Epoch 67: val_accuracy did not improve from 0.63333\n",
      "19/19 [==============================] - 0s 13ms/step\n",
      "val_F1_score:  0.6033333333333334\n",
      "22/22 [==============================] - 2s 85ms/step - loss: 1.0541 - accuracy: 0.6364 - val_loss: 1.2413 - val_accuracy: 0.6033\n",
      "Epoch 68/3000\n",
      "22/22 [==============================] - ETA: 0s - loss: 1.0465 - accuracy: 0.6386\n",
      "Epoch 68: val_accuracy did not improve from 0.63333\n",
      "19/19 [==============================] - 0s 15ms/step\n",
      "val_F1_score:  0.6116666666666667\n",
      "22/22 [==============================] - 2s 88ms/step - loss: 1.0465 - accuracy: 0.6386 - val_loss: 1.2559 - val_accuracy: 0.6117\n",
      "Epoch 69/3000\n",
      "22/22 [==============================] - ETA: 0s - loss: 1.0440 - accuracy: 0.6550\n",
      "Epoch 69: val_accuracy did not improve from 0.63333\n",
      "19/19 [==============================] - 0s 14ms/step\n",
      "val_F1_score:  0.6116666666666667\n",
      "22/22 [==============================] - 2s 88ms/step - loss: 1.0440 - accuracy: 0.6550 - val_loss: 1.2222 - val_accuracy: 0.6117\n",
      "Epoch 70/3000\n",
      "22/22 [==============================] - ETA: 0s - loss: 1.0224 - accuracy: 0.6564\n",
      "Epoch 70: val_accuracy did not improve from 0.63333\n",
      "19/19 [==============================] - 0s 16ms/step\n",
      "val_F1_score:  0.6016666666666667\n",
      "22/22 [==============================] - 2s 88ms/step - loss: 1.0224 - accuracy: 0.6564 - val_loss: 1.2420 - val_accuracy: 0.6017\n",
      "Epoch 71/3000\n",
      "22/22 [==============================] - ETA: 0s - loss: 1.0217 - accuracy: 0.6621\n",
      "Epoch 71: val_accuracy did not improve from 0.63333\n",
      "19/19 [==============================] - 0s 14ms/step\n",
      "val_F1_score:  0.6283333333333333\n",
      "22/22 [==============================] - 2s 90ms/step - loss: 1.0217 - accuracy: 0.6621 - val_loss: 1.2015 - val_accuracy: 0.6283\n",
      "Epoch 72/3000\n",
      "22/22 [==============================] - ETA: 0s - loss: 0.9950 - accuracy: 0.6557\n",
      "Epoch 72: val_accuracy did not improve from 0.63333\n",
      "19/19 [==============================] - 0s 14ms/step\n",
      "val_F1_score:  0.6316666666666667\n",
      "22/22 [==============================] - 2s 89ms/step - loss: 0.9950 - accuracy: 0.6557 - val_loss: 1.1793 - val_accuracy: 0.6317\n",
      "Epoch 73/3000\n",
      "22/22 [==============================] - ETA: 0s - loss: 1.0087 - accuracy: 0.6586\n",
      "Epoch 73: val_accuracy did not improve from 0.63333\n",
      "19/19 [==============================] - 0s 15ms/step\n",
      "val_F1_score:  0.6233333333333333\n",
      "22/22 [==============================] - 2s 87ms/step - loss: 1.0087 - accuracy: 0.6586 - val_loss: 1.2058 - val_accuracy: 0.6233\n",
      "Epoch 74/3000\n",
      "22/22 [==============================] - ETA: 0s - loss: 0.9852 - accuracy: 0.6693\n",
      "Epoch 74: val_accuracy did not improve from 0.63333\n",
      "19/19 [==============================] - 0s 15ms/step\n",
      "val_F1_score:  0.6233333333333333\n",
      "22/22 [==============================] - 2s 89ms/step - loss: 0.9852 - accuracy: 0.6693 - val_loss: 1.1774 - val_accuracy: 0.6233\n",
      "Epoch 75/3000\n",
      "22/22 [==============================] - ETA: 0s - loss: 1.0006 - accuracy: 0.6714\n",
      "Epoch 75: val_accuracy improved from 0.63333 to 0.65333, saving model to ./model2/best_model_2.h5\n",
      "19/19 [==============================] - 0s 15ms/step\n",
      "val_F1_score:  0.6533333333333333\n",
      "22/22 [==============================] - 2s 88ms/step - loss: 1.0006 - accuracy: 0.6714 - val_loss: 1.1670 - val_accuracy: 0.6533\n",
      "Epoch 76/3000\n",
      "22/22 [==============================] - ETA: 0s - loss: 0.9758 - accuracy: 0.6793\n",
      "Epoch 76: val_accuracy did not improve from 0.65333\n",
      "19/19 [==============================] - 0s 14ms/step\n",
      "val_F1_score:  0.62\n",
      "22/22 [==============================] - 2s 88ms/step - loss: 0.9758 - accuracy: 0.6793 - val_loss: 1.1938 - val_accuracy: 0.6200\n",
      "Epoch 77/3000\n",
      "22/22 [==============================] - ETA: 0s - loss: 0.9782 - accuracy: 0.6636\n",
      "Epoch 77: val_accuracy did not improve from 0.65333\n",
      "19/19 [==============================] - 0s 14ms/step\n",
      "val_F1_score:  0.6166666666666667\n",
      "22/22 [==============================] - 2s 85ms/step - loss: 0.9782 - accuracy: 0.6636 - val_loss: 1.2292 - val_accuracy: 0.6167\n",
      "Epoch 78/3000\n",
      "22/22 [==============================] - ETA: 0s - loss: 0.9916 - accuracy: 0.6707\n",
      "Epoch 78: val_accuracy did not improve from 0.65333\n",
      "19/19 [==============================] - 0s 15ms/step\n",
      "val_F1_score:  0.6283333333333333\n",
      "22/22 [==============================] - 2s 89ms/step - loss: 0.9916 - accuracy: 0.6707 - val_loss: 1.1703 - val_accuracy: 0.6283\n",
      "Epoch 79/3000\n",
      "22/22 [==============================] - ETA: 0s - loss: 0.9435 - accuracy: 0.6929\n",
      "Epoch 79: val_accuracy did not improve from 0.65333\n",
      "19/19 [==============================] - 0s 16ms/step\n",
      "val_F1_score:  0.6266666666666667\n",
      "22/22 [==============================] - 2s 89ms/step - loss: 0.9435 - accuracy: 0.6929 - val_loss: 1.1782 - val_accuracy: 0.6267\n",
      "Epoch 80/3000\n",
      "22/22 [==============================] - ETA: 0s - loss: 0.9424 - accuracy: 0.6821\n",
      "Epoch 80: val_accuracy did not improve from 0.65333\n",
      "19/19 [==============================] - 0s 15ms/step\n",
      "val_F1_score:  0.64\n",
      "22/22 [==============================] - 2s 91ms/step - loss: 0.9424 - accuracy: 0.6821 - val_loss: 1.1348 - val_accuracy: 0.6400\n",
      "Epoch 81/3000\n",
      "22/22 [==============================] - ETA: 0s - loss: 0.9243 - accuracy: 0.6836\n",
      "Epoch 81: val_accuracy did not improve from 0.65333\n",
      "19/19 [==============================] - 0s 15ms/step\n",
      "val_F1_score:  0.6433333333333333\n",
      "22/22 [==============================] - 2s 90ms/step - loss: 0.9243 - accuracy: 0.6836 - val_loss: 1.1544 - val_accuracy: 0.6433\n",
      "Epoch 82/3000\n",
      "22/22 [==============================] - ETA: 0s - loss: 0.9221 - accuracy: 0.6857\n",
      "Epoch 82: val_accuracy did not improve from 0.65333\n",
      "19/19 [==============================] - 0s 15ms/step\n",
      "val_F1_score:  0.6116666666666667\n",
      "22/22 [==============================] - 2s 90ms/step - loss: 0.9221 - accuracy: 0.6857 - val_loss: 1.1832 - val_accuracy: 0.6117\n",
      "Epoch 83/3000\n",
      "22/22 [==============================] - ETA: 0s - loss: 0.9127 - accuracy: 0.6957\n",
      "Epoch 83: val_accuracy did not improve from 0.65333\n",
      "19/19 [==============================] - 0s 15ms/step\n",
      "val_F1_score:  0.64\n",
      "22/22 [==============================] - 2s 89ms/step - loss: 0.9127 - accuracy: 0.6957 - val_loss: 1.1714 - val_accuracy: 0.6400\n",
      "Epoch 84/3000\n",
      "22/22 [==============================] - ETA: 0s - loss: 0.9307 - accuracy: 0.6886\n",
      "Epoch 84: val_accuracy improved from 0.65333 to 0.65667, saving model to ./model2/best_model_2.h5\n",
      "19/19 [==============================] - 0s 15ms/step\n",
      "val_F1_score:  0.6566666666666666\n",
      "22/22 [==============================] - 2s 89ms/step - loss: 0.9307 - accuracy: 0.6886 - val_loss: 1.1209 - val_accuracy: 0.6567\n",
      "Epoch 85/3000\n",
      "22/22 [==============================] - ETA: 0s - loss: 0.9105 - accuracy: 0.6900\n",
      "Epoch 85: val_accuracy did not improve from 0.65667\n",
      "19/19 [==============================] - 0s 15ms/step\n",
      "val_F1_score:  0.65\n",
      "22/22 [==============================] - 2s 88ms/step - loss: 0.9105 - accuracy: 0.6900 - val_loss: 1.1517 - val_accuracy: 0.6500\n",
      "Epoch 86/3000\n",
      "22/22 [==============================] - ETA: 0s - loss: 0.9062 - accuracy: 0.6971\n",
      "Epoch 86: val_accuracy did not improve from 0.65667\n",
      "19/19 [==============================] - 0s 14ms/step\n",
      "val_F1_score:  0.65\n",
      "22/22 [==============================] - 2s 84ms/step - loss: 0.9062 - accuracy: 0.6971 - val_loss: 1.1046 - val_accuracy: 0.6500\n",
      "Epoch 87/3000\n",
      "22/22 [==============================] - ETA: 0s - loss: 0.9094 - accuracy: 0.6800\n",
      "Epoch 87: val_accuracy did not improve from 0.65667\n",
      "19/19 [==============================] - 0s 14ms/step\n",
      "val_F1_score:  0.645\n",
      "22/22 [==============================] - 2s 84ms/step - loss: 0.9094 - accuracy: 0.6800 - val_loss: 1.1236 - val_accuracy: 0.6450\n",
      "Epoch 88/3000\n",
      "22/22 [==============================] - ETA: 0s - loss: 0.8960 - accuracy: 0.6929\n",
      "Epoch 88: val_accuracy did not improve from 0.65667\n",
      "19/19 [==============================] - 0s 15ms/step\n",
      "val_F1_score:  0.6333333333333333\n",
      "22/22 [==============================] - 2s 89ms/step - loss: 0.8960 - accuracy: 0.6929 - val_loss: 1.1332 - val_accuracy: 0.6333\n",
      "Epoch 89/3000\n",
      "22/22 [==============================] - ETA: 0s - loss: 0.8805 - accuracy: 0.7007\n",
      "Epoch 89: val_accuracy improved from 0.65667 to 0.66333, saving model to ./model2/best_model_2.h5\n",
      "19/19 [==============================] - 0s 12ms/step\n",
      "val_F1_score:  0.6633333333333333\n",
      "22/22 [==============================] - 2s 82ms/step - loss: 0.8805 - accuracy: 0.7007 - val_loss: 1.1145 - val_accuracy: 0.6633\n",
      "Epoch 90/3000\n",
      "21/22 [===========================>..] - ETA: 0s - loss: 0.8924 - accuracy: 0.6882\n",
      "Epoch 90: val_accuracy did not improve from 0.66333\n",
      "19/19 [==============================] - 0s 15ms/step\n",
      "val_F1_score:  0.645\n",
      "22/22 [==============================] - 2s 70ms/step - loss: 0.8953 - accuracy: 0.6871 - val_loss: 1.0948 - val_accuracy: 0.6450\n",
      "Epoch 91/3000\n",
      "22/22 [==============================] - ETA: 0s - loss: 0.8679 - accuracy: 0.7150\n",
      "Epoch 91: val_accuracy did not improve from 0.66333\n",
      "19/19 [==============================] - 0s 16ms/step\n",
      "val_F1_score:  0.635\n",
      "22/22 [==============================] - 2s 88ms/step - loss: 0.8679 - accuracy: 0.7150 - val_loss: 1.1142 - val_accuracy: 0.6350\n",
      "Epoch 92/3000\n",
      "22/22 [==============================] - ETA: 0s - loss: 0.8564 - accuracy: 0.7057\n",
      "Epoch 92: val_accuracy did not improve from 0.66333\n",
      "19/19 [==============================] - 0s 15ms/step\n",
      "val_F1_score:  0.6566666666666666\n",
      "22/22 [==============================] - 2s 88ms/step - loss: 0.8564 - accuracy: 0.7057 - val_loss: 1.0595 - val_accuracy: 0.6567\n",
      "Epoch 93/3000\n",
      "22/22 [==============================] - ETA: 0s - loss: 0.8548 - accuracy: 0.7164\n",
      "Epoch 93: val_accuracy did not improve from 0.66333\n",
      "19/19 [==============================] - 0s 16ms/step\n",
      "val_F1_score:  0.65\n",
      "22/22 [==============================] - 2s 90ms/step - loss: 0.8548 - accuracy: 0.7164 - val_loss: 1.1506 - val_accuracy: 0.6500\n",
      "Epoch 94/3000\n",
      "22/22 [==============================] - ETA: 0s - loss: 0.8410 - accuracy: 0.7029\n",
      "Epoch 94: val_accuracy did not improve from 0.66333\n",
      "19/19 [==============================] - 0s 15ms/step\n",
      "val_F1_score:  0.6566666666666666\n",
      "22/22 [==============================] - 2s 85ms/step - loss: 0.8410 - accuracy: 0.7029 - val_loss: 1.0740 - val_accuracy: 0.6567\n",
      "Epoch 95/3000\n",
      "22/22 [==============================] - ETA: 0s - loss: 0.8471 - accuracy: 0.7100\n",
      "Epoch 95: val_accuracy did not improve from 0.66333\n",
      "19/19 [==============================] - 0s 15ms/step\n",
      "val_F1_score:  0.6416666666666667\n",
      "22/22 [==============================] - 2s 89ms/step - loss: 0.8471 - accuracy: 0.7100 - val_loss: 1.1273 - val_accuracy: 0.6417\n",
      "Epoch 96/3000\n",
      "22/22 [==============================] - ETA: 0s - loss: 0.8453 - accuracy: 0.7093\n",
      "Epoch 96: val_accuracy did not improve from 0.66333\n",
      "19/19 [==============================] - 0s 13ms/step\n",
      "val_F1_score:  0.65\n",
      "22/22 [==============================] - 2s 83ms/step - loss: 0.8453 - accuracy: 0.7093 - val_loss: 1.1359 - val_accuracy: 0.6500\n",
      "Epoch 97/3000\n",
      "22/22 [==============================] - ETA: 0s - loss: 0.8202 - accuracy: 0.7243\n",
      "Epoch 97: val_accuracy did not improve from 0.66333\n",
      "19/19 [==============================] - 0s 14ms/step\n",
      "val_F1_score:  0.64\n",
      "22/22 [==============================] - 2s 87ms/step - loss: 0.8202 - accuracy: 0.7243 - val_loss: 1.1484 - val_accuracy: 0.6400\n",
      "Epoch 98/3000\n",
      "22/22 [==============================] - ETA: 0s - loss: 0.8311 - accuracy: 0.7321\n",
      "Epoch 98: val_accuracy did not improve from 0.66333\n",
      "19/19 [==============================] - 0s 14ms/step\n",
      "val_F1_score:  0.66\n",
      "22/22 [==============================] - 2s 86ms/step - loss: 0.8311 - accuracy: 0.7321 - val_loss: 1.1054 - val_accuracy: 0.6600\n",
      "Epoch 99/3000\n",
      "22/22 [==============================] - ETA: 0s - loss: 0.8194 - accuracy: 0.7321\n",
      "Epoch 99: val_accuracy did not improve from 0.66333\n",
      "19/19 [==============================] - 0s 14ms/step\n",
      "val_F1_score:  0.6466666666666666\n",
      "22/22 [==============================] - 2s 79ms/step - loss: 0.8194 - accuracy: 0.7321 - val_loss: 1.1231 - val_accuracy: 0.6467\n",
      "Epoch 100/3000\n",
      "22/22 [==============================] - ETA: 0s - loss: 0.8011 - accuracy: 0.7364\n",
      "Epoch 100: val_accuracy improved from 0.66333 to 0.67833, saving model to ./model2/best_model_2.h5\n",
      "19/19 [==============================] - 0s 15ms/step\n",
      "val_F1_score:  0.6783333333333333\n",
      "22/22 [==============================] - 2s 84ms/step - loss: 0.8011 - accuracy: 0.7364 - val_loss: 1.0840 - val_accuracy: 0.6783\n",
      "Epoch 101/3000\n",
      "21/22 [===========================>..] - ETA: 0s - loss: 0.8010 - accuracy: 0.7210\n",
      "Epoch 101: val_accuracy did not improve from 0.67833\n",
      "19/19 [==============================] - 0s 14ms/step\n",
      "val_F1_score:  0.675\n",
      "22/22 [==============================] - 2s 86ms/step - loss: 0.8107 - accuracy: 0.7214 - val_loss: 1.0791 - val_accuracy: 0.6750\n",
      "Epoch 102/3000\n",
      "22/22 [==============================] - ETA: 0s - loss: 0.8444 - accuracy: 0.7079\n",
      "Epoch 102: val_accuracy did not improve from 0.67833\n",
      "19/19 [==============================] - 0s 15ms/step\n",
      "val_F1_score:  0.6616666666666666\n",
      "22/22 [==============================] - 2s 87ms/step - loss: 0.8444 - accuracy: 0.7079 - val_loss: 1.0492 - val_accuracy: 0.6617\n",
      "Epoch 103/3000\n",
      "22/22 [==============================] - ETA: 0s - loss: 0.8089 - accuracy: 0.7300\n",
      "Epoch 103: val_accuracy improved from 0.67833 to 0.68000, saving model to ./model2/best_model_2.h5\n",
      "19/19 [==============================] - 0s 15ms/step\n",
      "val_F1_score:  0.68\n",
      "22/22 [==============================] - 2s 88ms/step - loss: 0.8089 - accuracy: 0.7300 - val_loss: 1.0716 - val_accuracy: 0.6800\n",
      "Epoch 104/3000\n",
      "22/22 [==============================] - ETA: 0s - loss: 0.7828 - accuracy: 0.7400\n",
      "Epoch 104: val_accuracy improved from 0.68000 to 0.68333, saving model to ./model2/best_model_2.h5\n",
      "19/19 [==============================] - 0s 14ms/step\n",
      "val_F1_score:  0.6833333333333333\n",
      "22/22 [==============================] - 2s 87ms/step - loss: 0.7828 - accuracy: 0.7400 - val_loss: 1.0410 - val_accuracy: 0.6833\n",
      "Epoch 105/3000\n",
      "22/22 [==============================] - ETA: 0s - loss: 0.7980 - accuracy: 0.7357\n",
      "Epoch 105: val_accuracy did not improve from 0.68333\n",
      "19/19 [==============================] - 0s 15ms/step\n",
      "val_F1_score:  0.655\n",
      "22/22 [==============================] - 2s 89ms/step - loss: 0.7980 - accuracy: 0.7357 - val_loss: 1.1173 - val_accuracy: 0.6550\n",
      "Epoch 106/3000\n",
      "22/22 [==============================] - ETA: 0s - loss: 0.7987 - accuracy: 0.7364\n",
      "Epoch 106: val_accuracy did not improve from 0.68333\n",
      "19/19 [==============================] - 0s 15ms/step\n",
      "val_F1_score:  0.6666666666666666\n",
      "22/22 [==============================] - 2s 88ms/step - loss: 0.7987 - accuracy: 0.7364 - val_loss: 1.0859 - val_accuracy: 0.6667\n",
      "Epoch 107/3000\n",
      "22/22 [==============================] - ETA: 0s - loss: 0.7701 - accuracy: 0.7429\n",
      "Epoch 107: val_accuracy did not improve from 0.68333\n",
      "19/19 [==============================] - 0s 13ms/step\n",
      "val_F1_score:  0.6733333333333333\n",
      "22/22 [==============================] - 2s 87ms/step - loss: 0.7701 - accuracy: 0.7429 - val_loss: 1.0693 - val_accuracy: 0.6733\n",
      "Epoch 108/3000\n",
      "22/22 [==============================] - ETA: 0s - loss: 0.7776 - accuracy: 0.7329\n",
      "Epoch 108: val_accuracy did not improve from 0.68333\n",
      "19/19 [==============================] - 0s 16ms/step\n",
      "val_F1_score:  0.6766666666666666\n",
      "22/22 [==============================] - 2s 88ms/step - loss: 0.7776 - accuracy: 0.7329 - val_loss: 1.0331 - val_accuracy: 0.6767\n",
      "Epoch 109/3000\n",
      "22/22 [==============================] - ETA: 0s - loss: 0.7755 - accuracy: 0.7407\n",
      "Epoch 109: val_accuracy did not improve from 0.68333\n",
      "19/19 [==============================] - 0s 14ms/step\n",
      "val_F1_score:  0.6816666666666666\n",
      "22/22 [==============================] - 2s 91ms/step - loss: 0.7755 - accuracy: 0.7407 - val_loss: 1.0235 - val_accuracy: 0.6817\n",
      "Epoch 110/3000\n",
      "22/22 [==============================] - ETA: 0s - loss: 0.7923 - accuracy: 0.7271\n",
      "Epoch 110: val_accuracy did not improve from 0.68333\n",
      "19/19 [==============================] - 0s 15ms/step\n",
      "val_F1_score:  0.675\n",
      "22/22 [==============================] - 2s 87ms/step - loss: 0.7923 - accuracy: 0.7271 - val_loss: 1.0363 - val_accuracy: 0.6750\n",
      "Epoch 111/3000\n",
      "22/22 [==============================] - ETA: 0s - loss: 0.7849 - accuracy: 0.7329\n",
      "Epoch 111: val_accuracy did not improve from 0.68333\n",
      "19/19 [==============================] - 0s 14ms/step\n",
      "val_F1_score:  0.68\n",
      "22/22 [==============================] - 2s 84ms/step - loss: 0.7849 - accuracy: 0.7329 - val_loss: 1.0127 - val_accuracy: 0.6800\n",
      "Epoch 112/3000\n",
      "22/22 [==============================] - ETA: 0s - loss: 0.7777 - accuracy: 0.7364\n",
      "Epoch 112: val_accuracy did not improve from 0.68333\n",
      "19/19 [==============================] - 0s 15ms/step\n",
      "val_F1_score:  0.6816666666666666\n",
      "22/22 [==============================] - 2s 89ms/step - loss: 0.7777 - accuracy: 0.7364 - val_loss: 1.0193 - val_accuracy: 0.6817\n",
      "Epoch 113/3000\n",
      "22/22 [==============================] - ETA: 0s - loss: 0.7542 - accuracy: 0.7464\n",
      "Epoch 113: val_accuracy did not improve from 0.68333\n",
      "19/19 [==============================] - 0s 14ms/step\n",
      "val_F1_score:  0.665\n",
      "22/22 [==============================] - 2s 88ms/step - loss: 0.7542 - accuracy: 0.7464 - val_loss: 1.0483 - val_accuracy: 0.6650\n",
      "Epoch 114/3000\n",
      "22/22 [==============================] - ETA: 0s - loss: 0.7519 - accuracy: 0.7479\n",
      "Epoch 114: val_accuracy did not improve from 0.68333\n",
      "19/19 [==============================] - 0s 15ms/step\n",
      "val_F1_score:  0.6833333333333333\n",
      "22/22 [==============================] - 2s 90ms/step - loss: 0.7519 - accuracy: 0.7479 - val_loss: 1.0238 - val_accuracy: 0.6833\n",
      "Epoch 115/3000\n",
      "22/22 [==============================] - ETA: 0s - loss: 0.7472 - accuracy: 0.7543\n",
      "Epoch 115: val_accuracy did not improve from 0.68333\n",
      "19/19 [==============================] - 0s 16ms/step\n",
      "val_F1_score:  0.6833333333333333\n",
      "22/22 [==============================] - 2s 87ms/step - loss: 0.7472 - accuracy: 0.7543 - val_loss: 1.0475 - val_accuracy: 0.6833\n",
      "Epoch 116/3000\n",
      "22/22 [==============================] - ETA: 0s - loss: 0.7531 - accuracy: 0.7429\n",
      "Epoch 116: val_accuracy did not improve from 0.68333\n",
      "19/19 [==============================] - 0s 15ms/step\n",
      "val_F1_score:  0.6833333333333333\n",
      "22/22 [==============================] - 2s 89ms/step - loss: 0.7531 - accuracy: 0.7429 - val_loss: 1.0203 - val_accuracy: 0.6833\n",
      "Epoch 117/3000\n",
      "22/22 [==============================] - ETA: 0s - loss: 0.7534 - accuracy: 0.7471\n",
      "Epoch 117: val_accuracy did not improve from 0.68333\n",
      "19/19 [==============================] - 0s 16ms/step\n",
      "val_F1_score:  0.6766666666666666\n",
      "22/22 [==============================] - 2s 92ms/step - loss: 0.7534 - accuracy: 0.7471 - val_loss: 1.0377 - val_accuracy: 0.6767\n",
      "Epoch 118/3000\n",
      "22/22 [==============================] - ETA: 0s - loss: 0.7277 - accuracy: 0.7586\n",
      "Epoch 118: val_accuracy improved from 0.68333 to 0.69833, saving model to ./model2/best_model_2.h5\n",
      "19/19 [==============================] - 0s 15ms/step\n",
      "val_F1_score:  0.6983333333333334\n",
      "22/22 [==============================] - 2s 91ms/step - loss: 0.7277 - accuracy: 0.7586 - val_loss: 1.0364 - val_accuracy: 0.6983\n",
      "Epoch 119/3000\n",
      "22/22 [==============================] - ETA: 0s - loss: 0.7013 - accuracy: 0.7629\n",
      "Epoch 119: val_accuracy improved from 0.69833 to 0.70000, saving model to ./model2/best_model_2.h5\n",
      "19/19 [==============================] - 0s 15ms/step\n",
      "val_F1_score:  0.7\n",
      "22/22 [==============================] - 2s 88ms/step - loss: 0.7013 - accuracy: 0.7629 - val_loss: 1.0344 - val_accuracy: 0.7000\n",
      "Epoch 120/3000\n",
      "22/22 [==============================] - ETA: 0s - loss: 0.7265 - accuracy: 0.7586\n",
      "Epoch 120: val_accuracy did not improve from 0.70000\n",
      "19/19 [==============================] - 0s 15ms/step\n",
      "val_F1_score:  0.6616666666666666\n",
      "22/22 [==============================] - 2s 89ms/step - loss: 0.7265 - accuracy: 0.7586 - val_loss: 1.0546 - val_accuracy: 0.6617\n",
      "Epoch 121/3000\n",
      "22/22 [==============================] - ETA: 0s - loss: 0.7485 - accuracy: 0.7479\n",
      "Epoch 121: val_accuracy did not improve from 0.70000\n",
      "19/19 [==============================] - 0s 15ms/step\n",
      "val_F1_score:  0.68\n",
      "22/22 [==============================] - 2s 88ms/step - loss: 0.7485 - accuracy: 0.7479 - val_loss: 1.0275 - val_accuracy: 0.6800\n",
      "Epoch 122/3000\n",
      "22/22 [==============================] - ETA: 0s - loss: 0.7052 - accuracy: 0.7779\n",
      "Epoch 122: val_accuracy did not improve from 0.70000\n",
      "19/19 [==============================] - 0s 15ms/step\n",
      "val_F1_score:  0.66\n",
      "22/22 [==============================] - 2s 89ms/step - loss: 0.7052 - accuracy: 0.7779 - val_loss: 1.0438 - val_accuracy: 0.6600\n",
      "Epoch 123/3000\n",
      "22/22 [==============================] - ETA: 0s - loss: 0.7276 - accuracy: 0.7571\n",
      "Epoch 123: val_accuracy did not improve from 0.70000\n",
      "19/19 [==============================] - 0s 15ms/step\n",
      "val_F1_score:  0.6933333333333334\n",
      "22/22 [==============================] - 2s 89ms/step - loss: 0.7276 - accuracy: 0.7571 - val_loss: 0.9704 - val_accuracy: 0.6933\n",
      "Epoch 124/3000\n",
      "21/22 [===========================>..] - ETA: 0s - loss: 0.7024 - accuracy: 0.7753\n",
      "Epoch 124: val_accuracy did not improve from 0.70000\n",
      "19/19 [==============================] - 0s 15ms/step\n",
      "val_F1_score:  0.685\n",
      "22/22 [==============================] - 2s 87ms/step - loss: 0.7039 - accuracy: 0.7729 - val_loss: 1.0284 - val_accuracy: 0.6850\n",
      "Epoch 125/3000\n",
      "22/22 [==============================] - ETA: 0s - loss: 0.6984 - accuracy: 0.7664\n",
      "Epoch 125: val_accuracy did not improve from 0.70000\n",
      "19/19 [==============================] - 0s 13ms/step\n",
      "val_F1_score:  0.6966666666666667\n",
      "22/22 [==============================] - 2s 87ms/step - loss: 0.6984 - accuracy: 0.7664 - val_loss: 0.9909 - val_accuracy: 0.6967\n",
      "Epoch 126/3000\n",
      "22/22 [==============================] - ETA: 0s - loss: 0.7009 - accuracy: 0.7457\n",
      "Epoch 126: val_accuracy improved from 0.70000 to 0.71833, saving model to ./model2/best_model_2.h5\n",
      "19/19 [==============================] - 0s 14ms/step\n",
      "val_F1_score:  0.7183333333333334\n",
      "22/22 [==============================] - 2s 85ms/step - loss: 0.7009 - accuracy: 0.7457 - val_loss: 0.9862 - val_accuracy: 0.7183\n",
      "Epoch 127/3000\n",
      "22/22 [==============================] - ETA: 0s - loss: 0.6810 - accuracy: 0.7821\n",
      "Epoch 127: val_accuracy did not improve from 0.71833\n",
      "19/19 [==============================] - 0s 15ms/step\n",
      "val_F1_score:  0.695\n",
      "22/22 [==============================] - 2s 88ms/step - loss: 0.6810 - accuracy: 0.7821 - val_loss: 0.9741 - val_accuracy: 0.6950\n",
      "Epoch 128/3000\n",
      "22/22 [==============================] - ETA: 0s - loss: 0.6733 - accuracy: 0.7800\n",
      "Epoch 128: val_accuracy did not improve from 0.71833\n",
      "19/19 [==============================] - 0s 14ms/step\n",
      "val_F1_score:  0.6933333333333334\n",
      "22/22 [==============================] - 2s 88ms/step - loss: 0.6733 - accuracy: 0.7800 - val_loss: 1.0092 - val_accuracy: 0.6933\n",
      "Epoch 129/3000\n",
      "22/22 [==============================] - ETA: 0s - loss: 0.6922 - accuracy: 0.7729\n",
      "Epoch 129: val_accuracy did not improve from 0.71833\n",
      "19/19 [==============================] - 0s 14ms/step\n",
      "val_F1_score:  0.6866666666666666\n",
      "22/22 [==============================] - 2s 85ms/step - loss: 0.6922 - accuracy: 0.7729 - val_loss: 0.9961 - val_accuracy: 0.6867\n",
      "Epoch 130/3000\n",
      "22/22 [==============================] - ETA: 0s - loss: 0.6677 - accuracy: 0.7821\n",
      "Epoch 130: val_accuracy did not improve from 0.71833\n",
      "19/19 [==============================] - 0s 15ms/step\n",
      "val_F1_score:  0.7033333333333334\n",
      "22/22 [==============================] - 2s 83ms/step - loss: 0.6677 - accuracy: 0.7821 - val_loss: 0.9783 - val_accuracy: 0.7033\n",
      "Epoch 131/3000\n",
      "22/22 [==============================] - ETA: 0s - loss: 0.6870 - accuracy: 0.7650\n",
      "Epoch 131: val_accuracy did not improve from 0.71833\n",
      "19/19 [==============================] - 0s 16ms/step\n",
      "val_F1_score:  0.6783333333333333\n",
      "22/22 [==============================] - 2s 85ms/step - loss: 0.6870 - accuracy: 0.7650 - val_loss: 1.0335 - val_accuracy: 0.6783\n",
      "Epoch 132/3000\n",
      "22/22 [==============================] - ETA: 0s - loss: 0.6735 - accuracy: 0.7736\n",
      "Epoch 132: val_accuracy did not improve from 0.71833\n",
      "19/19 [==============================] - 0s 15ms/step\n",
      "val_F1_score:  0.6983333333333334\n",
      "22/22 [==============================] - 2s 87ms/step - loss: 0.6735 - accuracy: 0.7736 - val_loss: 1.0009 - val_accuracy: 0.6983\n",
      "Epoch 133/3000\n",
      "22/22 [==============================] - ETA: 0s - loss: 0.6588 - accuracy: 0.7821\n",
      "Epoch 133: val_accuracy did not improve from 0.71833\n",
      "19/19 [==============================] - 0s 15ms/step\n",
      "val_F1_score:  0.7033333333333334\n",
      "22/22 [==============================] - 2s 89ms/step - loss: 0.6588 - accuracy: 0.7821 - val_loss: 0.9688 - val_accuracy: 0.7033\n",
      "Epoch 134/3000\n",
      "22/22 [==============================] - ETA: 0s - loss: 0.6667 - accuracy: 0.7700\n",
      "Epoch 134: val_accuracy did not improve from 0.71833\n",
      "19/19 [==============================] - 0s 16ms/step\n",
      "val_F1_score:  0.6583333333333333\n",
      "22/22 [==============================] - 2s 90ms/step - loss: 0.6667 - accuracy: 0.7700 - val_loss: 1.0749 - val_accuracy: 0.6583\n",
      "Epoch 135/3000\n",
      "22/22 [==============================] - ETA: 0s - loss: 0.7063 - accuracy: 0.7593\n",
      "Epoch 135: val_accuracy did not improve from 0.71833\n",
      "19/19 [==============================] - 0s 15ms/step\n",
      "val_F1_score:  0.6833333333333333\n",
      "22/22 [==============================] - 2s 89ms/step - loss: 0.7063 - accuracy: 0.7593 - val_loss: 1.0279 - val_accuracy: 0.6833\n",
      "Epoch 136/3000\n",
      "22/22 [==============================] - ETA: 0s - loss: 0.6654 - accuracy: 0.7721\n",
      "Epoch 136: val_accuracy did not improve from 0.71833\n",
      "19/19 [==============================] - 0s 16ms/step\n",
      "val_F1_score:  0.7016666666666667\n",
      "22/22 [==============================] - 2s 91ms/step - loss: 0.6654 - accuracy: 0.7721 - val_loss: 1.0212 - val_accuracy: 0.7017\n",
      "Epoch 137/3000\n",
      "22/22 [==============================] - ETA: 0s - loss: 0.6540 - accuracy: 0.7836\n",
      "Epoch 137: val_accuracy did not improve from 0.71833\n",
      "19/19 [==============================] - 0s 16ms/step\n",
      "val_F1_score:  0.6933333333333334\n",
      "22/22 [==============================] - 2s 91ms/step - loss: 0.6540 - accuracy: 0.7836 - val_loss: 1.0192 - val_accuracy: 0.6933\n",
      "Epoch 138/3000\n",
      "22/22 [==============================] - ETA: 0s - loss: 0.6629 - accuracy: 0.7664\n",
      "Epoch 138: val_accuracy did not improve from 0.71833\n",
      "19/19 [==============================] - 0s 15ms/step\n",
      "val_F1_score:  0.7083333333333334\n",
      "22/22 [==============================] - 2s 90ms/step - loss: 0.6629 - accuracy: 0.7664 - val_loss: 0.9988 - val_accuracy: 0.7083\n",
      "Epoch 139/3000\n",
      "22/22 [==============================] - ETA: 0s - loss: 0.6491 - accuracy: 0.7871\n",
      "Epoch 139: val_accuracy did not improve from 0.71833\n",
      "19/19 [==============================] - 0s 15ms/step\n",
      "val_F1_score:  0.6916666666666667\n",
      "22/22 [==============================] - 2s 91ms/step - loss: 0.6491 - accuracy: 0.7871 - val_loss: 0.9884 - val_accuracy: 0.6917\n",
      "Epoch 140/3000\n",
      "22/22 [==============================] - ETA: 0s - loss: 0.6554 - accuracy: 0.7750\n",
      "Epoch 140: val_accuracy did not improve from 0.71833\n",
      "19/19 [==============================] - 0s 16ms/step\n",
      "val_F1_score:  0.7116666666666667\n",
      "22/22 [==============================] - 2s 92ms/step - loss: 0.6554 - accuracy: 0.7750 - val_loss: 0.9786 - val_accuracy: 0.7117\n",
      "Epoch 141/3000\n",
      "22/22 [==============================] - ETA: 0s - loss: 0.6469 - accuracy: 0.7821\n",
      "Epoch 141: val_accuracy did not improve from 0.71833\n",
      "19/19 [==============================] - 0s 14ms/step\n",
      "val_F1_score:  0.7100000000000001\n",
      "22/22 [==============================] - 2s 90ms/step - loss: 0.6469 - accuracy: 0.7821 - val_loss: 0.9858 - val_accuracy: 0.7100\n",
      "Epoch 142/3000\n",
      "22/22 [==============================] - ETA: 0s - loss: 0.6213 - accuracy: 0.7879\n",
      "Epoch 142: val_accuracy did not improve from 0.71833\n",
      "19/19 [==============================] - 0s 16ms/step\n",
      "val_F1_score:  0.6933333333333334\n",
      "22/22 [==============================] - 2s 89ms/step - loss: 0.6213 - accuracy: 0.7879 - val_loss: 0.9962 - val_accuracy: 0.6933\n",
      "Epoch 143/3000\n",
      "22/22 [==============================] - ETA: 0s - loss: 0.6478 - accuracy: 0.7879\n",
      "Epoch 143: val_accuracy did not improve from 0.71833\n",
      "19/19 [==============================] - 0s 15ms/step\n",
      "val_F1_score:  0.6983333333333334\n",
      "22/22 [==============================] - 2s 91ms/step - loss: 0.6478 - accuracy: 0.7879 - val_loss: 0.9817 - val_accuracy: 0.6983\n",
      "Epoch 144/3000\n",
      "22/22 [==============================] - ETA: 0s - loss: 0.6137 - accuracy: 0.8050\n",
      "Epoch 144: val_accuracy did not improve from 0.71833\n",
      "19/19 [==============================] - 0s 16ms/step\n",
      "val_F1_score:  0.7100000000000001\n",
      "22/22 [==============================] - 2s 92ms/step - loss: 0.6137 - accuracy: 0.8050 - val_loss: 0.9653 - val_accuracy: 0.7100\n",
      "Epoch 145/3000\n",
      "22/22 [==============================] - ETA: 0s - loss: 0.6332 - accuracy: 0.7893\n",
      "Epoch 145: val_accuracy did not improve from 0.71833\n",
      "19/19 [==============================] - 0s 15ms/step\n",
      "val_F1_score:  0.7033333333333334\n",
      "22/22 [==============================] - 2s 89ms/step - loss: 0.6332 - accuracy: 0.7893 - val_loss: 0.9820 - val_accuracy: 0.7033\n",
      "Epoch 146/3000\n",
      "22/22 [==============================] - ETA: 0s - loss: 0.6069 - accuracy: 0.8036\n",
      "Epoch 146: val_accuracy did not improve from 0.71833\n",
      "19/19 [==============================] - 0s 16ms/step\n",
      "val_F1_score:  0.7066666666666667\n",
      "22/22 [==============================] - 2s 90ms/step - loss: 0.6069 - accuracy: 0.8036 - val_loss: 0.9759 - val_accuracy: 0.7067\n",
      "Epoch 147/3000\n",
      "22/22 [==============================] - ETA: 0s - loss: 0.6264 - accuracy: 0.7929\n",
      "Epoch 147: val_accuracy did not improve from 0.71833\n",
      "19/19 [==============================] - 0s 15ms/step\n",
      "val_F1_score:  0.6933333333333334\n",
      "22/22 [==============================] - 2s 88ms/step - loss: 0.6264 - accuracy: 0.7929 - val_loss: 1.0397 - val_accuracy: 0.6933\n",
      "Epoch 148/3000\n",
      "22/22 [==============================] - ETA: 0s - loss: 0.6244 - accuracy: 0.7907\n",
      "Epoch 148: val_accuracy did not improve from 0.71833\n",
      "19/19 [==============================] - 0s 14ms/step\n",
      "val_F1_score:  0.6916666666666667\n",
      "22/22 [==============================] - 2s 88ms/step - loss: 0.6244 - accuracy: 0.7907 - val_loss: 0.9994 - val_accuracy: 0.6917\n",
      "Epoch 149/3000\n",
      "22/22 [==============================] - ETA: 0s - loss: 0.6595 - accuracy: 0.7671\n",
      "Epoch 149: val_accuracy did not improve from 0.71833\n",
      "19/19 [==============================] - 0s 15ms/step\n",
      "val_F1_score:  0.6916666666666667\n",
      "22/22 [==============================] - 2s 88ms/step - loss: 0.6595 - accuracy: 0.7671 - val_loss: 1.0230 - val_accuracy: 0.6917\n",
      "Epoch 150/3000\n",
      "22/22 [==============================] - ETA: 0s - loss: 0.6290 - accuracy: 0.7871\n",
      "Epoch 150: val_accuracy did not improve from 0.71833\n",
      "19/19 [==============================] - 0s 14ms/step\n",
      "val_F1_score:  0.6983333333333334\n",
      "22/22 [==============================] - 2s 89ms/step - loss: 0.6290 - accuracy: 0.7871 - val_loss: 0.9748 - val_accuracy: 0.6983\n",
      "Epoch 151/3000\n",
      "22/22 [==============================] - ETA: 0s - loss: 0.6141 - accuracy: 0.7979\n",
      "Epoch 151: val_accuracy did not improve from 0.71833\n",
      "19/19 [==============================] - 0s 15ms/step\n",
      "val_F1_score:  0.705\n",
      "22/22 [==============================] - 2s 90ms/step - loss: 0.6141 - accuracy: 0.7979 - val_loss: 0.9777 - val_accuracy: 0.7050\n",
      "Epoch 152/3000\n",
      "22/22 [==============================] - ETA: 0s - loss: 0.6375 - accuracy: 0.7779\n",
      "Epoch 152: val_accuracy did not improve from 0.71833\n",
      "19/19 [==============================] - 0s 16ms/step\n",
      "val_F1_score:  0.7016666666666667\n",
      "22/22 [==============================] - 2s 91ms/step - loss: 0.6375 - accuracy: 0.7779 - val_loss: 0.9492 - val_accuracy: 0.7017\n",
      "Epoch 153/3000\n",
      "22/22 [==============================] - ETA: 0s - loss: 0.6086 - accuracy: 0.7929\n",
      "Epoch 153: val_accuracy did not improve from 0.71833\n",
      "19/19 [==============================] - 0s 14ms/step\n",
      "val_F1_score:  0.7183333333333334\n",
      "22/22 [==============================] - 2s 90ms/step - loss: 0.6086 - accuracy: 0.7929 - val_loss: 0.9254 - val_accuracy: 0.7183\n",
      "Epoch 154/3000\n",
      "22/22 [==============================] - ETA: 0s - loss: 0.5973 - accuracy: 0.8071\n",
      "Epoch 154: val_accuracy did not improve from 0.71833\n",
      "19/19 [==============================] - 0s 15ms/step\n",
      "val_F1_score:  0.7183333333333334\n",
      "22/22 [==============================] - 2s 88ms/step - loss: 0.5973 - accuracy: 0.8071 - val_loss: 0.9481 - val_accuracy: 0.7183\n",
      "Epoch 155/3000\n",
      "22/22 [==============================] - ETA: 0s - loss: 0.5978 - accuracy: 0.8014\n",
      "Epoch 155: val_accuracy did not improve from 0.71833\n",
      "19/19 [==============================] - 0s 15ms/step\n",
      "val_F1_score:  0.7083333333333334\n",
      "22/22 [==============================] - 2s 91ms/step - loss: 0.5978 - accuracy: 0.8014 - val_loss: 0.9759 - val_accuracy: 0.7083\n",
      "Epoch 156/3000\n",
      "22/22 [==============================] - ETA: 0s - loss: 0.6104 - accuracy: 0.7964\n",
      "Epoch 156: val_accuracy did not improve from 0.71833\n",
      "19/19 [==============================] - 0s 15ms/step\n",
      "val_F1_score:  0.68\n",
      "22/22 [==============================] - 2s 90ms/step - loss: 0.6104 - accuracy: 0.7964 - val_loss: 0.9935 - val_accuracy: 0.6800\n",
      "Epoch 157/3000\n",
      "22/22 [==============================] - ETA: 0s - loss: 0.6313 - accuracy: 0.7843\n",
      "Epoch 157: val_accuracy did not improve from 0.71833\n",
      "19/19 [==============================] - 0s 15ms/step\n",
      "val_F1_score:  0.685\n",
      "22/22 [==============================] - 2s 90ms/step - loss: 0.6313 - accuracy: 0.7843 - val_loss: 1.0283 - val_accuracy: 0.6850\n",
      "Epoch 158/3000\n",
      "22/22 [==============================] - ETA: 0s - loss: 0.6107 - accuracy: 0.7936\n",
      "Epoch 158: val_accuracy did not improve from 0.71833\n",
      "19/19 [==============================] - 0s 16ms/step\n",
      "val_F1_score:  0.7083333333333334\n",
      "22/22 [==============================] - 2s 90ms/step - loss: 0.6107 - accuracy: 0.7936 - val_loss: 0.9795 - val_accuracy: 0.7083\n",
      "Epoch 159/3000\n",
      "22/22 [==============================] - ETA: 0s - loss: 0.5771 - accuracy: 0.8221\n",
      "Epoch 159: val_accuracy improved from 0.71833 to 0.72167, saving model to ./model2/best_model_2.h5\n",
      "19/19 [==============================] - 0s 16ms/step\n",
      "val_F1_score:  0.7216666666666668\n",
      "22/22 [==============================] - 2s 90ms/step - loss: 0.5771 - accuracy: 0.8221 - val_loss: 0.9526 - val_accuracy: 0.7217\n",
      "Epoch 160/3000\n",
      "22/22 [==============================] - ETA: 0s - loss: 0.5679 - accuracy: 0.8136\n",
      "Epoch 160: val_accuracy did not improve from 0.72167\n",
      "19/19 [==============================] - 0s 15ms/step\n",
      "val_F1_score:  0.7183333333333334\n",
      "22/22 [==============================] - 2s 89ms/step - loss: 0.5679 - accuracy: 0.8136 - val_loss: 0.9509 - val_accuracy: 0.7183\n",
      "Epoch 161/3000\n",
      "22/22 [==============================] - ETA: 0s - loss: 0.5924 - accuracy: 0.7993\n",
      "Epoch 161: val_accuracy did not improve from 0.72167\n",
      "19/19 [==============================] - 0s 14ms/step\n",
      "val_F1_score:  0.705\n",
      "22/22 [==============================] - 2s 89ms/step - loss: 0.5924 - accuracy: 0.7993 - val_loss: 0.9473 - val_accuracy: 0.7050\n",
      "Epoch 162/3000\n",
      "22/22 [==============================] - ETA: 0s - loss: 0.5868 - accuracy: 0.8021\n",
      "Epoch 162: val_accuracy improved from 0.72167 to 0.73500, saving model to ./model2/best_model_2.h5\n",
      "19/19 [==============================] - 0s 15ms/step\n",
      "val_F1_score:  0.735\n",
      "22/22 [==============================] - 2s 89ms/step - loss: 0.5868 - accuracy: 0.8021 - val_loss: 0.9345 - val_accuracy: 0.7350\n",
      "Epoch 163/3000\n",
      "22/22 [==============================] - ETA: 0s - loss: 0.5785 - accuracy: 0.8071\n",
      "Epoch 163: val_accuracy did not improve from 0.73500\n",
      "19/19 [==============================] - 0s 15ms/step\n",
      "val_F1_score:  0.715\n",
      "22/22 [==============================] - 2s 89ms/step - loss: 0.5785 - accuracy: 0.8071 - val_loss: 0.9514 - val_accuracy: 0.7150\n",
      "Epoch 164/3000\n",
      "22/22 [==============================] - ETA: 0s - loss: 0.5844 - accuracy: 0.8079\n",
      "Epoch 164: val_accuracy did not improve from 0.73500\n",
      "19/19 [==============================] - 0s 16ms/step\n",
      "val_F1_score:  0.7066666666666667\n",
      "22/22 [==============================] - 2s 86ms/step - loss: 0.5844 - accuracy: 0.8079 - val_loss: 1.0110 - val_accuracy: 0.7067\n",
      "Epoch 165/3000\n",
      "22/22 [==============================] - ETA: 0s - loss: 0.5749 - accuracy: 0.8136\n",
      "Epoch 165: val_accuracy did not improve from 0.73500\n",
      "19/19 [==============================] - 0s 15ms/step\n",
      "val_F1_score:  0.7033333333333334\n",
      "22/22 [==============================] - 2s 88ms/step - loss: 0.5749 - accuracy: 0.8136 - val_loss: 0.9982 - val_accuracy: 0.7033\n",
      "Epoch 166/3000\n",
      "22/22 [==============================] - ETA: 0s - loss: 0.5710 - accuracy: 0.8050\n",
      "Epoch 166: val_accuracy did not improve from 0.73500\n",
      "19/19 [==============================] - 0s 15ms/step\n",
      "val_F1_score:  0.7100000000000001\n",
      "22/22 [==============================] - 2s 86ms/step - loss: 0.5710 - accuracy: 0.8050 - val_loss: 0.9811 - val_accuracy: 0.7100\n",
      "Epoch 167/3000\n",
      "22/22 [==============================] - ETA: 0s - loss: 0.5820 - accuracy: 0.8043\n",
      "Epoch 167: val_accuracy did not improve from 0.73500\n",
      "19/19 [==============================] - 0s 15ms/step\n",
      "val_F1_score:  0.7083333333333334\n",
      "22/22 [==============================] - 2s 88ms/step - loss: 0.5820 - accuracy: 0.8043 - val_loss: 0.9585 - val_accuracy: 0.7083\n",
      "Epoch 168/3000\n",
      "22/22 [==============================] - ETA: 0s - loss: 0.5494 - accuracy: 0.8164\n",
      "Epoch 168: val_accuracy did not improve from 0.73500\n",
      "19/19 [==============================] - 0s 15ms/step\n",
      "val_F1_score:  0.7250000000000001\n",
      "22/22 [==============================] - 2s 88ms/step - loss: 0.5494 - accuracy: 0.8164 - val_loss: 0.9433 - val_accuracy: 0.7250\n",
      "Epoch 169/3000\n",
      "22/22 [==============================] - ETA: 0s - loss: 0.5723 - accuracy: 0.8121\n",
      "Epoch 169: val_accuracy did not improve from 0.73500\n",
      "19/19 [==============================] - 0s 14ms/step\n",
      "val_F1_score:  0.7116666666666667\n",
      "22/22 [==============================] - 2s 84ms/step - loss: 0.5723 - accuracy: 0.8121 - val_loss: 0.9259 - val_accuracy: 0.7117\n",
      "Epoch 170/3000\n",
      "21/22 [===========================>..] - ETA: 0s - loss: 0.5726 - accuracy: 0.8125\n",
      "Epoch 170: val_accuracy did not improve from 0.73500\n",
      "19/19 [==============================] - 0s 14ms/step\n",
      "val_F1_score:  0.72\n",
      "22/22 [==============================] - 2s 79ms/step - loss: 0.5755 - accuracy: 0.8129 - val_loss: 0.9650 - val_accuracy: 0.7200\n",
      "Epoch 171/3000\n",
      "22/22 [==============================] - ETA: 0s - loss: 0.5757 - accuracy: 0.7986\n",
      "Epoch 171: val_accuracy did not improve from 0.73500\n",
      "19/19 [==============================] - 0s 15ms/step\n",
      "val_F1_score:  0.6966666666666667\n",
      "22/22 [==============================] - 2s 89ms/step - loss: 0.5757 - accuracy: 0.7986 - val_loss: 1.0103 - val_accuracy: 0.6967\n",
      "Epoch 172/3000\n",
      "22/22 [==============================] - ETA: 0s - loss: 0.5877 - accuracy: 0.7964\n",
      "Epoch 172: val_accuracy did not improve from 0.73500\n",
      "19/19 [==============================] - 0s 15ms/step\n",
      "val_F1_score:  0.7299999999999999\n",
      "22/22 [==============================] - 2s 89ms/step - loss: 0.5877 - accuracy: 0.7964 - val_loss: 0.9147 - val_accuracy: 0.7300\n",
      "Epoch 173/3000\n",
      "22/22 [==============================] - ETA: 0s - loss: 0.5384 - accuracy: 0.8207\n",
      "Epoch 173: val_accuracy did not improve from 0.73500\n",
      "19/19 [==============================] - 0s 15ms/step\n",
      "val_F1_score:  0.7316666666666667\n",
      "22/22 [==============================] - 2s 89ms/step - loss: 0.5384 - accuracy: 0.8207 - val_loss: 0.9573 - val_accuracy: 0.7317\n",
      "Epoch 174/3000\n",
      "22/22 [==============================] - ETA: 0s - loss: 0.5331 - accuracy: 0.8150\n",
      "Epoch 174: val_accuracy did not improve from 0.73500\n",
      "19/19 [==============================] - 0s 14ms/step\n",
      "val_F1_score:  0.7266666666666666\n",
      "22/22 [==============================] - 2s 88ms/step - loss: 0.5331 - accuracy: 0.8150 - val_loss: 0.8942 - val_accuracy: 0.7267\n",
      "Epoch 175/3000\n",
      "22/22 [==============================] - ETA: 0s - loss: 0.5395 - accuracy: 0.8221\n",
      "Epoch 175: val_accuracy did not improve from 0.73500\n",
      "19/19 [==============================] - 0s 16ms/step\n",
      "val_F1_score:  0.7233333333333334\n",
      "22/22 [==============================] - 2s 90ms/step - loss: 0.5395 - accuracy: 0.8221 - val_loss: 0.9466 - val_accuracy: 0.7233\n",
      "Epoch 176/3000\n",
      "22/22 [==============================] - ETA: 0s - loss: 0.5408 - accuracy: 0.8250\n",
      "Epoch 176: val_accuracy did not improve from 0.73500\n",
      "19/19 [==============================] - 0s 15ms/step\n",
      "val_F1_score:  0.7133333333333335\n",
      "22/22 [==============================] - 2s 91ms/step - loss: 0.5408 - accuracy: 0.8250 - val_loss: 0.9453 - val_accuracy: 0.7133\n",
      "Epoch 177/3000\n",
      "22/22 [==============================] - ETA: 0s - loss: 0.5417 - accuracy: 0.8143\n",
      "Epoch 177: val_accuracy did not improve from 0.73500\n",
      "19/19 [==============================] - 0s 15ms/step\n",
      "val_F1_score:  0.7250000000000001\n",
      "22/22 [==============================] - 2s 90ms/step - loss: 0.5417 - accuracy: 0.8143 - val_loss: 0.9346 - val_accuracy: 0.7250\n",
      "Epoch 178/3000\n",
      "22/22 [==============================] - ETA: 0s - loss: 0.5211 - accuracy: 0.8200\n",
      "Epoch 178: val_accuracy did not improve from 0.73500\n",
      "19/19 [==============================] - 0s 16ms/step\n",
      "val_F1_score:  0.7100000000000001\n",
      "22/22 [==============================] - 2s 91ms/step - loss: 0.5211 - accuracy: 0.8200 - val_loss: 0.9665 - val_accuracy: 0.7100\n",
      "Epoch 179/3000\n",
      "22/22 [==============================] - ETA: 0s - loss: 0.5359 - accuracy: 0.8200\n",
      "Epoch 179: val_accuracy did not improve from 0.73500\n",
      "19/19 [==============================] - 0s 15ms/step\n",
      "val_F1_score:  0.7266666666666666\n",
      "22/22 [==============================] - 2s 90ms/step - loss: 0.5359 - accuracy: 0.8200 - val_loss: 0.9640 - val_accuracy: 0.7267\n",
      "Epoch 180/3000\n",
      "22/22 [==============================] - ETA: 0s - loss: 0.5280 - accuracy: 0.8286\n",
      "Epoch 180: val_accuracy did not improve from 0.73500\n",
      "19/19 [==============================] - 0s 15ms/step\n",
      "val_F1_score:  0.7216666666666668\n",
      "22/22 [==============================] - 2s 90ms/step - loss: 0.5280 - accuracy: 0.8286 - val_loss: 0.9507 - val_accuracy: 0.7217\n",
      "Epoch 181/3000\n",
      "22/22 [==============================] - ETA: 0s - loss: 0.4987 - accuracy: 0.8307\n",
      "Epoch 181: val_accuracy did not improve from 0.73500\n",
      "19/19 [==============================] - 0s 14ms/step\n",
      "val_F1_score:  0.7116666666666667\n",
      "22/22 [==============================] - 2s 89ms/step - loss: 0.4987 - accuracy: 0.8307 - val_loss: 0.9433 - val_accuracy: 0.7117\n",
      "Epoch 182/3000\n",
      "22/22 [==============================] - ETA: 0s - loss: 0.5550 - accuracy: 0.8114\n",
      "Epoch 182: val_accuracy did not improve from 0.73500\n",
      "19/19 [==============================] - 0s 15ms/step\n",
      "val_F1_score:  0.705\n",
      "22/22 [==============================] - 2s 89ms/step - loss: 0.5550 - accuracy: 0.8114 - val_loss: 0.9740 - val_accuracy: 0.7050\n",
      "Epoch 183/3000\n",
      "22/22 [==============================] - ETA: 0s - loss: 0.5354 - accuracy: 0.8186\n",
      "Epoch 183: val_accuracy did not improve from 0.73500\n",
      "19/19 [==============================] - 0s 15ms/step\n",
      "val_F1_score:  0.7216666666666668\n",
      "22/22 [==============================] - 2s 87ms/step - loss: 0.5354 - accuracy: 0.8186 - val_loss: 0.9503 - val_accuracy: 0.7217\n",
      "Epoch 184/3000\n",
      "22/22 [==============================] - ETA: 0s - loss: 0.5370 - accuracy: 0.8164\n",
      "Epoch 184: val_accuracy did not improve from 0.73500\n",
      "19/19 [==============================] - 0s 15ms/step\n",
      "val_F1_score:  0.7233333333333334\n",
      "22/22 [==============================] - 2s 86ms/step - loss: 0.5370 - accuracy: 0.8164 - val_loss: 0.9353 - val_accuracy: 0.7233\n",
      "Epoch 185/3000\n",
      "22/22 [==============================] - ETA: 0s - loss: 0.5304 - accuracy: 0.8071\n",
      "Epoch 185: val_accuracy did not improve from 0.73500\n",
      "19/19 [==============================] - 0s 15ms/step\n",
      "val_F1_score:  0.7333333333333333\n",
      "22/22 [==============================] - 2s 87ms/step - loss: 0.5304 - accuracy: 0.8071 - val_loss: 0.9466 - val_accuracy: 0.7333\n",
      "Epoch 186/3000\n",
      "22/22 [==============================] - ETA: 0s - loss: 0.5110 - accuracy: 0.8286\n",
      "Epoch 186: val_accuracy did not improve from 0.73500\n",
      "19/19 [==============================] - 0s 13ms/step\n",
      "val_F1_score:  0.72\n",
      "22/22 [==============================] - 2s 89ms/step - loss: 0.5110 - accuracy: 0.8286 - val_loss: 0.9706 - val_accuracy: 0.7200\n",
      "Epoch 187/3000\n",
      "22/22 [==============================] - ETA: 0s - loss: 0.5116 - accuracy: 0.8179\n",
      "Epoch 187: val_accuracy did not improve from 0.73500\n",
      "19/19 [==============================] - 0s 15ms/step\n",
      "val_F1_score:  0.7250000000000001\n",
      "22/22 [==============================] - 2s 87ms/step - loss: 0.5116 - accuracy: 0.8179 - val_loss: 0.9284 - val_accuracy: 0.7250\n",
      "Epoch 188/3000\n",
      "22/22 [==============================] - ETA: 0s - loss: 0.5242 - accuracy: 0.8257\n",
      "Epoch 188: val_accuracy improved from 0.73500 to 0.74167, saving model to ./model2/best_model_2.h5\n",
      "19/19 [==============================] - 0s 13ms/step\n",
      "val_F1_score:  0.7416666666666667\n",
      "22/22 [==============================] - 2s 86ms/step - loss: 0.5242 - accuracy: 0.8257 - val_loss: 0.9152 - val_accuracy: 0.7417\n",
      "Epoch 189/3000\n",
      "21/22 [===========================>..] - ETA: 0s - loss: 0.5012 - accuracy: 0.8378\n",
      "Epoch 189: val_accuracy did not improve from 0.74167\n",
      "19/19 [==============================] - 0s 15ms/step\n",
      "val_F1_score:  0.74\n",
      "22/22 [==============================] - 2s 82ms/step - loss: 0.5026 - accuracy: 0.8357 - val_loss: 0.9161 - val_accuracy: 0.7400\n",
      "Epoch 190/3000\n",
      "22/22 [==============================] - ETA: 0s - loss: 0.5111 - accuracy: 0.8257\n",
      "Epoch 190: val_accuracy did not improve from 0.74167\n",
      "19/19 [==============================] - 0s 13ms/step\n",
      "val_F1_score:  0.7266666666666666\n",
      "22/22 [==============================] - 2s 86ms/step - loss: 0.5111 - accuracy: 0.8257 - val_loss: 0.9228 - val_accuracy: 0.7267\n",
      "Epoch 191/3000\n",
      "22/22 [==============================] - ETA: 0s - loss: 0.5115 - accuracy: 0.8321\n",
      "Epoch 191: val_accuracy did not improve from 0.74167\n",
      "19/19 [==============================] - 0s 14ms/step\n",
      "val_F1_score:  0.7383333333333333\n",
      "22/22 [==============================] - 2s 88ms/step - loss: 0.5115 - accuracy: 0.8321 - val_loss: 0.9462 - val_accuracy: 0.7383\n",
      "Epoch 192/3000\n",
      "22/22 [==============================] - ETA: 0s - loss: 0.5072 - accuracy: 0.8321\n",
      "Epoch 192: val_accuracy did not improve from 0.74167\n",
      "19/19 [==============================] - 0s 16ms/step\n",
      "val_F1_score:  0.7183333333333334\n",
      "22/22 [==============================] - 2s 86ms/step - loss: 0.5072 - accuracy: 0.8321 - val_loss: 0.9647 - val_accuracy: 0.7183\n",
      "Epoch 193/3000\n",
      "22/22 [==============================] - ETA: 0s - loss: 0.5119 - accuracy: 0.8221\n",
      "Epoch 193: val_accuracy did not improve from 0.74167\n",
      "19/19 [==============================] - 0s 16ms/step\n",
      "val_F1_score:  0.7233333333333334\n",
      "22/22 [==============================] - 2s 87ms/step - loss: 0.5119 - accuracy: 0.8221 - val_loss: 0.9528 - val_accuracy: 0.7233\n",
      "Epoch 194/3000\n",
      "22/22 [==============================] - ETA: 0s - loss: 0.5493 - accuracy: 0.8214\n",
      "Epoch 194: val_accuracy did not improve from 0.74167\n",
      "19/19 [==============================] - 0s 14ms/step\n",
      "val_F1_score:  0.7233333333333334\n",
      "22/22 [==============================] - 2s 86ms/step - loss: 0.5493 - accuracy: 0.8214 - val_loss: 0.9261 - val_accuracy: 0.7233\n",
      "Epoch 195/3000\n",
      "21/22 [===========================>..] - ETA: 0s - loss: 0.5199 - accuracy: 0.8229\n",
      "Epoch 195: val_accuracy did not improve from 0.74167\n",
      "19/19 [==============================] - 0s 13ms/step\n",
      "val_F1_score:  0.7283333333333334\n",
      "22/22 [==============================] - 2s 75ms/step - loss: 0.5134 - accuracy: 0.8257 - val_loss: 0.8994 - val_accuracy: 0.7283\n",
      "Epoch 196/3000\n",
      "21/22 [===========================>..] - ETA: 0s - loss: 0.4967 - accuracy: 0.8341\n",
      "Epoch 196: val_accuracy did not improve from 0.74167\n",
      "19/19 [==============================] - 0s 15ms/step\n",
      "val_F1_score:  0.7266666666666666\n",
      "22/22 [==============================] - 2s 81ms/step - loss: 0.4971 - accuracy: 0.8321 - val_loss: 0.9244 - val_accuracy: 0.7267\n",
      "Epoch 197/3000\n",
      "22/22 [==============================] - ETA: 0s - loss: 0.4878 - accuracy: 0.8357\n",
      "Epoch 197: val_accuracy did not improve from 0.74167\n",
      "19/19 [==============================] - 0s 15ms/step\n",
      "val_F1_score:  0.7233333333333334\n",
      "22/22 [==============================] - 2s 90ms/step - loss: 0.4878 - accuracy: 0.8357 - val_loss: 0.9529 - val_accuracy: 0.7233\n",
      "Epoch 198/3000\n",
      "22/22 [==============================] - ETA: 0s - loss: 0.4822 - accuracy: 0.8357\n",
      "Epoch 198: val_accuracy did not improve from 0.74167\n",
      "19/19 [==============================] - 0s 15ms/step\n",
      "val_F1_score:  0.7283333333333334\n",
      "22/22 [==============================] - 2s 90ms/step - loss: 0.4822 - accuracy: 0.8357 - val_loss: 0.9149 - val_accuracy: 0.7283\n",
      "Epoch 199/3000\n",
      "22/22 [==============================] - ETA: 0s - loss: 0.4520 - accuracy: 0.8550\n",
      "Epoch 199: val_accuracy did not improve from 0.74167\n",
      "19/19 [==============================] - 0s 14ms/step\n",
      "val_F1_score:  0.735\n",
      "22/22 [==============================] - 2s 91ms/step - loss: 0.4520 - accuracy: 0.8550 - val_loss: 0.9035 - val_accuracy: 0.7350\n",
      "Epoch 200/3000\n",
      "22/22 [==============================] - ETA: 0s - loss: 0.4810 - accuracy: 0.8414\n",
      "Epoch 200: val_accuracy did not improve from 0.74167\n",
      "19/19 [==============================] - 0s 16ms/step\n",
      "val_F1_score:  0.7383333333333333\n",
      "22/22 [==============================] - 2s 89ms/step - loss: 0.4810 - accuracy: 0.8414 - val_loss: 0.9168 - val_accuracy: 0.7383\n",
      "Epoch 201/3000\n",
      "22/22 [==============================] - ETA: 0s - loss: 0.5078 - accuracy: 0.8314\n",
      "Epoch 201: val_accuracy did not improve from 0.74167\n",
      "19/19 [==============================] - 0s 14ms/step\n",
      "val_F1_score:  0.7333333333333333\n",
      "22/22 [==============================] - 2s 90ms/step - loss: 0.5078 - accuracy: 0.8314 - val_loss: 0.9161 - val_accuracy: 0.7333\n",
      "Epoch 202/3000\n",
      "22/22 [==============================] - ETA: 0s - loss: 0.4695 - accuracy: 0.8493\n",
      "Epoch 202: val_accuracy did not improve from 0.74167\n",
      "19/19 [==============================] - 0s 15ms/step\n",
      "val_F1_score:  0.7333333333333333\n",
      "22/22 [==============================] - 2s 90ms/step - loss: 0.4695 - accuracy: 0.8493 - val_loss: 0.8760 - val_accuracy: 0.7333\n",
      "Epoch 203/3000\n",
      "22/22 [==============================] - ETA: 0s - loss: 0.4688 - accuracy: 0.8486\n",
      "Epoch 203: val_accuracy did not improve from 0.74167\n",
      "19/19 [==============================] - 0s 16ms/step\n",
      "val_F1_score:  0.7100000000000001\n",
      "22/22 [==============================] - 2s 91ms/step - loss: 0.4688 - accuracy: 0.8486 - val_loss: 0.9961 - val_accuracy: 0.7100\n",
      "Epoch 204/3000\n",
      "22/22 [==============================] - ETA: 0s - loss: 0.4535 - accuracy: 0.8514\n",
      "Epoch 204: val_accuracy did not improve from 0.74167\n",
      "19/19 [==============================] - 0s 16ms/step\n",
      "val_F1_score:  0.7383333333333333\n",
      "22/22 [==============================] - 2s 93ms/step - loss: 0.4535 - accuracy: 0.8514 - val_loss: 0.9131 - val_accuracy: 0.7383\n",
      "Epoch 205/3000\n",
      "22/22 [==============================] - ETA: 0s - loss: 0.4575 - accuracy: 0.8493\n",
      "Epoch 205: val_accuracy did not improve from 0.74167\n",
      "19/19 [==============================] - 0s 16ms/step\n",
      "val_F1_score:  0.7266666666666666\n",
      "22/22 [==============================] - 2s 90ms/step - loss: 0.4575 - accuracy: 0.8493 - val_loss: 0.9466 - val_accuracy: 0.7267\n",
      "Epoch 206/3000\n",
      "22/22 [==============================] - ETA: 0s - loss: 0.4666 - accuracy: 0.8507\n",
      "Epoch 206: val_accuracy did not improve from 0.74167\n",
      "19/19 [==============================] - 0s 16ms/step\n",
      "val_F1_score:  0.7333333333333333\n",
      "22/22 [==============================] - 2s 92ms/step - loss: 0.4666 - accuracy: 0.8507 - val_loss: 0.9067 - val_accuracy: 0.7333\n",
      "Epoch 207/3000\n",
      "22/22 [==============================] - ETA: 0s - loss: 0.4508 - accuracy: 0.8464\n",
      "Epoch 207: val_accuracy did not improve from 0.74167\n",
      "19/19 [==============================] - 0s 15ms/step\n",
      "val_F1_score:  0.74\n",
      "22/22 [==============================] - 2s 91ms/step - loss: 0.4508 - accuracy: 0.8464 - val_loss: 0.8787 - val_accuracy: 0.7400\n",
      "Epoch 208/3000\n",
      "22/22 [==============================] - ETA: 0s - loss: 0.4441 - accuracy: 0.8514\n",
      "Epoch 208: val_accuracy did not improve from 0.74167\n",
      "19/19 [==============================] - 0s 16ms/step\n",
      "val_F1_score:  0.7233333333333334\n",
      "22/22 [==============================] - 2s 90ms/step - loss: 0.4441 - accuracy: 0.8514 - val_loss: 0.9101 - val_accuracy: 0.7233\n",
      "Epoch 209/3000\n",
      "22/22 [==============================] - ETA: 0s - loss: 0.4582 - accuracy: 0.8493\n",
      "Epoch 209: val_accuracy did not improve from 0.74167\n",
      "19/19 [==============================] - 0s 16ms/step\n",
      "val_F1_score:  0.7283333333333334\n",
      "22/22 [==============================] - 2s 90ms/step - loss: 0.4582 - accuracy: 0.8493 - val_loss: 0.9417 - val_accuracy: 0.7283\n",
      "Epoch 210/3000\n",
      "22/22 [==============================] - ETA: 0s - loss: 0.4630 - accuracy: 0.8493\n",
      "Epoch 210: val_accuracy did not improve from 0.74167\n",
      "19/19 [==============================] - 0s 15ms/step\n",
      "val_F1_score:  0.7366666666666667\n",
      "22/22 [==============================] - 2s 90ms/step - loss: 0.4630 - accuracy: 0.8493 - val_loss: 0.8942 - val_accuracy: 0.7367\n",
      "Epoch 211/3000\n",
      "22/22 [==============================] - ETA: 0s - loss: 0.4295 - accuracy: 0.8593\n",
      "Epoch 211: val_accuracy did not improve from 0.74167\n",
      "19/19 [==============================] - 0s 15ms/step\n",
      "val_F1_score:  0.7366666666666667\n",
      "22/22 [==============================] - 2s 91ms/step - loss: 0.4295 - accuracy: 0.8593 - val_loss: 0.9022 - val_accuracy: 0.7367\n",
      "Epoch 212/3000\n",
      "22/22 [==============================] - ETA: 0s - loss: 0.4678 - accuracy: 0.8407\n",
      "Epoch 212: val_accuracy did not improve from 0.74167\n",
      "19/19 [==============================] - 0s 15ms/step\n",
      "val_F1_score:  0.7366666666666667\n",
      "22/22 [==============================] - 2s 89ms/step - loss: 0.4678 - accuracy: 0.8407 - val_loss: 0.9366 - val_accuracy: 0.7367\n",
      "Epoch 213/3000\n",
      "22/22 [==============================] - ETA: 0s - loss: 0.4735 - accuracy: 0.8421\n",
      "Epoch 213: val_accuracy did not improve from 0.74167\n",
      "19/19 [==============================] - 0s 15ms/step\n",
      "val_F1_score:  0.7266666666666666\n",
      "22/22 [==============================] - 2s 90ms/step - loss: 0.4735 - accuracy: 0.8421 - val_loss: 0.9186 - val_accuracy: 0.7267\n",
      "Epoch 214/3000\n",
      "22/22 [==============================] - ETA: 0s - loss: 0.4596 - accuracy: 0.8500\n",
      "Epoch 214: val_accuracy did not improve from 0.74167\n",
      "19/19 [==============================] - 0s 15ms/step\n",
      "val_F1_score:  0.7216666666666668\n",
      "22/22 [==============================] - 2s 89ms/step - loss: 0.4596 - accuracy: 0.8500 - val_loss: 0.9725 - val_accuracy: 0.7217\n",
      "Epoch 215/3000\n",
      "22/22 [==============================] - ETA: 0s - loss: 0.4628 - accuracy: 0.8521\n",
      "Epoch 215: val_accuracy improved from 0.74167 to 0.75333, saving model to ./model2/best_model_2.h5\n",
      "19/19 [==============================] - 0s 15ms/step\n",
      "val_F1_score:  0.7533333333333333\n",
      "22/22 [==============================] - 2s 89ms/step - loss: 0.4628 - accuracy: 0.8521 - val_loss: 0.8904 - val_accuracy: 0.7533\n",
      "Epoch 216/3000\n",
      "22/22 [==============================] - ETA: 0s - loss: 0.4703 - accuracy: 0.8364\n",
      "Epoch 216: val_accuracy did not improve from 0.75333\n",
      "19/19 [==============================] - 0s 16ms/step\n",
      "val_F1_score:  0.7216666666666668\n",
      "22/22 [==============================] - 2s 91ms/step - loss: 0.4703 - accuracy: 0.8364 - val_loss: 0.9756 - val_accuracy: 0.7217\n",
      "Epoch 217/3000\n",
      "22/22 [==============================] - ETA: 0s - loss: 0.4990 - accuracy: 0.8350\n",
      "Epoch 217: val_accuracy did not improve from 0.75333\n",
      "19/19 [==============================] - 0s 15ms/step\n",
      "val_F1_score:  0.7383333333333333\n",
      "22/22 [==============================] - 2s 88ms/step - loss: 0.4990 - accuracy: 0.8350 - val_loss: 0.9394 - val_accuracy: 0.7383\n",
      "Epoch 218/3000\n",
      "22/22 [==============================] - ETA: 0s - loss: 0.4746 - accuracy: 0.8321\n",
      "Epoch 218: val_accuracy did not improve from 0.75333\n",
      "19/19 [==============================] - 0s 16ms/step\n",
      "val_F1_score:  0.7483333333333333\n",
      "22/22 [==============================] - 2s 89ms/step - loss: 0.4746 - accuracy: 0.8321 - val_loss: 0.9114 - val_accuracy: 0.7483\n",
      "Epoch 219/3000\n",
      "22/22 [==============================] - ETA: 0s - loss: 0.4539 - accuracy: 0.8450\n",
      "Epoch 219: val_accuracy did not improve from 0.75333\n",
      "19/19 [==============================] - 0s 15ms/step\n",
      "val_F1_score:  0.745\n",
      "22/22 [==============================] - 2s 89ms/step - loss: 0.4539 - accuracy: 0.8450 - val_loss: 0.9079 - val_accuracy: 0.7450\n",
      "Epoch 220/3000\n",
      "22/22 [==============================] - ETA: 0s - loss: 0.4306 - accuracy: 0.8600\n",
      "Epoch 220: val_accuracy did not improve from 0.75333\n",
      "19/19 [==============================] - 0s 15ms/step\n",
      "val_F1_score:  0.7299999999999999\n",
      "22/22 [==============================] - 2s 87ms/step - loss: 0.4306 - accuracy: 0.8600 - val_loss: 0.9381 - val_accuracy: 0.7300\n",
      "Epoch 221/3000\n",
      "22/22 [==============================] - ETA: 0s - loss: 0.4561 - accuracy: 0.8507\n",
      "Epoch 221: val_accuracy did not improve from 0.75333\n",
      "19/19 [==============================] - 0s 15ms/step\n",
      "val_F1_score:  0.7316666666666667\n",
      "22/22 [==============================] - 2s 91ms/step - loss: 0.4561 - accuracy: 0.8507 - val_loss: 0.9297 - val_accuracy: 0.7317\n",
      "Epoch 222/3000\n",
      "22/22 [==============================] - ETA: 0s - loss: 0.4407 - accuracy: 0.8514\n",
      "Epoch 222: val_accuracy did not improve from 0.75333\n",
      "19/19 [==============================] - 0s 15ms/step\n",
      "val_F1_score:  0.7299999999999999\n",
      "22/22 [==============================] - 2s 89ms/step - loss: 0.4407 - accuracy: 0.8514 - val_loss: 0.9109 - val_accuracy: 0.7300\n",
      "Epoch 223/3000\n",
      "22/22 [==============================] - ETA: 0s - loss: 0.4251 - accuracy: 0.8536\n",
      "Epoch 223: val_accuracy did not improve from 0.75333\n",
      "19/19 [==============================] - 0s 15ms/step\n",
      "val_F1_score:  0.7416666666666667\n",
      "22/22 [==============================] - 2s 86ms/step - loss: 0.4251 - accuracy: 0.8536 - val_loss: 0.8957 - val_accuracy: 0.7417\n",
      "Epoch 224/3000\n",
      "22/22 [==============================] - ETA: 0s - loss: 0.4174 - accuracy: 0.8650\n",
      "Epoch 224: val_accuracy did not improve from 0.75333\n",
      "19/19 [==============================] - 0s 15ms/step\n",
      "val_F1_score:  0.7416666666666667\n",
      "22/22 [==============================] - 2s 89ms/step - loss: 0.4174 - accuracy: 0.8650 - val_loss: 0.9224 - val_accuracy: 0.7417\n",
      "Epoch 225/3000\n",
      "22/22 [==============================] - ETA: 0s - loss: 0.4592 - accuracy: 0.8393\n",
      "Epoch 225: val_accuracy did not improve from 0.75333\n",
      "19/19 [==============================] - 0s 15ms/step\n",
      "val_F1_score:  0.7466666666666667\n",
      "22/22 [==============================] - 2s 88ms/step - loss: 0.4592 - accuracy: 0.8393 - val_loss: 0.8984 - val_accuracy: 0.7467\n",
      "Epoch 226/3000\n",
      "22/22 [==============================] - ETA: 0s - loss: 0.4452 - accuracy: 0.8493\n",
      "Epoch 226: val_accuracy did not improve from 0.75333\n",
      "19/19 [==============================] - 0s 15ms/step\n",
      "val_F1_score:  0.74\n",
      "22/22 [==============================] - 2s 90ms/step - loss: 0.4452 - accuracy: 0.8493 - val_loss: 0.9540 - val_accuracy: 0.7400\n",
      "Epoch 227/3000\n",
      "22/22 [==============================] - ETA: 0s - loss: 0.4012 - accuracy: 0.8721\n",
      "Epoch 227: val_accuracy did not improve from 0.75333\n",
      "19/19 [==============================] - 0s 15ms/step\n",
      "val_F1_score:  0.745\n",
      "22/22 [==============================] - 2s 90ms/step - loss: 0.4012 - accuracy: 0.8721 - val_loss: 0.9316 - val_accuracy: 0.7450\n",
      "Epoch 228/3000\n",
      "22/22 [==============================] - ETA: 0s - loss: 0.4349 - accuracy: 0.8571\n",
      "Epoch 228: val_accuracy did not improve from 0.75333\n",
      "19/19 [==============================] - 0s 15ms/step\n",
      "val_F1_score:  0.7366666666666667\n",
      "22/22 [==============================] - 2s 91ms/step - loss: 0.4349 - accuracy: 0.8571 - val_loss: 0.9393 - val_accuracy: 0.7367\n",
      "Epoch 229/3000\n",
      "22/22 [==============================] - ETA: 0s - loss: 0.4126 - accuracy: 0.8579\n",
      "Epoch 229: val_accuracy did not improve from 0.75333\n",
      "19/19 [==============================] - 0s 16ms/step\n",
      "val_F1_score:  0.7416666666666667\n",
      "22/22 [==============================] - 2s 90ms/step - loss: 0.4126 - accuracy: 0.8579 - val_loss: 0.9371 - val_accuracy: 0.7417\n",
      "Epoch 230/3000\n",
      "22/22 [==============================] - ETA: 0s - loss: 0.4206 - accuracy: 0.8621\n",
      "Epoch 230: val_accuracy did not improve from 0.75333\n",
      "19/19 [==============================] - 0s 15ms/step\n",
      "val_F1_score:  0.7333333333333333\n",
      "22/22 [==============================] - 2s 91ms/step - loss: 0.4206 - accuracy: 0.8621 - val_loss: 0.9603 - val_accuracy: 0.7333\n",
      "Epoch 231/3000\n",
      "22/22 [==============================] - ETA: 0s - loss: 0.4328 - accuracy: 0.8393\n",
      "Epoch 231: val_accuracy did not improve from 0.75333\n",
      "19/19 [==============================] - 0s 15ms/step\n",
      "val_F1_score:  0.7433333333333333\n",
      "22/22 [==============================] - 2s 89ms/step - loss: 0.4328 - accuracy: 0.8393 - val_loss: 0.9386 - val_accuracy: 0.7433\n",
      "Epoch 232/3000\n",
      "22/22 [==============================] - ETA: 0s - loss: 0.4020 - accuracy: 0.8757\n",
      "Epoch 232: val_accuracy did not improve from 0.75333\n",
      "19/19 [==============================] - 0s 16ms/step\n",
      "val_F1_score:  0.7333333333333333\n",
      "22/22 [==============================] - 2s 90ms/step - loss: 0.4020 - accuracy: 0.8757 - val_loss: 0.9358 - val_accuracy: 0.7333\n",
      "Epoch 233/3000\n",
      "22/22 [==============================] - ETA: 0s - loss: 0.4235 - accuracy: 0.8664\n",
      "Epoch 233: val_accuracy did not improve from 0.75333\n",
      "19/19 [==============================] - 0s 16ms/step\n",
      "val_F1_score:  0.7333333333333333\n",
      "22/22 [==============================] - 2s 92ms/step - loss: 0.4235 - accuracy: 0.8664 - val_loss: 0.9732 - val_accuracy: 0.7333\n",
      "Epoch 234/3000\n",
      "22/22 [==============================] - ETA: 0s - loss: 0.4250 - accuracy: 0.8571\n",
      "Epoch 234: val_accuracy did not improve from 0.75333\n",
      "19/19 [==============================] - 0s 15ms/step\n",
      "val_F1_score:  0.7466666666666667\n",
      "22/22 [==============================] - 2s 91ms/step - loss: 0.4250 - accuracy: 0.8571 - val_loss: 0.9006 - val_accuracy: 0.7467\n",
      "Epoch 235/3000\n",
      "22/22 [==============================] - ETA: 0s - loss: 0.4164 - accuracy: 0.8664\n",
      "Epoch 235: val_accuracy did not improve from 0.75333\n",
      "19/19 [==============================] - 0s 15ms/step\n",
      "val_F1_score:  0.735\n",
      "22/22 [==============================] - 2s 90ms/step - loss: 0.4164 - accuracy: 0.8664 - val_loss: 0.9686 - val_accuracy: 0.7350\n",
      "Epoch 236/3000\n",
      "22/22 [==============================] - ETA: 0s - loss: 0.4281 - accuracy: 0.8543\n",
      "Epoch 236: val_accuracy did not improve from 0.75333\n",
      "19/19 [==============================] - 0s 15ms/step\n",
      "val_F1_score:  0.7366666666666667\n",
      "22/22 [==============================] - 2s 87ms/step - loss: 0.4281 - accuracy: 0.8543 - val_loss: 0.9206 - val_accuracy: 0.7367\n",
      "Epoch 237/3000\n",
      "22/22 [==============================] - ETA: 0s - loss: 0.4080 - accuracy: 0.8607\n",
      "Epoch 237: val_accuracy improved from 0.75333 to 0.76000, saving model to ./model2/best_model_2.h5\n",
      "19/19 [==============================] - 0s 15ms/step\n",
      "val_F1_score:  0.76\n",
      "22/22 [==============================] - 2s 90ms/step - loss: 0.4080 - accuracy: 0.8607 - val_loss: 0.8982 - val_accuracy: 0.7600\n",
      "Epoch 238/3000\n",
      "22/22 [==============================] - ETA: 0s - loss: 0.3952 - accuracy: 0.8643\n",
      "Epoch 238: val_accuracy did not improve from 0.76000\n",
      "19/19 [==============================] - 0s 16ms/step\n",
      "val_F1_score:  0.755\n",
      "22/22 [==============================] - 2s 90ms/step - loss: 0.3952 - accuracy: 0.8643 - val_loss: 0.9188 - val_accuracy: 0.7550\n",
      "Epoch 239/3000\n",
      "22/22 [==============================] - ETA: 0s - loss: 0.3952 - accuracy: 0.8686\n",
      "Epoch 239: val_accuracy did not improve from 0.76000\n",
      "19/19 [==============================] - 0s 15ms/step\n",
      "val_F1_score:  0.75\n",
      "22/22 [==============================] - 2s 88ms/step - loss: 0.3952 - accuracy: 0.8686 - val_loss: 0.9179 - val_accuracy: 0.7500\n",
      "Epoch 240/3000\n",
      "22/22 [==============================] - ETA: 0s - loss: 0.4252 - accuracy: 0.8629\n",
      "Epoch 240: val_accuracy did not improve from 0.76000\n",
      "19/19 [==============================] - 0s 15ms/step\n",
      "val_F1_score:  0.7516666666666667\n",
      "22/22 [==============================] - 2s 89ms/step - loss: 0.4252 - accuracy: 0.8629 - val_loss: 0.9119 - val_accuracy: 0.7517\n",
      "Epoch 241/3000\n",
      "22/22 [==============================] - ETA: 0s - loss: 0.4161 - accuracy: 0.8479\n",
      "Epoch 241: val_accuracy did not improve from 0.76000\n",
      "19/19 [==============================] - 0s 15ms/step\n",
      "val_F1_score:  0.7366666666666667\n",
      "22/22 [==============================] - 2s 90ms/step - loss: 0.4161 - accuracy: 0.8479 - val_loss: 0.9106 - val_accuracy: 0.7367\n",
      "Epoch 242/3000\n",
      "22/22 [==============================] - ETA: 0s - loss: 0.4254 - accuracy: 0.8614\n",
      "Epoch 242: val_accuracy did not improve from 0.76000\n",
      "19/19 [==============================] - 0s 15ms/step\n",
      "val_F1_score:  0.7100000000000001\n",
      "22/22 [==============================] - 2s 88ms/step - loss: 0.4254 - accuracy: 0.8614 - val_loss: 1.0037 - val_accuracy: 0.7100\n",
      "Epoch 243/3000\n",
      "22/22 [==============================] - ETA: 0s - loss: 0.4533 - accuracy: 0.8457\n",
      "Epoch 243: val_accuracy did not improve from 0.76000\n",
      "19/19 [==============================] - 0s 15ms/step\n",
      "val_F1_score:  0.735\n",
      "22/22 [==============================] - 2s 90ms/step - loss: 0.4533 - accuracy: 0.8457 - val_loss: 0.9399 - val_accuracy: 0.7350\n",
      "Epoch 244/3000\n",
      "22/22 [==============================] - ETA: 0s - loss: 0.4246 - accuracy: 0.8429\n",
      "Epoch 244: val_accuracy did not improve from 0.76000\n",
      "19/19 [==============================] - 0s 16ms/step\n",
      "val_F1_score:  0.755\n",
      "22/22 [==============================] - 2s 89ms/step - loss: 0.4246 - accuracy: 0.8429 - val_loss: 0.9182 - val_accuracy: 0.7550\n",
      "Epoch 245/3000\n",
      "22/22 [==============================] - ETA: 0s - loss: 0.4203 - accuracy: 0.8543\n",
      "Epoch 245: val_accuracy did not improve from 0.76000\n",
      "19/19 [==============================] - 0s 15ms/step\n",
      "val_F1_score:  0.7583333333333333\n",
      "22/22 [==============================] - 2s 89ms/step - loss: 0.4203 - accuracy: 0.8543 - val_loss: 0.9121 - val_accuracy: 0.7583\n",
      "Epoch 246/3000\n",
      "22/22 [==============================] - ETA: 0s - loss: 0.4219 - accuracy: 0.8586\n",
      "Epoch 246: val_accuracy did not improve from 0.76000\n",
      "19/19 [==============================] - 0s 15ms/step\n",
      "val_F1_score:  0.7466666666666667\n",
      "22/22 [==============================] - 2s 88ms/step - loss: 0.4219 - accuracy: 0.8586 - val_loss: 0.9385 - val_accuracy: 0.7467\n",
      "Epoch 247/3000\n",
      "22/22 [==============================] - ETA: 0s - loss: 0.4229 - accuracy: 0.8657\n",
      "Epoch 247: val_accuracy did not improve from 0.76000\n",
      "19/19 [==============================] - 0s 15ms/step\n",
      "val_F1_score:  0.7583333333333333\n",
      "22/22 [==============================] - 2s 88ms/step - loss: 0.4229 - accuracy: 0.8657 - val_loss: 0.9186 - val_accuracy: 0.7583\n",
      "Epoch 248/3000\n",
      "22/22 [==============================] - ETA: 0s - loss: 0.4002 - accuracy: 0.8643\n",
      "Epoch 248: val_accuracy did not improve from 0.76000\n",
      "19/19 [==============================] - 0s 15ms/step\n",
      "val_F1_score:  0.745\n",
      "22/22 [==============================] - 2s 88ms/step - loss: 0.4002 - accuracy: 0.8643 - val_loss: 0.9160 - val_accuracy: 0.7450\n",
      "Epoch 249/3000\n",
      "22/22 [==============================] - ETA: 0s - loss: 0.4062 - accuracy: 0.8571\n",
      "Epoch 249: val_accuracy did not improve from 0.76000\n",
      "19/19 [==============================] - 0s 16ms/step\n",
      "val_F1_score:  0.755\n",
      "22/22 [==============================] - 2s 91ms/step - loss: 0.4062 - accuracy: 0.8571 - val_loss: 0.9034 - val_accuracy: 0.7550\n",
      "Epoch 250/3000\n",
      "22/22 [==============================] - ETA: 0s - loss: 0.4015 - accuracy: 0.8629\n",
      "Epoch 250: val_accuracy did not improve from 0.76000\n",
      "19/19 [==============================] - 0s 15ms/step\n",
      "val_F1_score:  0.7433333333333333\n",
      "22/22 [==============================] - 2s 91ms/step - loss: 0.4015 - accuracy: 0.8629 - val_loss: 0.9260 - val_accuracy: 0.7433\n",
      "Epoch 251/3000\n",
      "22/22 [==============================] - ETA: 0s - loss: 0.3732 - accuracy: 0.8750\n",
      "Epoch 251: val_accuracy did not improve from 0.76000\n",
      "19/19 [==============================] - 0s 17ms/step\n",
      "val_F1_score:  0.75\n",
      "22/22 [==============================] - 2s 91ms/step - loss: 0.3732 - accuracy: 0.8750 - val_loss: 0.8991 - val_accuracy: 0.7500\n",
      "Epoch 252/3000\n",
      "22/22 [==============================] - ETA: 0s - loss: 0.4043 - accuracy: 0.8650\n",
      "Epoch 252: val_accuracy did not improve from 0.76000\n",
      "19/19 [==============================] - 0s 15ms/step\n",
      "val_F1_score:  0.745\n",
      "22/22 [==============================] - 2s 91ms/step - loss: 0.4043 - accuracy: 0.8650 - val_loss: 0.9515 - val_accuracy: 0.7450\n",
      "Epoch 253/3000\n",
      "22/22 [==============================] - ETA: 0s - loss: 0.3923 - accuracy: 0.8593\n",
      "Epoch 253: val_accuracy improved from 0.76000 to 0.76500, saving model to ./model2/best_model_2.h5\n",
      "19/19 [==============================] - 0s 16ms/step\n",
      "val_F1_score:  0.765\n",
      "22/22 [==============================] - 2s 92ms/step - loss: 0.3923 - accuracy: 0.8593 - val_loss: 0.9000 - val_accuracy: 0.7650\n",
      "Epoch 254/3000\n",
      "22/22 [==============================] - ETA: 0s - loss: 0.3986 - accuracy: 0.8564\n",
      "Epoch 254: val_accuracy did not improve from 0.76500\n",
      "19/19 [==============================] - 0s 16ms/step\n",
      "val_F1_score:  0.7433333333333333\n",
      "22/22 [==============================] - 2s 92ms/step - loss: 0.3986 - accuracy: 0.8564 - val_loss: 0.9397 - val_accuracy: 0.7433\n",
      "Epoch 255/3000\n",
      "22/22 [==============================] - ETA: 0s - loss: 0.3824 - accuracy: 0.8814\n",
      "Epoch 255: val_accuracy did not improve from 0.76500\n",
      "19/19 [==============================] - 0s 16ms/step\n",
      "val_F1_score:  0.7416666666666667\n",
      "22/22 [==============================] - 2s 90ms/step - loss: 0.3824 - accuracy: 0.8814 - val_loss: 0.9096 - val_accuracy: 0.7417\n",
      "Epoch 256/3000\n",
      "22/22 [==============================] - ETA: 0s - loss: 0.3824 - accuracy: 0.8671\n",
      "Epoch 256: val_accuracy did not improve from 0.76500\n",
      "19/19 [==============================] - 0s 15ms/step\n",
      "val_F1_score:  0.755\n",
      "22/22 [==============================] - 2s 89ms/step - loss: 0.3824 - accuracy: 0.8671 - val_loss: 0.8940 - val_accuracy: 0.7550\n",
      "Epoch 257/3000\n",
      "22/22 [==============================] - ETA: 0s - loss: 0.3606 - accuracy: 0.8700\n",
      "Epoch 257: val_accuracy did not improve from 0.76500\n",
      "19/19 [==============================] - 0s 16ms/step\n",
      "val_F1_score:  0.7466666666666667\n",
      "22/22 [==============================] - 2s 91ms/step - loss: 0.3606 - accuracy: 0.8700 - val_loss: 0.9492 - val_accuracy: 0.7467\n",
      "Epoch 258/3000\n",
      "22/22 [==============================] - ETA: 0s - loss: 0.3777 - accuracy: 0.8707\n",
      "Epoch 258: val_accuracy did not improve from 0.76500\n",
      "19/19 [==============================] - 0s 15ms/step\n",
      "val_F1_score:  0.745\n",
      "22/22 [==============================] - 2s 91ms/step - loss: 0.3777 - accuracy: 0.8707 - val_loss: 0.9213 - val_accuracy: 0.7450\n",
      "Epoch 259/3000\n",
      "22/22 [==============================] - ETA: 0s - loss: 0.3866 - accuracy: 0.8657\n",
      "Epoch 259: val_accuracy did not improve from 0.76500\n",
      "19/19 [==============================] - 0s 16ms/step\n",
      "val_F1_score:  0.75\n",
      "22/22 [==============================] - 2s 92ms/step - loss: 0.3866 - accuracy: 0.8657 - val_loss: 0.8945 - val_accuracy: 0.7500\n",
      "Epoch 260/3000\n",
      "22/22 [==============================] - ETA: 0s - loss: 0.3698 - accuracy: 0.8643\n",
      "Epoch 260: val_accuracy did not improve from 0.76500\n",
      "19/19 [==============================] - 0s 15ms/step\n",
      "val_F1_score:  0.7516666666666667\n",
      "22/22 [==============================] - 2s 89ms/step - loss: 0.3698 - accuracy: 0.8643 - val_loss: 0.9040 - val_accuracy: 0.7517\n",
      "Epoch 261/3000\n",
      "22/22 [==============================] - ETA: 0s - loss: 0.3651 - accuracy: 0.8807\n",
      "Epoch 261: val_accuracy did not improve from 0.76500\n",
      "19/19 [==============================] - 0s 15ms/step\n",
      "val_F1_score:  0.7633333333333333\n",
      "22/22 [==============================] - 2s 88ms/step - loss: 0.3651 - accuracy: 0.8807 - val_loss: 0.9164 - val_accuracy: 0.7633\n",
      "Epoch 262/3000\n",
      "22/22 [==============================] - ETA: 0s - loss: 0.3664 - accuracy: 0.8779\n",
      "Epoch 262: val_accuracy did not improve from 0.76500\n",
      "19/19 [==============================] - 0s 16ms/step\n",
      "val_F1_score:  0.76\n",
      "22/22 [==============================] - 2s 89ms/step - loss: 0.3664 - accuracy: 0.8779 - val_loss: 0.8805 - val_accuracy: 0.7600\n",
      "Epoch 263/3000\n",
      "22/22 [==============================] - ETA: 0s - loss: 0.3473 - accuracy: 0.8807\n",
      "Epoch 263: val_accuracy did not improve from 0.76500\n",
      "19/19 [==============================] - 0s 14ms/step\n",
      "val_F1_score:  0.7633333333333333\n",
      "22/22 [==============================] - 2s 88ms/step - loss: 0.3473 - accuracy: 0.8807 - val_loss: 0.8668 - val_accuracy: 0.7633\n",
      "Epoch 264/3000\n",
      "22/22 [==============================] - ETA: 0s - loss: 0.3712 - accuracy: 0.8693\n",
      "Epoch 264: val_accuracy improved from 0.76500 to 0.77000, saving model to ./model2/best_model_2.h5\n",
      "19/19 [==============================] - 0s 14ms/step\n",
      "val_F1_score:  0.7699999999999999\n",
      "22/22 [==============================] - 2s 87ms/step - loss: 0.3712 - accuracy: 0.8693 - val_loss: 0.8776 - val_accuracy: 0.7700\n",
      "Epoch 265/3000\n",
      "22/22 [==============================] - ETA: 0s - loss: 0.3710 - accuracy: 0.8757\n",
      "Epoch 265: val_accuracy did not improve from 0.77000\n",
      "19/19 [==============================] - 0s 15ms/step\n",
      "val_F1_score:  0.7433333333333333\n",
      "22/22 [==============================] - 2s 88ms/step - loss: 0.3710 - accuracy: 0.8757 - val_loss: 0.9017 - val_accuracy: 0.7433\n",
      "Epoch 266/3000\n",
      "22/22 [==============================] - ETA: 0s - loss: 0.3831 - accuracy: 0.8800\n",
      "Epoch 266: val_accuracy did not improve from 0.77000\n",
      "19/19 [==============================] - 0s 16ms/step\n",
      "val_F1_score:  0.7483333333333333\n",
      "22/22 [==============================] - 2s 91ms/step - loss: 0.3831 - accuracy: 0.8800 - val_loss: 0.9285 - val_accuracy: 0.7483\n",
      "Epoch 267/3000\n",
      "22/22 [==============================] - ETA: 0s - loss: 0.3790 - accuracy: 0.8693\n",
      "Epoch 267: val_accuracy did not improve from 0.77000\n",
      "19/19 [==============================] - 0s 15ms/step\n",
      "val_F1_score:  0.7533333333333333\n",
      "22/22 [==============================] - 2s 91ms/step - loss: 0.3790 - accuracy: 0.8693 - val_loss: 0.9356 - val_accuracy: 0.7533\n",
      "Epoch 268/3000\n",
      "22/22 [==============================] - ETA: 0s - loss: 0.3840 - accuracy: 0.8621\n",
      "Epoch 268: val_accuracy did not improve from 0.77000\n",
      "19/19 [==============================] - 0s 15ms/step\n",
      "val_F1_score:  0.7566666666666667\n",
      "22/22 [==============================] - 2s 89ms/step - loss: 0.3840 - accuracy: 0.8621 - val_loss: 0.9031 - val_accuracy: 0.7567\n",
      "Epoch 269/3000\n",
      "22/22 [==============================] - ETA: 0s - loss: 0.3497 - accuracy: 0.8821\n",
      "Epoch 269: val_accuracy did not improve from 0.77000\n",
      "19/19 [==============================] - 0s 15ms/step\n",
      "val_F1_score:  0.74\n",
      "22/22 [==============================] - 2s 90ms/step - loss: 0.3497 - accuracy: 0.8821 - val_loss: 0.9571 - val_accuracy: 0.7400\n",
      "Epoch 270/3000\n",
      "22/22 [==============================] - ETA: 0s - loss: 0.3728 - accuracy: 0.8679\n",
      "Epoch 270: val_accuracy improved from 0.77000 to 0.77167, saving model to ./model2/best_model_2.h5\n",
      "19/19 [==============================] - 0s 15ms/step\n",
      "val_F1_score:  0.7716666666666666\n",
      "22/22 [==============================] - 2s 88ms/step - loss: 0.3728 - accuracy: 0.8679 - val_loss: 0.8774 - val_accuracy: 0.7717\n",
      "Epoch 271/3000\n",
      "22/22 [==============================] - ETA: 0s - loss: 0.3763 - accuracy: 0.8729\n",
      "Epoch 271: val_accuracy did not improve from 0.77167\n",
      "19/19 [==============================] - 0s 15ms/step\n",
      "val_F1_score:  0.7299999999999999\n",
      "22/22 [==============================] - 2s 90ms/step - loss: 0.3763 - accuracy: 0.8729 - val_loss: 0.9578 - val_accuracy: 0.7300\n",
      "Epoch 272/3000\n",
      "22/22 [==============================] - ETA: 0s - loss: 0.4056 - accuracy: 0.8543\n",
      "Epoch 272: val_accuracy did not improve from 0.77167\n",
      "19/19 [==============================] - 0s 15ms/step\n",
      "val_F1_score:  0.7583333333333333\n",
      "22/22 [==============================] - 2s 92ms/step - loss: 0.4056 - accuracy: 0.8543 - val_loss: 0.9177 - val_accuracy: 0.7583\n",
      "Epoch 273/3000\n",
      "22/22 [==============================] - ETA: 0s - loss: 0.3689 - accuracy: 0.8721\n",
      "Epoch 273: val_accuracy did not improve from 0.77167\n",
      "19/19 [==============================] - 0s 15ms/step\n",
      "val_F1_score:  0.7616666666666667\n",
      "22/22 [==============================] - 2s 88ms/step - loss: 0.3689 - accuracy: 0.8721 - val_loss: 0.9058 - val_accuracy: 0.7617\n",
      "Epoch 274/3000\n",
      "22/22 [==============================] - ETA: 0s - loss: 0.3588 - accuracy: 0.8743\n",
      "Epoch 274: val_accuracy did not improve from 0.77167\n",
      "19/19 [==============================] - 0s 14ms/step\n",
      "val_F1_score:  0.7633333333333333\n",
      "22/22 [==============================] - 2s 85ms/step - loss: 0.3588 - accuracy: 0.8743 - val_loss: 0.8982 - val_accuracy: 0.7633\n",
      "Epoch 275/3000\n",
      "22/22 [==============================] - ETA: 0s - loss: 0.3505 - accuracy: 0.8871\n",
      "Epoch 275: val_accuracy did not improve from 0.77167\n",
      "19/19 [==============================] - 0s 14ms/step\n",
      "val_F1_score:  0.7433333333333333\n",
      "22/22 [==============================] - 2s 88ms/step - loss: 0.3505 - accuracy: 0.8871 - val_loss: 0.9376 - val_accuracy: 0.7433\n",
      "Epoch 276/3000\n",
      "22/22 [==============================] - ETA: 0s - loss: 0.3570 - accuracy: 0.8779\n",
      "Epoch 276: val_accuracy did not improve from 0.77167\n",
      "19/19 [==============================] - 0s 16ms/step\n",
      "val_F1_score:  0.7633333333333333\n",
      "22/22 [==============================] - 2s 90ms/step - loss: 0.3570 - accuracy: 0.8779 - val_loss: 0.8817 - val_accuracy: 0.7633\n",
      "Epoch 277/3000\n",
      "22/22 [==============================] - ETA: 0s - loss: 0.3417 - accuracy: 0.8871\n",
      "Epoch 277: val_accuracy did not improve from 0.77167\n",
      "19/19 [==============================] - 0s 16ms/step\n",
      "val_F1_score:  0.7666666666666667\n",
      "22/22 [==============================] - 2s 90ms/step - loss: 0.3417 - accuracy: 0.8871 - val_loss: 0.9125 - val_accuracy: 0.7667\n",
      "Epoch 278/3000\n",
      "22/22 [==============================] - ETA: 0s - loss: 0.3750 - accuracy: 0.8750\n",
      "Epoch 278: val_accuracy did not improve from 0.77167\n",
      "19/19 [==============================] - 0s 16ms/step\n",
      "val_F1_score:  0.7416666666666667\n",
      "22/22 [==============================] - 2s 91ms/step - loss: 0.3750 - accuracy: 0.8750 - val_loss: 0.9574 - val_accuracy: 0.7417\n",
      "Epoch 279/3000\n",
      "22/22 [==============================] - ETA: 0s - loss: 0.3513 - accuracy: 0.8829\n",
      "Epoch 279: val_accuracy did not improve from 0.77167\n",
      "19/19 [==============================] - 0s 15ms/step\n",
      "val_F1_score:  0.765\n",
      "22/22 [==============================] - 2s 92ms/step - loss: 0.3513 - accuracy: 0.8829 - val_loss: 0.8862 - val_accuracy: 0.7650\n",
      "Epoch 280/3000\n",
      "22/22 [==============================] - ETA: 0s - loss: 0.3567 - accuracy: 0.8750\n",
      "Epoch 280: val_accuracy did not improve from 0.77167\n",
      "19/19 [==============================] - 0s 16ms/step\n",
      "val_F1_score:  0.755\n",
      "22/22 [==============================] - 2s 91ms/step - loss: 0.3567 - accuracy: 0.8750 - val_loss: 0.9232 - val_accuracy: 0.7550\n",
      "Epoch 281/3000\n",
      "22/22 [==============================] - ETA: 0s - loss: 0.3634 - accuracy: 0.8793\n",
      "Epoch 281: val_accuracy did not improve from 0.77167\n",
      "19/19 [==============================] - 0s 15ms/step\n",
      "val_F1_score:  0.7533333333333333\n",
      "22/22 [==============================] - 2s 89ms/step - loss: 0.3634 - accuracy: 0.8793 - val_loss: 0.8999 - val_accuracy: 0.7533\n",
      "Epoch 282/3000\n",
      "22/22 [==============================] - ETA: 0s - loss: 0.3339 - accuracy: 0.8886\n",
      "Epoch 282: val_accuracy did not improve from 0.77167\n",
      "19/19 [==============================] - 0s 15ms/step\n",
      "val_F1_score:  0.7633333333333333\n",
      "22/22 [==============================] - 2s 87ms/step - loss: 0.3339 - accuracy: 0.8886 - val_loss: 0.8803 - val_accuracy: 0.7633\n",
      "Epoch 283/3000\n",
      "22/22 [==============================] - ETA: 0s - loss: 0.3177 - accuracy: 0.9007\n",
      "Epoch 283: val_accuracy did not improve from 0.77167\n",
      "19/19 [==============================] - 0s 16ms/step\n",
      "val_F1_score:  0.7666666666666667\n",
      "22/22 [==============================] - 2s 90ms/step - loss: 0.3177 - accuracy: 0.9007 - val_loss: 0.8812 - val_accuracy: 0.7667\n",
      "Epoch 284/3000\n",
      "22/22 [==============================] - ETA: 0s - loss: 0.3386 - accuracy: 0.8893\n",
      "Epoch 284: val_accuracy did not improve from 0.77167\n",
      "19/19 [==============================] - 0s 15ms/step\n",
      "val_F1_score:  0.7633333333333333\n",
      "22/22 [==============================] - 2s 90ms/step - loss: 0.3386 - accuracy: 0.8893 - val_loss: 0.9085 - val_accuracy: 0.7633\n",
      "Epoch 285/3000\n",
      "22/22 [==============================] - ETA: 0s - loss: 0.3504 - accuracy: 0.8821\n",
      "Epoch 285: val_accuracy did not improve from 0.77167\n",
      "19/19 [==============================] - 0s 15ms/step\n",
      "val_F1_score:  0.76\n",
      "22/22 [==============================] - 2s 89ms/step - loss: 0.3504 - accuracy: 0.8821 - val_loss: 0.8763 - val_accuracy: 0.7600\n",
      "Epoch 286/3000\n",
      "22/22 [==============================] - ETA: 0s - loss: 0.3334 - accuracy: 0.8886\n",
      "Epoch 286: val_accuracy did not improve from 0.77167\n",
      "19/19 [==============================] - 0s 15ms/step\n",
      "val_F1_score:  0.755\n",
      "22/22 [==============================] - 2s 89ms/step - loss: 0.3334 - accuracy: 0.8886 - val_loss: 0.9405 - val_accuracy: 0.7550\n",
      "Epoch 287/3000\n",
      "22/22 [==============================] - ETA: 0s - loss: 0.3682 - accuracy: 0.8757\n",
      "Epoch 287: val_accuracy did not improve from 0.77167\n",
      "19/19 [==============================] - 0s 15ms/step\n",
      "val_F1_score:  0.75\n",
      "22/22 [==============================] - 2s 89ms/step - loss: 0.3682 - accuracy: 0.8757 - val_loss: 0.9351 - val_accuracy: 0.7500\n",
      "Epoch 288/3000\n",
      "22/22 [==============================] - ETA: 0s - loss: 0.4722 - accuracy: 0.8214\n",
      "Epoch 288: val_accuracy did not improve from 0.77167\n",
      "19/19 [==============================] - 0s 15ms/step\n",
      "val_F1_score:  0.7366666666666667\n",
      "22/22 [==============================] - 2s 90ms/step - loss: 0.4722 - accuracy: 0.8214 - val_loss: 0.9298 - val_accuracy: 0.7367\n",
      "Epoch 289/3000\n",
      "21/22 [===========================>..] - ETA: 0s - loss: 0.4312 - accuracy: 0.8445\n",
      "Epoch 289: val_accuracy did not improve from 0.77167\n",
      "19/19 [==============================] - 0s 16ms/step\n",
      "val_F1_score:  0.7466666666666667\n",
      "22/22 [==============================] - 2s 91ms/step - loss: 0.4336 - accuracy: 0.8407 - val_loss: 0.9552 - val_accuracy: 0.7467\n",
      "Epoch 290/3000\n",
      "21/22 [===========================>..] - ETA: 0s - loss: 0.3997 - accuracy: 0.8571\n",
      "Epoch 290: val_accuracy did not improve from 0.77167\n",
      "19/19 [==============================] - 0s 15ms/step\n",
      "val_F1_score:  0.755\n",
      "22/22 [==============================] - 2s 89ms/step - loss: 0.4007 - accuracy: 0.8579 - val_loss: 0.9321 - val_accuracy: 0.7550\n",
      "Epoch 291/3000\n",
      "22/22 [==============================] - ETA: 0s - loss: 0.3916 - accuracy: 0.8557\n",
      "Epoch 291: val_accuracy did not improve from 0.77167\n",
      "19/19 [==============================] - 0s 15ms/step\n",
      "val_F1_score:  0.75\n",
      "22/22 [==============================] - 2s 86ms/step - loss: 0.3916 - accuracy: 0.8557 - val_loss: 0.9749 - val_accuracy: 0.7500\n",
      "Epoch 292/3000\n",
      "22/22 [==============================] - ETA: 0s - loss: 0.3846 - accuracy: 0.8679\n",
      "Epoch 292: val_accuracy did not improve from 0.77167\n",
      "19/19 [==============================] - 0s 14ms/step\n",
      "val_F1_score:  0.7566666666666667\n",
      "22/22 [==============================] - 2s 86ms/step - loss: 0.3846 - accuracy: 0.8679 - val_loss: 0.9530 - val_accuracy: 0.7567\n",
      "Epoch 293/3000\n",
      "22/22 [==============================] - ETA: 0s - loss: 0.3674 - accuracy: 0.8750\n",
      "Epoch 293: val_accuracy did not improve from 0.77167\n",
      "19/19 [==============================] - 0s 15ms/step\n",
      "val_F1_score:  0.76\n",
      "22/22 [==============================] - 2s 89ms/step - loss: 0.3674 - accuracy: 0.8750 - val_loss: 0.9090 - val_accuracy: 0.7600\n",
      "Epoch 294/3000\n",
      "22/22 [==============================] - ETA: 0s - loss: 0.3658 - accuracy: 0.8800\n",
      "Epoch 294: val_accuracy did not improve from 0.77167\n",
      "19/19 [==============================] - 0s 15ms/step\n",
      "val_F1_score:  0.7533333333333333\n",
      "22/22 [==============================] - 2s 88ms/step - loss: 0.3658 - accuracy: 0.8800 - val_loss: 0.9628 - val_accuracy: 0.7533\n",
      "Epoch 295/3000\n",
      "22/22 [==============================] - ETA: 0s - loss: 0.3689 - accuracy: 0.8736\n",
      "Epoch 295: val_accuracy did not improve from 0.77167\n",
      "19/19 [==============================] - 0s 15ms/step\n",
      "val_F1_score:  0.7616666666666667\n",
      "22/22 [==============================] - 2s 88ms/step - loss: 0.3689 - accuracy: 0.8736 - val_loss: 0.9307 - val_accuracy: 0.7617\n",
      "Epoch 296/3000\n",
      "22/22 [==============================] - ETA: 0s - loss: 0.3524 - accuracy: 0.8771\n",
      "Epoch 296: val_accuracy did not improve from 0.77167\n",
      "19/19 [==============================] - 0s 16ms/step\n",
      "val_F1_score:  0.7716666666666666\n",
      "22/22 [==============================] - 2s 89ms/step - loss: 0.3524 - accuracy: 0.8771 - val_loss: 0.8799 - val_accuracy: 0.7717\n",
      "Epoch 297/3000\n",
      "22/22 [==============================] - ETA: 0s - loss: 0.3300 - accuracy: 0.8907\n",
      "Epoch 297: val_accuracy did not improve from 0.77167\n",
      "19/19 [==============================] - 0s 16ms/step\n",
      "val_F1_score:  0.76\n",
      "22/22 [==============================] - 2s 89ms/step - loss: 0.3300 - accuracy: 0.8907 - val_loss: 0.9319 - val_accuracy: 0.7600\n",
      "Epoch 298/3000\n",
      "22/22 [==============================] - ETA: 0s - loss: 0.3160 - accuracy: 0.9000\n",
      "Epoch 298: val_accuracy did not improve from 0.77167\n",
      "19/19 [==============================] - 0s 15ms/step\n",
      "val_F1_score:  0.7633333333333333\n",
      "22/22 [==============================] - 2s 89ms/step - loss: 0.3160 - accuracy: 0.9000 - val_loss: 0.9573 - val_accuracy: 0.7633\n",
      "Epoch 299/3000\n",
      "22/22 [==============================] - ETA: 0s - loss: 0.3373 - accuracy: 0.8821\n",
      "Epoch 299: val_accuracy did not improve from 0.77167\n",
      "19/19 [==============================] - 0s 15ms/step\n",
      "val_F1_score:  0.76\n",
      "22/22 [==============================] - 2s 89ms/step - loss: 0.3373 - accuracy: 0.8821 - val_loss: 0.9200 - val_accuracy: 0.7600\n",
      "Epoch 300/3000\n",
      "22/22 [==============================] - ETA: 0s - loss: 0.3596 - accuracy: 0.8721\n",
      "Epoch 300: val_accuracy did not improve from 0.77167\n",
      "19/19 [==============================] - 0s 15ms/step\n",
      "val_F1_score:  0.765\n",
      "22/22 [==============================] - 2s 90ms/step - loss: 0.3596 - accuracy: 0.8721 - val_loss: 0.9167 - val_accuracy: 0.7650\n",
      "Epoch 301/3000\n",
      "22/22 [==============================] - ETA: 0s - loss: 0.3394 - accuracy: 0.8757\n",
      "Epoch 301: val_accuracy did not improve from 0.77167\n",
      "19/19 [==============================] - 0s 16ms/step\n",
      "val_F1_score:  0.7533333333333333\n",
      "22/22 [==============================] - 2s 89ms/step - loss: 0.3394 - accuracy: 0.8757 - val_loss: 0.9038 - val_accuracy: 0.7533\n",
      "Epoch 302/3000\n",
      "22/22 [==============================] - ETA: 0s - loss: 0.3328 - accuracy: 0.8836\n",
      "Epoch 302: val_accuracy did not improve from 0.77167\n",
      "19/19 [==============================] - 0s 16ms/step\n",
      "val_F1_score:  0.7683333333333333\n",
      "22/22 [==============================] - 2s 89ms/step - loss: 0.3328 - accuracy: 0.8836 - val_loss: 0.8730 - val_accuracy: 0.7683\n",
      "Epoch 303/3000\n",
      "22/22 [==============================] - ETA: 0s - loss: 0.3270 - accuracy: 0.8900\n",
      "Epoch 303: val_accuracy did not improve from 0.77167\n",
      "19/19 [==============================] - 0s 15ms/step\n",
      "val_F1_score:  0.7516666666666667\n",
      "22/22 [==============================] - 2s 90ms/step - loss: 0.3270 - accuracy: 0.8900 - val_loss: 0.9535 - val_accuracy: 0.7517\n",
      "Epoch 304/3000\n",
      "22/22 [==============================] - ETA: 0s - loss: 0.3586 - accuracy: 0.8757\n",
      "Epoch 304: val_accuracy did not improve from 0.77167\n",
      "19/19 [==============================] - 0s 15ms/step\n",
      "val_F1_score:  0.755\n",
      "22/22 [==============================] - 2s 90ms/step - loss: 0.3586 - accuracy: 0.8757 - val_loss: 0.9099 - val_accuracy: 0.7550\n",
      "Epoch 305/3000\n",
      "22/22 [==============================] - ETA: 0s - loss: 0.3090 - accuracy: 0.8871\n",
      "Epoch 305: val_accuracy did not improve from 0.77167\n",
      "19/19 [==============================] - 0s 16ms/step\n",
      "val_F1_score:  0.765\n",
      "22/22 [==============================] - 2s 93ms/step - loss: 0.3090 - accuracy: 0.8871 - val_loss: 0.8893 - val_accuracy: 0.7650\n",
      "Epoch 306/3000\n",
      "22/22 [==============================] - ETA: 0s - loss: 0.3270 - accuracy: 0.8864\n",
      "Epoch 306: val_accuracy did not improve from 0.77167\n",
      "19/19 [==============================] - 0s 15ms/step\n",
      "val_F1_score:  0.75\n",
      "22/22 [==============================] - 2s 90ms/step - loss: 0.3270 - accuracy: 0.8864 - val_loss: 0.9145 - val_accuracy: 0.7500\n",
      "Epoch 307/3000\n",
      "22/22 [==============================] - ETA: 0s - loss: 0.3156 - accuracy: 0.8864\n",
      "Epoch 307: val_accuracy did not improve from 0.77167\n",
      "19/19 [==============================] - 0s 16ms/step\n",
      "val_F1_score:  0.76\n",
      "22/22 [==============================] - 2s 90ms/step - loss: 0.3156 - accuracy: 0.8864 - val_loss: 0.8959 - val_accuracy: 0.7600\n",
      "Epoch 308/3000\n",
      "22/22 [==============================] - ETA: 0s - loss: 0.3243 - accuracy: 0.8879\n",
      "Epoch 308: val_accuracy did not improve from 0.77167\n",
      "19/19 [==============================] - 0s 16ms/step\n",
      "val_F1_score:  0.7683333333333333\n",
      "22/22 [==============================] - 2s 89ms/step - loss: 0.3243 - accuracy: 0.8879 - val_loss: 0.9041 - val_accuracy: 0.7683\n",
      "Epoch 309/3000\n",
      "22/22 [==============================] - ETA: 0s - loss: 0.3335 - accuracy: 0.8821\n",
      "Epoch 309: val_accuracy did not improve from 0.77167\n",
      "19/19 [==============================] - 0s 15ms/step\n",
      "val_F1_score:  0.76\n",
      "22/22 [==============================] - 2s 88ms/step - loss: 0.3335 - accuracy: 0.8821 - val_loss: 0.9165 - val_accuracy: 0.7600\n",
      "Epoch 310/3000\n",
      "22/22 [==============================] - ETA: 0s - loss: 0.3287 - accuracy: 0.8929\n",
      "Epoch 310: val_accuracy did not improve from 0.77167\n",
      "19/19 [==============================] - 0s 15ms/step\n",
      "val_F1_score:  0.7683333333333333\n",
      "22/22 [==============================] - 2s 88ms/step - loss: 0.3287 - accuracy: 0.8929 - val_loss: 0.8853 - val_accuracy: 0.7683\n",
      "Epoch 311/3000\n",
      "22/22 [==============================] - ETA: 0s - loss: 0.3059 - accuracy: 0.8971\n",
      "Epoch 311: val_accuracy improved from 0.77167 to 0.78333, saving model to ./model2/best_model_2.h5\n",
      "19/19 [==============================] - 0s 15ms/step\n",
      "val_F1_score:  0.7833333333333333\n",
      "22/22 [==============================] - 2s 90ms/step - loss: 0.3059 - accuracy: 0.8971 - val_loss: 0.8740 - val_accuracy: 0.7833\n",
      "Epoch 312/3000\n",
      "22/22 [==============================] - ETA: 0s - loss: 0.3118 - accuracy: 0.8950\n",
      "Epoch 312: val_accuracy did not improve from 0.78333\n",
      "19/19 [==============================] - 0s 12ms/step\n",
      "val_F1_score:  0.7616666666666667\n",
      "22/22 [==============================] - 2s 85ms/step - loss: 0.3118 - accuracy: 0.8950 - val_loss: 0.9550 - val_accuracy: 0.7617\n",
      "Epoch 313/3000\n",
      "21/22 [===========================>..] - ETA: 0s - loss: 0.3186 - accuracy: 0.8906\n",
      "Epoch 313: val_accuracy did not improve from 0.78333\n",
      "19/19 [==============================] - 0s 15ms/step\n",
      "val_F1_score:  0.7666666666666667\n",
      "22/22 [==============================] - 1s 69ms/step - loss: 0.3189 - accuracy: 0.8907 - val_loss: 0.9226 - val_accuracy: 0.7667\n",
      "Epoch 314/3000\n",
      "21/22 [===========================>..] - ETA: 0s - loss: 0.3161 - accuracy: 0.8951\n",
      "Epoch 314: val_accuracy did not improve from 0.78333\n",
      "19/19 [==============================] - 0s 13ms/step\n",
      "val_F1_score:  0.7683333333333333\n",
      "22/22 [==============================] - 2s 87ms/step - loss: 0.3151 - accuracy: 0.8957 - val_loss: 0.9490 - val_accuracy: 0.7683\n",
      "Epoch 315/3000\n",
      "22/22 [==============================] - ETA: 0s - loss: 0.3512 - accuracy: 0.8721\n",
      "Epoch 315: val_accuracy did not improve from 0.78333\n",
      "19/19 [==============================] - 0s 15ms/step\n",
      "val_F1_score:  0.7683333333333333\n",
      "22/22 [==============================] - 2s 72ms/step - loss: 0.3512 - accuracy: 0.8721 - val_loss: 0.9435 - val_accuracy: 0.7683\n",
      "Epoch 316/3000\n",
      "22/22 [==============================] - ETA: 0s - loss: 0.3319 - accuracy: 0.8907\n",
      "Epoch 316: val_accuracy did not improve from 0.78333\n",
      "19/19 [==============================] - 0s 14ms/step\n",
      "val_F1_score:  0.76\n",
      "22/22 [==============================] - 2s 85ms/step - loss: 0.3319 - accuracy: 0.8907 - val_loss: 0.9860 - val_accuracy: 0.7600\n",
      "Epoch 317/3000\n",
      "22/22 [==============================] - ETA: 0s - loss: 0.3386 - accuracy: 0.8779\n",
      "Epoch 317: val_accuracy did not improve from 0.78333\n",
      "19/19 [==============================] - 0s 14ms/step\n",
      "val_F1_score:  0.775\n",
      "22/22 [==============================] - 2s 87ms/step - loss: 0.3386 - accuracy: 0.8779 - val_loss: 0.9490 - val_accuracy: 0.7750\n",
      "Epoch 318/3000\n",
      "22/22 [==============================] - ETA: 0s - loss: 0.3115 - accuracy: 0.8921\n",
      "Epoch 318: val_accuracy did not improve from 0.78333\n",
      "19/19 [==============================] - 0s 13ms/step\n",
      "val_F1_score:  0.755\n",
      "22/22 [==============================] - 2s 82ms/step - loss: 0.3115 - accuracy: 0.8921 - val_loss: 0.9768 - val_accuracy: 0.7550\n",
      "Epoch 319/3000\n",
      "22/22 [==============================] - ETA: 0s - loss: 0.3177 - accuracy: 0.8886\n",
      "Epoch 319: val_accuracy did not improve from 0.78333\n",
      "19/19 [==============================] - 0s 14ms/step\n",
      "val_F1_score:  0.7783333333333333\n",
      "22/22 [==============================] - 2s 82ms/step - loss: 0.3177 - accuracy: 0.8886 - val_loss: 0.9179 - val_accuracy: 0.7783\n",
      "Epoch 320/3000\n",
      "22/22 [==============================] - ETA: 0s - loss: 0.2847 - accuracy: 0.9093\n",
      "Epoch 320: val_accuracy did not improve from 0.78333\n",
      "19/19 [==============================] - 0s 14ms/step\n",
      "val_F1_score:  0.7733333333333333\n",
      "22/22 [==============================] - 2s 85ms/step - loss: 0.2847 - accuracy: 0.9093 - val_loss: 0.9330 - val_accuracy: 0.7733\n",
      "Epoch 321/3000\n",
      "22/22 [==============================] - ETA: 0s - loss: 0.2950 - accuracy: 0.8993\n",
      "Epoch 321: val_accuracy did not improve from 0.78333\n",
      "19/19 [==============================] - 0s 15ms/step\n",
      "val_F1_score:  0.78\n",
      "22/22 [==============================] - 2s 88ms/step - loss: 0.2950 - accuracy: 0.8993 - val_loss: 0.9090 - val_accuracy: 0.7800\n",
      "Epoch 322/3000\n",
      "21/22 [===========================>..] - ETA: 0s - loss: 0.2893 - accuracy: 0.9077\n",
      "Epoch 322: val_accuracy did not improve from 0.78333\n",
      "19/19 [==============================] - 0s 14ms/step\n",
      "val_F1_score:  0.755\n",
      "22/22 [==============================] - 2s 83ms/step - loss: 0.2951 - accuracy: 0.9057 - val_loss: 0.9446 - val_accuracy: 0.7550\n",
      "Epoch 323/3000\n",
      "22/22 [==============================] - ETA: 0s - loss: 0.3059 - accuracy: 0.8850\n",
      "Epoch 323: val_accuracy did not improve from 0.78333\n",
      "19/19 [==============================] - 0s 15ms/step\n",
      "val_F1_score:  0.7783333333333333\n",
      "22/22 [==============================] - 2s 81ms/step - loss: 0.3059 - accuracy: 0.8850 - val_loss: 0.9162 - val_accuracy: 0.7783\n",
      "Epoch 324/3000\n",
      "22/22 [==============================] - ETA: 0s - loss: 0.3207 - accuracy: 0.8814\n",
      "Epoch 324: val_accuracy did not improve from 0.78333\n",
      "19/19 [==============================] - 0s 15ms/step\n",
      "val_F1_score:  0.7483333333333333\n",
      "22/22 [==============================] - 2s 87ms/step - loss: 0.3207 - accuracy: 0.8814 - val_loss: 0.9698 - val_accuracy: 0.7483\n",
      "Epoch 325/3000\n",
      "22/22 [==============================] - ETA: 0s - loss: 0.3402 - accuracy: 0.8750\n",
      "Epoch 325: val_accuracy did not improve from 0.78333\n",
      "19/19 [==============================] - 0s 16ms/step\n",
      "val_F1_score:  0.765\n",
      "22/22 [==============================] - 2s 91ms/step - loss: 0.3402 - accuracy: 0.8750 - val_loss: 0.9071 - val_accuracy: 0.7650\n",
      "Epoch 326/3000\n",
      "22/22 [==============================] - ETA: 0s - loss: 0.3070 - accuracy: 0.8850\n",
      "Epoch 326: val_accuracy did not improve from 0.78333\n",
      "19/19 [==============================] - 0s 15ms/step\n",
      "val_F1_score:  0.7716666666666666\n",
      "22/22 [==============================] - 2s 87ms/step - loss: 0.3070 - accuracy: 0.8850 - val_loss: 0.9252 - val_accuracy: 0.7717\n",
      "Epoch 327/3000\n",
      "22/22 [==============================] - ETA: 0s - loss: 0.3197 - accuracy: 0.8871\n",
      "Epoch 327: val_accuracy did not improve from 0.78333\n",
      "19/19 [==============================] - 0s 15ms/step\n",
      "val_F1_score:  0.7733333333333333\n",
      "22/22 [==============================] - 2s 89ms/step - loss: 0.3197 - accuracy: 0.8871 - val_loss: 0.8800 - val_accuracy: 0.7733\n",
      "Epoch 328/3000\n",
      "22/22 [==============================] - ETA: 0s - loss: 0.2869 - accuracy: 0.9000\n",
      "Epoch 328: val_accuracy did not improve from 0.78333\n",
      "19/19 [==============================] - 0s 16ms/step\n",
      "val_F1_score:  0.775\n",
      "22/22 [==============================] - 2s 89ms/step - loss: 0.2869 - accuracy: 0.9000 - val_loss: 0.9083 - val_accuracy: 0.7750\n",
      "Epoch 329/3000\n",
      "22/22 [==============================] - ETA: 0s - loss: 0.2999 - accuracy: 0.8950\n",
      "Epoch 329: val_accuracy did not improve from 0.78333\n",
      "19/19 [==============================] - 0s 15ms/step\n",
      "val_F1_score:  0.7666666666666667\n",
      "22/22 [==============================] - 2s 91ms/step - loss: 0.2999 - accuracy: 0.8950 - val_loss: 0.9106 - val_accuracy: 0.7667\n",
      "Epoch 330/3000\n",
      "22/22 [==============================] - ETA: 0s - loss: 0.2898 - accuracy: 0.8979\n",
      "Epoch 330: val_accuracy did not improve from 0.78333\n",
      "19/19 [==============================] - 0s 15ms/step\n",
      "val_F1_score:  0.7616666666666667\n",
      "22/22 [==============================] - 2s 91ms/step - loss: 0.2898 - accuracy: 0.8979 - val_loss: 0.9341 - val_accuracy: 0.7617\n",
      "Epoch 331/3000\n",
      "22/22 [==============================] - ETA: 0s - loss: 0.2820 - accuracy: 0.9057\n",
      "Epoch 331: val_accuracy did not improve from 0.78333\n",
      "19/19 [==============================] - 0s 15ms/step\n",
      "val_F1_score:  0.7633333333333333\n",
      "22/22 [==============================] - 2s 87ms/step - loss: 0.2820 - accuracy: 0.9057 - val_loss: 0.9155 - val_accuracy: 0.7633\n",
      "Epoch 332/3000\n",
      "22/22 [==============================] - ETA: 0s - loss: 0.3042 - accuracy: 0.8886\n",
      "Epoch 332: val_accuracy did not improve from 0.78333\n",
      "19/19 [==============================] - 0s 15ms/step\n",
      "val_F1_score:  0.7716666666666666\n",
      "22/22 [==============================] - 2s 91ms/step - loss: 0.3042 - accuracy: 0.8886 - val_loss: 0.9113 - val_accuracy: 0.7717\n",
      "Epoch 333/3000\n",
      "22/22 [==============================] - ETA: 0s - loss: 0.2844 - accuracy: 0.9114\n",
      "Epoch 333: val_accuracy did not improve from 0.78333\n",
      "19/19 [==============================] - 0s 15ms/step\n",
      "val_F1_score:  0.7616666666666667\n",
      "22/22 [==============================] - 2s 89ms/step - loss: 0.2844 - accuracy: 0.9114 - val_loss: 0.9021 - val_accuracy: 0.7617\n",
      "Epoch 334/3000\n",
      "22/22 [==============================] - ETA: 0s - loss: 0.3165 - accuracy: 0.8929\n",
      "Epoch 334: val_accuracy did not improve from 0.78333\n",
      "19/19 [==============================] - 0s 15ms/step\n",
      "val_F1_score:  0.7383333333333333\n",
      "22/22 [==============================] - 2s 90ms/step - loss: 0.3165 - accuracy: 0.8929 - val_loss: 0.9679 - val_accuracy: 0.7383\n",
      "Epoch 335/3000\n",
      "22/22 [==============================] - ETA: 0s - loss: 0.3397 - accuracy: 0.8836\n",
      "Epoch 335: val_accuracy did not improve from 0.78333\n",
      "19/19 [==============================] - 0s 15ms/step\n",
      "val_F1_score:  0.76\n",
      "22/22 [==============================] - 2s 89ms/step - loss: 0.3397 - accuracy: 0.8836 - val_loss: 0.9222 - val_accuracy: 0.7600\n",
      "Epoch 336/3000\n",
      "22/22 [==============================] - ETA: 0s - loss: 0.3531 - accuracy: 0.8729\n",
      "Epoch 336: val_accuracy did not improve from 0.78333\n",
      "19/19 [==============================] - 0s 16ms/step\n",
      "val_F1_score:  0.765\n",
      "22/22 [==============================] - 2s 90ms/step - loss: 0.3531 - accuracy: 0.8729 - val_loss: 0.9211 - val_accuracy: 0.7650\n",
      "Epoch 337/3000\n",
      "22/22 [==============================] - ETA: 0s - loss: 0.3249 - accuracy: 0.8850\n",
      "Epoch 337: val_accuracy did not improve from 0.78333\n",
      "19/19 [==============================] - 0s 16ms/step\n",
      "val_F1_score:  0.7633333333333333\n",
      "22/22 [==============================] - 2s 88ms/step - loss: 0.3249 - accuracy: 0.8850 - val_loss: 0.9223 - val_accuracy: 0.7633\n",
      "Epoch 338/3000\n",
      "22/22 [==============================] - ETA: 0s - loss: 0.3312 - accuracy: 0.8814\n",
      "Epoch 338: val_accuracy did not improve from 0.78333\n",
      "19/19 [==============================] - 0s 15ms/step\n",
      "val_F1_score:  0.7616666666666667\n",
      "22/22 [==============================] - 2s 89ms/step - loss: 0.3312 - accuracy: 0.8814 - val_loss: 0.8783 - val_accuracy: 0.7617\n",
      "Epoch 339/3000\n",
      "22/22 [==============================] - ETA: 0s - loss: 0.3064 - accuracy: 0.9064\n",
      "Epoch 339: val_accuracy did not improve from 0.78333\n",
      "19/19 [==============================] - 0s 16ms/step\n",
      "val_F1_score:  0.765\n",
      "22/22 [==============================] - 2s 90ms/step - loss: 0.3064 - accuracy: 0.9064 - val_loss: 0.9220 - val_accuracy: 0.7650\n",
      "Epoch 340/3000\n",
      "22/22 [==============================] - ETA: 0s - loss: 0.2907 - accuracy: 0.9071\n",
      "Epoch 340: val_accuracy did not improve from 0.78333\n",
      "19/19 [==============================] - 0s 16ms/step\n",
      "val_F1_score:  0.7583333333333333\n",
      "22/22 [==============================] - 2s 92ms/step - loss: 0.2907 - accuracy: 0.9071 - val_loss: 0.9276 - val_accuracy: 0.7583\n",
      "Epoch 341/3000\n",
      "22/22 [==============================] - ETA: 0s - loss: 0.3145 - accuracy: 0.8964\n",
      "Epoch 341: val_accuracy did not improve from 0.78333\n",
      "19/19 [==============================] - 0s 16ms/step\n",
      "val_F1_score:  0.75\n",
      "22/22 [==============================] - 2s 92ms/step - loss: 0.3145 - accuracy: 0.8964 - val_loss: 0.9533 - val_accuracy: 0.7500\n",
      "Epoch 342/3000\n",
      "22/22 [==============================] - ETA: 0s - loss: 0.3031 - accuracy: 0.8986\n",
      "Epoch 342: val_accuracy did not improve from 0.78333\n",
      "19/19 [==============================] - 0s 15ms/step\n",
      "val_F1_score:  0.7516666666666667\n",
      "22/22 [==============================] - 2s 89ms/step - loss: 0.3031 - accuracy: 0.8986 - val_loss: 0.9746 - val_accuracy: 0.7517\n",
      "Epoch 343/3000\n",
      "22/22 [==============================] - ETA: 0s - loss: 0.3055 - accuracy: 0.8993\n",
      "Epoch 343: val_accuracy did not improve from 0.78333\n",
      "19/19 [==============================] - 0s 15ms/step\n",
      "val_F1_score:  0.7716666666666666\n",
      "22/22 [==============================] - 2s 87ms/step - loss: 0.3055 - accuracy: 0.8993 - val_loss: 0.9365 - val_accuracy: 0.7717\n",
      "Epoch 344/3000\n",
      "22/22 [==============================] - ETA: 0s - loss: 0.2957 - accuracy: 0.8936\n",
      "Epoch 344: val_accuracy did not improve from 0.78333\n",
      "19/19 [==============================] - 0s 14ms/step\n",
      "val_F1_score:  0.7666666666666667\n",
      "22/22 [==============================] - 2s 88ms/step - loss: 0.2957 - accuracy: 0.8936 - val_loss: 0.9466 - val_accuracy: 0.7667\n",
      "Epoch 345/3000\n",
      "22/22 [==============================] - ETA: 0s - loss: 0.2742 - accuracy: 0.9050\n",
      "Epoch 345: val_accuracy did not improve from 0.78333\n",
      "19/19 [==============================] - 0s 16ms/step\n",
      "val_F1_score:  0.7833333333333333\n",
      "22/22 [==============================] - 2s 89ms/step - loss: 0.2742 - accuracy: 0.9050 - val_loss: 0.8858 - val_accuracy: 0.7833\n",
      "Epoch 346/3000\n",
      "22/22 [==============================] - ETA: 0s - loss: 0.2873 - accuracy: 0.9000\n",
      "Epoch 346: val_accuracy did not improve from 0.78333\n",
      "19/19 [==============================] - 0s 14ms/step\n",
      "val_F1_score:  0.7633333333333333\n",
      "22/22 [==============================] - 2s 88ms/step - loss: 0.2873 - accuracy: 0.9000 - val_loss: 0.9830 - val_accuracy: 0.7633\n",
      "Epoch 347/3000\n",
      "22/22 [==============================] - ETA: 0s - loss: 0.2694 - accuracy: 0.9107\n",
      "Epoch 347: val_accuracy improved from 0.78333 to 0.79000, saving model to ./model2/best_model_2.h5\n",
      "19/19 [==============================] - 0s 14ms/step\n",
      "val_F1_score:  0.79\n",
      "22/22 [==============================] - 2s 89ms/step - loss: 0.2694 - accuracy: 0.9107 - val_loss: 0.8958 - val_accuracy: 0.7900\n",
      "Epoch 348/3000\n",
      "22/22 [==============================] - ETA: 0s - loss: 0.2821 - accuracy: 0.9100\n",
      "Epoch 348: val_accuracy did not improve from 0.79000\n",
      "19/19 [==============================] - 0s 16ms/step\n",
      "val_F1_score:  0.7533333333333333\n",
      "22/22 [==============================] - 2s 89ms/step - loss: 0.2821 - accuracy: 0.9100 - val_loss: 0.9270 - val_accuracy: 0.7533\n",
      "Epoch 349/3000\n",
      "22/22 [==============================] - ETA: 0s - loss: 0.3074 - accuracy: 0.8914\n",
      "Epoch 349: val_accuracy did not improve from 0.79000\n",
      "19/19 [==============================] - 0s 14ms/step\n",
      "val_F1_score:  0.775\n",
      "22/22 [==============================] - 2s 87ms/step - loss: 0.3074 - accuracy: 0.8914 - val_loss: 0.9381 - val_accuracy: 0.7750\n",
      "Epoch 350/3000\n",
      "22/22 [==============================] - ETA: 0s - loss: 0.2844 - accuracy: 0.9014\n",
      "Epoch 350: val_accuracy did not improve from 0.79000\n",
      "19/19 [==============================] - 0s 14ms/step\n",
      "val_F1_score:  0.7633333333333333\n",
      "22/22 [==============================] - 2s 85ms/step - loss: 0.2844 - accuracy: 0.9014 - val_loss: 0.9374 - val_accuracy: 0.7633\n",
      "Epoch 351/3000\n",
      "22/22 [==============================] - ETA: 0s - loss: 0.2998 - accuracy: 0.8950\n",
      "Epoch 351: val_accuracy did not improve from 0.79000\n",
      "19/19 [==============================] - 0s 13ms/step\n",
      "val_F1_score:  0.7583333333333333\n",
      "22/22 [==============================] - 2s 87ms/step - loss: 0.2998 - accuracy: 0.8950 - val_loss: 0.9592 - val_accuracy: 0.7583\n",
      "Epoch 352/3000\n",
      "22/22 [==============================] - ETA: 0s - loss: 0.3111 - accuracy: 0.8893\n",
      "Epoch 352: val_accuracy did not improve from 0.79000\n",
      "19/19 [==============================] - 0s 15ms/step\n",
      "val_F1_score:  0.7733333333333333\n",
      "22/22 [==============================] - 2s 85ms/step - loss: 0.3111 - accuracy: 0.8893 - val_loss: 0.9226 - val_accuracy: 0.7733\n",
      "Epoch 353/3000\n",
      "22/22 [==============================] - ETA: 0s - loss: 0.2776 - accuracy: 0.9114\n",
      "Epoch 353: val_accuracy did not improve from 0.79000\n",
      "19/19 [==============================] - 0s 14ms/step\n",
      "val_F1_score:  0.7816666666666666\n",
      "22/22 [==============================] - 2s 88ms/step - loss: 0.2776 - accuracy: 0.9114 - val_loss: 0.8738 - val_accuracy: 0.7817\n",
      "Epoch 354/3000\n",
      "22/22 [==============================] - ETA: 0s - loss: 0.2853 - accuracy: 0.8957\n",
      "Epoch 354: val_accuracy did not improve from 0.79000\n",
      "19/19 [==============================] - 0s 15ms/step\n",
      "val_F1_score:  0.7716666666666666\n",
      "22/22 [==============================] - 2s 87ms/step - loss: 0.2853 - accuracy: 0.8957 - val_loss: 0.8864 - val_accuracy: 0.7717\n",
      "Epoch 355/3000\n",
      "22/22 [==============================] - ETA: 0s - loss: 0.2646 - accuracy: 0.9079\n",
      "Epoch 355: val_accuracy did not improve from 0.79000\n",
      "19/19 [==============================] - 0s 13ms/step\n",
      "val_F1_score:  0.7633333333333333\n",
      "22/22 [==============================] - 2s 85ms/step - loss: 0.2646 - accuracy: 0.9079 - val_loss: 0.9471 - val_accuracy: 0.7633\n",
      "Epoch 356/3000\n",
      "22/22 [==============================] - ETA: 0s - loss: 0.2846 - accuracy: 0.8950\n",
      "Epoch 356: val_accuracy did not improve from 0.79000\n",
      "19/19 [==============================] - 0s 15ms/step\n",
      "val_F1_score:  0.7766666666666666\n",
      "22/22 [==============================] - 2s 89ms/step - loss: 0.2846 - accuracy: 0.8950 - val_loss: 0.8818 - val_accuracy: 0.7767\n",
      "Epoch 357/3000\n",
      "22/22 [==============================] - ETA: 0s - loss: 0.2981 - accuracy: 0.8929\n",
      "Epoch 357: val_accuracy did not improve from 0.79000\n",
      "19/19 [==============================] - 0s 14ms/step\n",
      "val_F1_score:  0.7733333333333333\n",
      "22/22 [==============================] - 2s 87ms/step - loss: 0.2981 - accuracy: 0.8929 - val_loss: 0.9179 - val_accuracy: 0.7733\n",
      "Epoch 358/3000\n",
      "22/22 [==============================] - ETA: 0s - loss: 0.3046 - accuracy: 0.8964\n",
      "Epoch 358: val_accuracy did not improve from 0.79000\n",
      "19/19 [==============================] - 0s 15ms/step\n",
      "val_F1_score:  0.7633333333333333\n",
      "22/22 [==============================] - 2s 86ms/step - loss: 0.3046 - accuracy: 0.8964 - val_loss: 0.9696 - val_accuracy: 0.7633\n",
      "Epoch 359/3000\n",
      "22/22 [==============================] - ETA: 0s - loss: 0.3369 - accuracy: 0.8814\n",
      "Epoch 359: val_accuracy did not improve from 0.79000\n",
      "19/19 [==============================] - 0s 16ms/step\n",
      "val_F1_score:  0.7683333333333333\n",
      "22/22 [==============================] - 2s 92ms/step - loss: 0.3369 - accuracy: 0.8814 - val_loss: 0.9718 - val_accuracy: 0.7683\n",
      "Epoch 360/3000\n",
      "22/22 [==============================] - ETA: 0s - loss: 0.2962 - accuracy: 0.8943\n",
      "Epoch 360: val_accuracy did not improve from 0.79000\n",
      "19/19 [==============================] - 0s 16ms/step\n",
      "val_F1_score:  0.7866666666666666\n",
      "22/22 [==============================] - 2s 92ms/step - loss: 0.2962 - accuracy: 0.8943 - val_loss: 0.9163 - val_accuracy: 0.7867\n",
      "Epoch 361/3000\n",
      "22/22 [==============================] - ETA: 0s - loss: 0.2798 - accuracy: 0.9021\n",
      "Epoch 361: val_accuracy did not improve from 0.79000\n",
      "19/19 [==============================] - 0s 16ms/step\n",
      "val_F1_score:  0.7783333333333333\n",
      "22/22 [==============================] - 2s 91ms/step - loss: 0.2798 - accuracy: 0.9021 - val_loss: 0.9340 - val_accuracy: 0.7783\n",
      "Epoch 362/3000\n",
      "22/22 [==============================] - ETA: 0s - loss: 0.2756 - accuracy: 0.9029\n",
      "Epoch 362: val_accuracy did not improve from 0.79000\n",
      "19/19 [==============================] - 0s 16ms/step\n",
      "val_F1_score:  0.7816666666666666\n",
      "22/22 [==============================] - 2s 90ms/step - loss: 0.2756 - accuracy: 0.9029 - val_loss: 0.9275 - val_accuracy: 0.7817\n",
      "Epoch 363/3000\n",
      "22/22 [==============================] - ETA: 0s - loss: 0.2730 - accuracy: 0.9100\n",
      "Epoch 363: val_accuracy did not improve from 0.79000\n",
      "19/19 [==============================] - 0s 16ms/step\n",
      "val_F1_score:  0.7616666666666667\n",
      "22/22 [==============================] - 2s 92ms/step - loss: 0.2730 - accuracy: 0.9100 - val_loss: 0.9499 - val_accuracy: 0.7617\n",
      "Epoch 364/3000\n",
      "22/22 [==============================] - ETA: 0s - loss: 0.2830 - accuracy: 0.9007\n",
      "Epoch 364: val_accuracy did not improve from 0.79000\n",
      "19/19 [==============================] - 0s 15ms/step\n",
      "val_F1_score:  0.745\n",
      "22/22 [==============================] - 2s 89ms/step - loss: 0.2830 - accuracy: 0.9007 - val_loss: 1.0014 - val_accuracy: 0.7450\n",
      "Epoch 365/3000\n",
      "22/22 [==============================] - ETA: 0s - loss: 0.2635 - accuracy: 0.9107\n",
      "Epoch 365: val_accuracy did not improve from 0.79000\n",
      "19/19 [==============================] - 0s 16ms/step\n",
      "val_F1_score:  0.7783333333333333\n",
      "22/22 [==============================] - 2s 91ms/step - loss: 0.2635 - accuracy: 0.9107 - val_loss: 0.9271 - val_accuracy: 0.7783\n",
      "Epoch 366/3000\n",
      "22/22 [==============================] - ETA: 0s - loss: 0.2517 - accuracy: 0.9207\n",
      "Epoch 366: val_accuracy did not improve from 0.79000\n",
      "19/19 [==============================] - 0s 15ms/step\n",
      "val_F1_score:  0.75\n",
      "22/22 [==============================] - 2s 90ms/step - loss: 0.2517 - accuracy: 0.9207 - val_loss: 1.0169 - val_accuracy: 0.7500\n",
      "Epoch 367/3000\n",
      "22/22 [==============================] - ETA: 0s - loss: 0.3139 - accuracy: 0.8964\n",
      "Epoch 367: val_accuracy did not improve from 0.79000\n",
      "19/19 [==============================] - 0s 16ms/step\n",
      "val_F1_score:  0.7733333333333333\n",
      "22/22 [==============================] - 2s 92ms/step - loss: 0.3139 - accuracy: 0.8964 - val_loss: 0.9238 - val_accuracy: 0.7733\n",
      "Epoch 368/3000\n",
      "22/22 [==============================] - ETA: 0s - loss: 0.2742 - accuracy: 0.9086\n",
      "Epoch 368: val_accuracy did not improve from 0.79000\n",
      "19/19 [==============================] - 0s 15ms/step\n",
      "val_F1_score:  0.775\n",
      "22/22 [==============================] - 2s 91ms/step - loss: 0.2742 - accuracy: 0.9086 - val_loss: 0.9326 - val_accuracy: 0.7750\n",
      "Epoch 369/3000\n",
      "22/22 [==============================] - ETA: 0s - loss: 0.2721 - accuracy: 0.9057\n",
      "Epoch 369: val_accuracy did not improve from 0.79000\n",
      "19/19 [==============================] - 0s 15ms/step\n",
      "val_F1_score:  0.7616666666666667\n",
      "22/22 [==============================] - 2s 90ms/step - loss: 0.2721 - accuracy: 0.9057 - val_loss: 0.9902 - val_accuracy: 0.7617\n",
      "Epoch 370/3000\n",
      "22/22 [==============================] - ETA: 0s - loss: 0.2919 - accuracy: 0.8993\n",
      "Epoch 370: val_accuracy did not improve from 0.79000\n",
      "19/19 [==============================] - 0s 16ms/step\n",
      "val_F1_score:  0.7683333333333333\n",
      "22/22 [==============================] - 2s 88ms/step - loss: 0.2919 - accuracy: 0.8993 - val_loss: 0.9646 - val_accuracy: 0.7683\n",
      "Epoch 371/3000\n",
      "22/22 [==============================] - ETA: 0s - loss: 0.2596 - accuracy: 0.9093\n",
      "Epoch 371: val_accuracy did not improve from 0.79000\n",
      "19/19 [==============================] - 0s 15ms/step\n",
      "val_F1_score:  0.7833333333333333\n",
      "22/22 [==============================] - 2s 91ms/step - loss: 0.2596 - accuracy: 0.9093 - val_loss: 0.8811 - val_accuracy: 0.7833\n",
      "Epoch 372/3000\n",
      "22/22 [==============================] - ETA: 0s - loss: 0.2432 - accuracy: 0.9207\n",
      "Epoch 372: val_accuracy did not improve from 0.79000\n",
      "19/19 [==============================] - 0s 15ms/step\n",
      "val_F1_score:  0.7783333333333333\n",
      "22/22 [==============================] - 2s 92ms/step - loss: 0.2432 - accuracy: 0.9207 - val_loss: 0.8901 - val_accuracy: 0.7783\n",
      "Epoch 373/3000\n",
      "22/22 [==============================] - ETA: 0s - loss: 0.2549 - accuracy: 0.9164\n",
      "Epoch 373: val_accuracy did not improve from 0.79000\n",
      "19/19 [==============================] - 0s 16ms/step\n",
      "val_F1_score:  0.78\n",
      "22/22 [==============================] - 2s 90ms/step - loss: 0.2549 - accuracy: 0.9164 - val_loss: 0.8970 - val_accuracy: 0.7800\n",
      "Epoch 374/3000\n",
      "22/22 [==============================] - ETA: 0s - loss: 0.2494 - accuracy: 0.9150\n",
      "Epoch 374: val_accuracy improved from 0.79000 to 0.79833, saving model to ./model2/best_model_2.h5\n",
      "19/19 [==============================] - 0s 16ms/step\n",
      "val_F1_score:  0.7983333333333333\n",
      "22/22 [==============================] - 2s 89ms/step - loss: 0.2494 - accuracy: 0.9150 - val_loss: 0.8972 - val_accuracy: 0.7983\n",
      "Epoch 375/3000\n",
      "22/22 [==============================] - ETA: 0s - loss: 0.2483 - accuracy: 0.9186\n",
      "Epoch 375: val_accuracy did not improve from 0.79833\n",
      "19/19 [==============================] - 0s 16ms/step\n",
      "val_F1_score:  0.765\n",
      "22/22 [==============================] - 2s 92ms/step - loss: 0.2483 - accuracy: 0.9186 - val_loss: 0.9982 - val_accuracy: 0.7650\n",
      "Epoch 376/3000\n",
      "22/22 [==============================] - ETA: 0s - loss: 0.2577 - accuracy: 0.9093\n",
      "Epoch 376: val_accuracy did not improve from 0.79833\n",
      "19/19 [==============================] - 0s 16ms/step\n",
      "val_F1_score:  0.7716666666666666\n",
      "22/22 [==============================] - 2s 90ms/step - loss: 0.2577 - accuracy: 0.9093 - val_loss: 0.9559 - val_accuracy: 0.7717\n",
      "Epoch 377/3000\n",
      "22/22 [==============================] - ETA: 0s - loss: 0.2525 - accuracy: 0.9200\n",
      "Epoch 377: val_accuracy did not improve from 0.79833\n",
      "19/19 [==============================] - 0s 15ms/step\n",
      "val_F1_score:  0.7816666666666666\n",
      "22/22 [==============================] - 2s 89ms/step - loss: 0.2525 - accuracy: 0.9200 - val_loss: 0.9157 - val_accuracy: 0.7817\n",
      "Epoch 378/3000\n",
      "22/22 [==============================] - ETA: 0s - loss: 0.2712 - accuracy: 0.9057\n",
      "Epoch 378: val_accuracy did not improve from 0.79833\n",
      "19/19 [==============================] - 0s 15ms/step\n",
      "val_F1_score:  0.7983333333333333\n",
      "22/22 [==============================] - 2s 89ms/step - loss: 0.2712 - accuracy: 0.9057 - val_loss: 0.9143 - val_accuracy: 0.7983\n",
      "Epoch 379/3000\n",
      "22/22 [==============================] - ETA: 0s - loss: 0.2637 - accuracy: 0.9079\n",
      "Epoch 379: val_accuracy did not improve from 0.79833\n",
      "19/19 [==============================] - 0s 15ms/step\n",
      "val_F1_score:  0.7833333333333333\n",
      "22/22 [==============================] - 2s 89ms/step - loss: 0.2637 - accuracy: 0.9079 - val_loss: 0.9180 - val_accuracy: 0.7833\n",
      "Epoch 380/3000\n",
      "22/22 [==============================] - ETA: 0s - loss: 0.2544 - accuracy: 0.9136\n",
      "Epoch 380: val_accuracy did not improve from 0.79833\n",
      "19/19 [==============================] - 0s 15ms/step\n",
      "val_F1_score:  0.7916666666666666\n",
      "22/22 [==============================] - 2s 88ms/step - loss: 0.2544 - accuracy: 0.9136 - val_loss: 0.9001 - val_accuracy: 0.7917\n",
      "Epoch 381/3000\n",
      "21/22 [===========================>..] - ETA: 0s - loss: 0.2469 - accuracy: 0.9129\n",
      "Epoch 381: val_accuracy did not improve from 0.79833\n",
      "19/19 [==============================] - 0s 15ms/step\n",
      "val_F1_score:  0.7783333333333333\n",
      "22/22 [==============================] - 2s 89ms/step - loss: 0.2498 - accuracy: 0.9107 - val_loss: 0.9718 - val_accuracy: 0.7783\n",
      "Epoch 382/3000\n",
      "21/22 [===========================>..] - ETA: 0s - loss: 0.2514 - accuracy: 0.9137\n",
      "Epoch 382: val_accuracy did not improve from 0.79833\n",
      "19/19 [==============================] - 0s 13ms/step\n",
      "val_F1_score:  0.7733333333333333\n",
      "22/22 [==============================] - 2s 87ms/step - loss: 0.2570 - accuracy: 0.9100 - val_loss: 0.9194 - val_accuracy: 0.7733\n",
      "Epoch 383/3000\n",
      "22/22 [==============================] - ETA: 0s - loss: 0.2537 - accuracy: 0.9214\n",
      "Epoch 383: val_accuracy did not improve from 0.79833\n",
      "19/19 [==============================] - 0s 15ms/step\n",
      "val_F1_score:  0.79\n",
      "22/22 [==============================] - 2s 89ms/step - loss: 0.2537 - accuracy: 0.9214 - val_loss: 0.9373 - val_accuracy: 0.7900\n",
      "Epoch 384/3000\n",
      "22/22 [==============================] - ETA: 0s - loss: 0.2548 - accuracy: 0.9114\n",
      "Epoch 384: val_accuracy did not improve from 0.79833\n",
      "19/19 [==============================] - 0s 14ms/step\n",
      "val_F1_score:  0.7783333333333333\n",
      "22/22 [==============================] - 2s 86ms/step - loss: 0.2548 - accuracy: 0.9114 - val_loss: 0.9325 - val_accuracy: 0.7783\n",
      "Epoch 385/3000\n",
      "22/22 [==============================] - ETA: 0s - loss: 0.2721 - accuracy: 0.9029\n",
      "Epoch 385: val_accuracy did not improve from 0.79833\n",
      "19/19 [==============================] - 0s 15ms/step\n",
      "val_F1_score:  0.7699999999999999\n",
      "22/22 [==============================] - 2s 83ms/step - loss: 0.2721 - accuracy: 0.9029 - val_loss: 0.9784 - val_accuracy: 0.7700\n",
      "Epoch 386/3000\n",
      "22/22 [==============================] - ETA: 0s - loss: 0.2515 - accuracy: 0.9179\n",
      "Epoch 386: val_accuracy did not improve from 0.79833\n",
      "19/19 [==============================] - 0s 15ms/step\n",
      "val_F1_score:  0.7699999999999999\n",
      "22/22 [==============================] - 2s 88ms/step - loss: 0.2515 - accuracy: 0.9179 - val_loss: 0.9553 - val_accuracy: 0.7700\n",
      "Epoch 387/3000\n",
      "22/22 [==============================] - ETA: 0s - loss: 0.2541 - accuracy: 0.9136\n",
      "Epoch 387: val_accuracy did not improve from 0.79833\n",
      "19/19 [==============================] - 0s 15ms/step\n",
      "val_F1_score:  0.7783333333333333\n",
      "22/22 [==============================] - 2s 74ms/step - loss: 0.2541 - accuracy: 0.9136 - val_loss: 0.9458 - val_accuracy: 0.7783\n",
      "Epoch 388/3000\n",
      "22/22 [==============================] - ETA: 0s - loss: 0.2578 - accuracy: 0.9179\n",
      "Epoch 388: val_accuracy did not improve from 0.79833\n",
      "19/19 [==============================] - 0s 14ms/step\n",
      "val_F1_score:  0.7766666666666666\n",
      "22/22 [==============================] - 2s 87ms/step - loss: 0.2578 - accuracy: 0.9179 - val_loss: 0.9355 - val_accuracy: 0.7767\n",
      "Epoch 389/3000\n",
      "22/22 [==============================] - ETA: 0s - loss: 0.2801 - accuracy: 0.9036\n",
      "Epoch 389: val_accuracy did not improve from 0.79833\n",
      "19/19 [==============================] - 0s 15ms/step\n",
      "val_F1_score:  0.7866666666666666\n",
      "22/22 [==============================] - 2s 89ms/step - loss: 0.2801 - accuracy: 0.9036 - val_loss: 0.9833 - val_accuracy: 0.7867\n",
      "Epoch 390/3000\n",
      "22/22 [==============================] - ETA: 0s - loss: 0.2934 - accuracy: 0.8979\n",
      "Epoch 390: val_accuracy did not improve from 0.79833\n",
      "19/19 [==============================] - 0s 15ms/step\n",
      "val_F1_score:  0.7866666666666666\n",
      "22/22 [==============================] - 2s 86ms/step - loss: 0.2934 - accuracy: 0.8979 - val_loss: 0.9426 - val_accuracy: 0.7867\n",
      "Epoch 391/3000\n",
      "22/22 [==============================] - ETA: 0s - loss: 0.2750 - accuracy: 0.9043\n",
      "Epoch 391: val_accuracy did not improve from 0.79833\n",
      "19/19 [==============================] - 0s 15ms/step\n",
      "val_F1_score:  0.7816666666666666\n",
      "22/22 [==============================] - 2s 89ms/step - loss: 0.2750 - accuracy: 0.9043 - val_loss: 0.9613 - val_accuracy: 0.7817\n",
      "Epoch 392/3000\n",
      "22/22 [==============================] - ETA: 0s - loss: 0.2485 - accuracy: 0.9150\n",
      "Epoch 392: val_accuracy did not improve from 0.79833\n",
      "19/19 [==============================] - 0s 15ms/step\n",
      "val_F1_score:  0.78\n",
      "22/22 [==============================] - 2s 86ms/step - loss: 0.2485 - accuracy: 0.9150 - val_loss: 0.9301 - val_accuracy: 0.7800\n",
      "Epoch 393/3000\n",
      "22/22 [==============================] - ETA: 0s - loss: 0.2407 - accuracy: 0.9193\n",
      "Epoch 393: val_accuracy did not improve from 0.79833\n",
      "19/19 [==============================] - 0s 15ms/step\n",
      "val_F1_score:  0.78\n",
      "22/22 [==============================] - 2s 89ms/step - loss: 0.2407 - accuracy: 0.9193 - val_loss: 0.9161 - val_accuracy: 0.7800\n",
      "Epoch 394/3000\n",
      "22/22 [==============================] - ETA: 0s - loss: 0.2593 - accuracy: 0.9050\n",
      "Epoch 394: val_accuracy did not improve from 0.79833\n",
      "19/19 [==============================] - 0s 16ms/step\n",
      "val_F1_score:  0.78\n",
      "22/22 [==============================] - 2s 90ms/step - loss: 0.2593 - accuracy: 0.9050 - val_loss: 0.9220 - val_accuracy: 0.7800\n",
      "Epoch 395/3000\n",
      "22/22 [==============================] - ETA: 0s - loss: 0.2701 - accuracy: 0.9057\n",
      "Epoch 395: val_accuracy did not improve from 0.79833\n",
      "19/19 [==============================] - 0s 15ms/step\n",
      "val_F1_score:  0.7733333333333333\n",
      "22/22 [==============================] - 2s 89ms/step - loss: 0.2701 - accuracy: 0.9057 - val_loss: 0.9602 - val_accuracy: 0.7733\n",
      "Epoch 396/3000\n",
      "22/22 [==============================] - ETA: 0s - loss: 0.2694 - accuracy: 0.9021\n",
      "Epoch 396: val_accuracy did not improve from 0.79833\n",
      "19/19 [==============================] - 0s 16ms/step\n",
      "val_F1_score:  0.755\n",
      "22/22 [==============================] - 2s 91ms/step - loss: 0.2694 - accuracy: 0.9021 - val_loss: 1.0269 - val_accuracy: 0.7550\n",
      "Epoch 397/3000\n",
      "22/22 [==============================] - ETA: 0s - loss: 0.2623 - accuracy: 0.9136\n",
      "Epoch 397: val_accuracy did not improve from 0.79833\n",
      "19/19 [==============================] - 0s 15ms/step\n",
      "val_F1_score:  0.775\n",
      "22/22 [==============================] - 2s 89ms/step - loss: 0.2623 - accuracy: 0.9136 - val_loss: 0.9321 - val_accuracy: 0.7750\n",
      "Epoch 398/3000\n",
      "22/22 [==============================] - ETA: 0s - loss: 0.2524 - accuracy: 0.9086\n",
      "Epoch 398: val_accuracy did not improve from 0.79833\n",
      "19/19 [==============================] - 0s 14ms/step\n",
      "val_F1_score:  0.7833333333333333\n",
      "22/22 [==============================] - 2s 88ms/step - loss: 0.2524 - accuracy: 0.9086 - val_loss: 0.9325 - val_accuracy: 0.7833\n",
      "Epoch 399/3000\n",
      "22/22 [==============================] - ETA: 0s - loss: 0.2439 - accuracy: 0.9179\n",
      "Epoch 399: val_accuracy did not improve from 0.79833\n",
      "19/19 [==============================] - 0s 15ms/step\n",
      "val_F1_score:  0.7916666666666666\n",
      "22/22 [==============================] - 2s 88ms/step - loss: 0.2439 - accuracy: 0.9179 - val_loss: 0.9625 - val_accuracy: 0.7917\n",
      "Epoch 400/3000\n",
      "22/22 [==============================] - ETA: 0s - loss: 0.2710 - accuracy: 0.9079\n",
      "Epoch 400: val_accuracy did not improve from 0.79833\n",
      "19/19 [==============================] - 0s 13ms/step\n",
      "val_F1_score:  0.7683333333333333\n",
      "22/22 [==============================] - 2s 89ms/step - loss: 0.2710 - accuracy: 0.9079 - val_loss: 0.9632 - val_accuracy: 0.7683\n",
      "Epoch 401/3000\n",
      "22/22 [==============================] - ETA: 0s - loss: 0.2398 - accuracy: 0.9171\n",
      "Epoch 401: val_accuracy did not improve from 0.79833\n",
      "19/19 [==============================] - 0s 14ms/step\n",
      "val_F1_score:  0.7716666666666666\n",
      "22/22 [==============================] - 2s 87ms/step - loss: 0.2398 - accuracy: 0.9171 - val_loss: 0.9540 - val_accuracy: 0.7717\n",
      "Epoch 402/3000\n",
      "22/22 [==============================] - ETA: 0s - loss: 0.2292 - accuracy: 0.9229\n",
      "Epoch 402: val_accuracy did not improve from 0.79833\n",
      "19/19 [==============================] - 0s 15ms/step\n",
      "val_F1_score:  0.7683333333333333\n",
      "22/22 [==============================] - 2s 91ms/step - loss: 0.2292 - accuracy: 0.9229 - val_loss: 0.9667 - val_accuracy: 0.7683\n",
      "Epoch 403/3000\n",
      "22/22 [==============================] - ETA: 0s - loss: 0.2500 - accuracy: 0.9121\n",
      "Epoch 403: val_accuracy did not improve from 0.79833\n",
      "19/19 [==============================] - 0s 16ms/step\n",
      "val_F1_score:  0.7783333333333333\n",
      "22/22 [==============================] - 2s 90ms/step - loss: 0.2500 - accuracy: 0.9121 - val_loss: 0.9820 - val_accuracy: 0.7783\n",
      "Epoch 404/3000\n",
      "22/22 [==============================] - ETA: 0s - loss: 0.2268 - accuracy: 0.9250\n",
      "Epoch 404: val_accuracy did not improve from 0.79833\n",
      "19/19 [==============================] - 0s 15ms/step\n",
      "val_F1_score:  0.7783333333333333\n",
      "22/22 [==============================] - 2s 91ms/step - loss: 0.2268 - accuracy: 0.9250 - val_loss: 0.9489 - val_accuracy: 0.7783\n",
      "Epoch 405/3000\n",
      "22/22 [==============================] - ETA: 0s - loss: 0.2180 - accuracy: 0.9250\n",
      "Epoch 405: val_accuracy did not improve from 0.79833\n",
      "19/19 [==============================] - 0s 15ms/step\n",
      "val_F1_score:  0.795\n",
      "22/22 [==============================] - 2s 91ms/step - loss: 0.2180 - accuracy: 0.9250 - val_loss: 0.9037 - val_accuracy: 0.7950\n",
      "Epoch 406/3000\n",
      "22/22 [==============================] - ETA: 0s - loss: 0.2249 - accuracy: 0.9214\n",
      "Epoch 406: val_accuracy did not improve from 0.79833\n",
      "19/19 [==============================] - 0s 16ms/step\n",
      "val_F1_score:  0.785\n",
      "22/22 [==============================] - 2s 89ms/step - loss: 0.2249 - accuracy: 0.9214 - val_loss: 0.9445 - val_accuracy: 0.7850\n",
      "Epoch 407/3000\n",
      "22/22 [==============================] - ETA: 0s - loss: 0.2326 - accuracy: 0.9221\n",
      "Epoch 407: val_accuracy did not improve from 0.79833\n",
      "19/19 [==============================] - 0s 15ms/step\n",
      "val_F1_score:  0.7733333333333333\n",
      "22/22 [==============================] - 2s 90ms/step - loss: 0.2326 - accuracy: 0.9221 - val_loss: 0.9689 - val_accuracy: 0.7733\n",
      "Epoch 408/3000\n",
      "22/22 [==============================] - ETA: 0s - loss: 0.2513 - accuracy: 0.9107\n",
      "Epoch 408: val_accuracy did not improve from 0.79833\n",
      "19/19 [==============================] - 0s 15ms/step\n",
      "val_F1_score:  0.7716666666666666\n",
      "22/22 [==============================] - 2s 89ms/step - loss: 0.2513 - accuracy: 0.9107 - val_loss: 0.9677 - val_accuracy: 0.7717\n",
      "Epoch 409/3000\n",
      "22/22 [==============================] - ETA: 0s - loss: 0.2688 - accuracy: 0.8986\n",
      "Epoch 409: val_accuracy did not improve from 0.79833\n",
      "19/19 [==============================] - 0s 14ms/step\n",
      "val_F1_score:  0.7733333333333333\n",
      "22/22 [==============================] - 2s 90ms/step - loss: 0.2688 - accuracy: 0.8986 - val_loss: 0.9890 - val_accuracy: 0.7733\n",
      "Epoch 410/3000\n",
      "22/22 [==============================] - ETA: 0s - loss: 0.3061 - accuracy: 0.8957\n",
      "Epoch 410: val_accuracy did not improve from 0.79833\n",
      "19/19 [==============================] - 0s 13ms/step\n",
      "val_F1_score:  0.7699999999999999\n",
      "22/22 [==============================] - 2s 84ms/step - loss: 0.3061 - accuracy: 0.8957 - val_loss: 1.0013 - val_accuracy: 0.7700\n",
      "Epoch 411/3000\n",
      "22/22 [==============================] - ETA: 0s - loss: 0.2911 - accuracy: 0.9007\n",
      "Epoch 411: val_accuracy did not improve from 0.79833\n",
      "19/19 [==============================] - 0s 15ms/step\n",
      "val_F1_score:  0.7833333333333333\n",
      "22/22 [==============================] - 2s 89ms/step - loss: 0.2911 - accuracy: 0.9007 - val_loss: 0.9488 - val_accuracy: 0.7833\n",
      "Epoch 412/3000\n",
      "22/22 [==============================] - ETA: 0s - loss: 0.2492 - accuracy: 0.9171\n",
      "Epoch 412: val_accuracy did not improve from 0.79833\n",
      "19/19 [==============================] - 0s 16ms/step\n",
      "val_F1_score:  0.7683333333333333\n",
      "22/22 [==============================] - 2s 90ms/step - loss: 0.2492 - accuracy: 0.9171 - val_loss: 0.9776 - val_accuracy: 0.7683\n",
      "Epoch 413/3000\n",
      "22/22 [==============================] - ETA: 0s - loss: 0.2270 - accuracy: 0.9243\n",
      "Epoch 413: val_accuracy did not improve from 0.79833\n",
      "19/19 [==============================] - 0s 16ms/step\n",
      "val_F1_score:  0.7933333333333333\n",
      "22/22 [==============================] - 2s 89ms/step - loss: 0.2270 - accuracy: 0.9243 - val_loss: 0.9359 - val_accuracy: 0.7933\n",
      "Epoch 414/3000\n",
      "22/22 [==============================] - ETA: 0s - loss: 0.2439 - accuracy: 0.9214\n",
      "Epoch 414: val_accuracy did not improve from 0.79833\n",
      "19/19 [==============================] - 0s 15ms/step\n",
      "val_F1_score:  0.7716666666666666\n",
      "22/22 [==============================] - 2s 89ms/step - loss: 0.2439 - accuracy: 0.9214 - val_loss: 0.9722 - val_accuracy: 0.7717\n",
      "Epoch 415/3000\n",
      "22/22 [==============================] - ETA: 0s - loss: 0.2420 - accuracy: 0.9129\n",
      "Epoch 415: val_accuracy did not improve from 0.79833\n",
      "19/19 [==============================] - 0s 15ms/step\n",
      "val_F1_score:  0.7966666666666665\n",
      "22/22 [==============================] - 2s 89ms/step - loss: 0.2420 - accuracy: 0.9129 - val_loss: 0.9296 - val_accuracy: 0.7967\n",
      "Epoch 416/3000\n",
      "22/22 [==============================] - ETA: 0s - loss: 0.2369 - accuracy: 0.9207\n",
      "Epoch 416: val_accuracy did not improve from 0.79833\n",
      "19/19 [==============================] - 0s 16ms/step\n",
      "val_F1_score:  0.78\n",
      "22/22 [==============================] - 2s 89ms/step - loss: 0.2369 - accuracy: 0.9207 - val_loss: 0.9524 - val_accuracy: 0.7800\n",
      "Epoch 417/3000\n",
      "22/22 [==============================] - ETA: 0s - loss: 0.2374 - accuracy: 0.9107\n",
      "Epoch 417: val_accuracy did not improve from 0.79833\n",
      "19/19 [==============================] - 0s 16ms/step\n",
      "val_F1_score:  0.7699999999999999\n",
      "22/22 [==============================] - 2s 88ms/step - loss: 0.2374 - accuracy: 0.9107 - val_loss: 0.9743 - val_accuracy: 0.7700\n",
      "Epoch 418/3000\n",
      "22/22 [==============================] - ETA: 0s - loss: 0.2328 - accuracy: 0.9171\n",
      "Epoch 418: val_accuracy did not improve from 0.79833\n",
      "19/19 [==============================] - 0s 14ms/step\n",
      "val_F1_score:  0.7833333333333333\n",
      "22/22 [==============================] - 2s 88ms/step - loss: 0.2328 - accuracy: 0.9171 - val_loss: 0.9562 - val_accuracy: 0.7833\n",
      "Epoch 419/3000\n",
      "22/22 [==============================] - ETA: 0s - loss: 0.2415 - accuracy: 0.9143\n",
      "Epoch 419: val_accuracy did not improve from 0.79833\n",
      "19/19 [==============================] - 0s 15ms/step\n",
      "val_F1_score:  0.7766666666666666\n",
      "22/22 [==============================] - 2s 88ms/step - loss: 0.2415 - accuracy: 0.9143 - val_loss: 0.9681 - val_accuracy: 0.7767\n",
      "Epoch 420/3000\n",
      "22/22 [==============================] - ETA: 0s - loss: 0.2461 - accuracy: 0.9179\n",
      "Epoch 420: val_accuracy did not improve from 0.79833\n",
      "19/19 [==============================] - 0s 15ms/step\n",
      "val_F1_score:  0.7766666666666666\n",
      "22/22 [==============================] - 2s 89ms/step - loss: 0.2461 - accuracy: 0.9179 - val_loss: 1.0039 - val_accuracy: 0.7767\n",
      "Epoch 421/3000\n",
      "22/22 [==============================] - ETA: 0s - loss: 0.2333 - accuracy: 0.9236\n",
      "Epoch 421: val_accuracy did not improve from 0.79833\n",
      "19/19 [==============================] - 0s 15ms/step\n",
      "val_F1_score:  0.795\n",
      "22/22 [==============================] - 2s 90ms/step - loss: 0.2333 - accuracy: 0.9236 - val_loss: 0.9521 - val_accuracy: 0.7950\n",
      "Epoch 422/3000\n",
      "22/22 [==============================] - ETA: 0s - loss: 0.2276 - accuracy: 0.9200\n",
      "Epoch 422: val_accuracy did not improve from 0.79833\n",
      "19/19 [==============================] - 0s 15ms/step\n",
      "val_F1_score:  0.7933333333333333\n",
      "22/22 [==============================] - 2s 88ms/step - loss: 0.2276 - accuracy: 0.9200 - val_loss: 0.9533 - val_accuracy: 0.7933\n",
      "Epoch 423/3000\n",
      "22/22 [==============================] - ETA: 0s - loss: 0.2408 - accuracy: 0.9250\n",
      "Epoch 423: val_accuracy did not improve from 0.79833\n",
      "19/19 [==============================] - 0s 14ms/step\n",
      "val_F1_score:  0.7666666666666667\n",
      "22/22 [==============================] - 2s 88ms/step - loss: 0.2408 - accuracy: 0.9250 - val_loss: 0.9842 - val_accuracy: 0.7667\n",
      "Epoch 424/3000\n",
      "22/22 [==============================] - ETA: 0s - loss: 0.2379 - accuracy: 0.9214\n",
      "Epoch 424: val_accuracy did not improve from 0.79833\n",
      "19/19 [==============================] - 0s 15ms/step\n",
      "val_F1_score:  0.78\n",
      "22/22 [==============================] - 2s 91ms/step - loss: 0.2379 - accuracy: 0.9214 - val_loss: 0.9690 - val_accuracy: 0.7800\n",
      "Epoch 425/3000\n",
      "22/22 [==============================] - ETA: 0s - loss: 0.2163 - accuracy: 0.9314\n",
      "Epoch 425: val_accuracy did not improve from 0.79833\n",
      "19/19 [==============================] - 0s 16ms/step\n",
      "val_F1_score:  0.7933333333333333\n",
      "22/22 [==============================] - 2s 90ms/step - loss: 0.2163 - accuracy: 0.9314 - val_loss: 0.9663 - val_accuracy: 0.7933\n",
      "Epoch 426/3000\n",
      "22/22 [==============================] - ETA: 0s - loss: 0.2171 - accuracy: 0.9307\n",
      "Epoch 426: val_accuracy did not improve from 0.79833\n",
      "19/19 [==============================] - 0s 15ms/step\n",
      "val_F1_score:  0.795\n",
      "22/22 [==============================] - 2s 88ms/step - loss: 0.2171 - accuracy: 0.9307 - val_loss: 0.9230 - val_accuracy: 0.7950\n",
      "Epoch 427/3000\n",
      "22/22 [==============================] - ETA: 0s - loss: 0.2324 - accuracy: 0.9271\n",
      "Epoch 427: val_accuracy did not improve from 0.79833\n",
      "19/19 [==============================] - 0s 14ms/step\n",
      "val_F1_score:  0.7666666666666667\n",
      "22/22 [==============================] - 2s 88ms/step - loss: 0.2324 - accuracy: 0.9271 - val_loss: 0.9871 - val_accuracy: 0.7667\n",
      "Epoch 428/3000\n",
      "22/22 [==============================] - ETA: 0s - loss: 0.2468 - accuracy: 0.9129\n",
      "Epoch 428: val_accuracy did not improve from 0.79833\n",
      "19/19 [==============================] - 0s 15ms/step\n",
      "val_F1_score:  0.7733333333333333\n",
      "22/22 [==============================] - 2s 89ms/step - loss: 0.2468 - accuracy: 0.9129 - val_loss: 0.9971 - val_accuracy: 0.7733\n",
      "Epoch 429/3000\n",
      "22/22 [==============================] - ETA: 0s - loss: 0.2279 - accuracy: 0.9193\n",
      "Epoch 429: val_accuracy did not improve from 0.79833\n",
      "19/19 [==============================] - 0s 14ms/step\n",
      "val_F1_score:  0.7816666666666666\n",
      "22/22 [==============================] - 2s 82ms/step - loss: 0.2279 - accuracy: 0.9193 - val_loss: 0.9410 - val_accuracy: 0.7817\n",
      "Epoch 430/3000\n",
      "21/22 [===========================>..] - ETA: 0s - loss: 0.2439 - accuracy: 0.9122\n",
      "Epoch 430: val_accuracy did not improve from 0.79833\n",
      "19/19 [==============================] - 0s 16ms/step\n",
      "val_F1_score:  0.775\n",
      "22/22 [==============================] - 2s 84ms/step - loss: 0.2492 - accuracy: 0.9093 - val_loss: 0.9500 - val_accuracy: 0.7750\n",
      "Epoch 431/3000\n",
      "22/22 [==============================] - ETA: 0s - loss: 0.2727 - accuracy: 0.9036\n",
      "Epoch 431: val_accuracy did not improve from 0.79833\n",
      "19/19 [==============================] - 0s 14ms/step\n",
      "val_F1_score:  0.755\n",
      "22/22 [==============================] - 2s 87ms/step - loss: 0.2727 - accuracy: 0.9036 - val_loss: 1.0411 - val_accuracy: 0.7550\n",
      "Epoch 432/3000\n",
      "22/22 [==============================] - ETA: 0s - loss: 0.2754 - accuracy: 0.9014\n",
      "Epoch 432: val_accuracy did not improve from 0.79833\n",
      "19/19 [==============================] - 0s 14ms/step\n",
      "val_F1_score:  0.7816666666666666\n",
      "22/22 [==============================] - 2s 88ms/step - loss: 0.2754 - accuracy: 0.9014 - val_loss: 0.9850 - val_accuracy: 0.7817\n",
      "Epoch 433/3000\n",
      "22/22 [==============================] - ETA: 0s - loss: 0.2505 - accuracy: 0.9164\n",
      "Epoch 433: val_accuracy did not improve from 0.79833\n",
      "19/19 [==============================] - 0s 14ms/step\n",
      "val_F1_score:  0.7816666666666666\n",
      "22/22 [==============================] - 2s 87ms/step - loss: 0.2505 - accuracy: 0.9164 - val_loss: 0.9426 - val_accuracy: 0.7817\n",
      "Epoch 434/3000\n",
      "22/22 [==============================] - ETA: 0s - loss: 0.2569 - accuracy: 0.9129\n",
      "Epoch 434: val_accuracy did not improve from 0.79833\n",
      "19/19 [==============================] - 0s 15ms/step\n",
      "val_F1_score:  0.78\n",
      "22/22 [==============================] - 2s 89ms/step - loss: 0.2569 - accuracy: 0.9129 - val_loss: 0.9469 - val_accuracy: 0.7800\n",
      "Epoch 435/3000\n",
      "22/22 [==============================] - ETA: 0s - loss: 0.2293 - accuracy: 0.9236\n",
      "Epoch 435: val_accuracy did not improve from 0.79833\n",
      "19/19 [==============================] - 0s 15ms/step\n",
      "val_F1_score:  0.785\n",
      "22/22 [==============================] - 2s 86ms/step - loss: 0.2293 - accuracy: 0.9236 - val_loss: 0.9486 - val_accuracy: 0.7850\n",
      "Epoch 436/3000\n",
      "22/22 [==============================] - ETA: 0s - loss: 0.2169 - accuracy: 0.9300\n",
      "Epoch 436: val_accuracy did not improve from 0.79833\n",
      "19/19 [==============================] - 0s 15ms/step\n",
      "val_F1_score:  0.7733333333333333\n",
      "22/22 [==============================] - 2s 84ms/step - loss: 0.2169 - accuracy: 0.9300 - val_loss: 0.9455 - val_accuracy: 0.7733\n",
      "Epoch 437/3000\n",
      "22/22 [==============================] - ETA: 0s - loss: 0.2298 - accuracy: 0.9186\n",
      "Epoch 437: val_accuracy did not improve from 0.79833\n",
      "19/19 [==============================] - 0s 15ms/step\n",
      "val_F1_score:  0.7933333333333333\n",
      "22/22 [==============================] - 2s 89ms/step - loss: 0.2298 - accuracy: 0.9186 - val_loss: 0.9206 - val_accuracy: 0.7933\n",
      "Epoch 438/3000\n",
      "22/22 [==============================] - ETA: 0s - loss: 0.2216 - accuracy: 0.9200\n",
      "Epoch 438: val_accuracy did not improve from 0.79833\n",
      "19/19 [==============================] - 0s 15ms/step\n",
      "val_F1_score:  0.7666666666666667\n",
      "22/22 [==============================] - 2s 89ms/step - loss: 0.2216 - accuracy: 0.9200 - val_loss: 0.9601 - val_accuracy: 0.7667\n",
      "Epoch 439/3000\n",
      "22/22 [==============================] - ETA: 0s - loss: 0.2386 - accuracy: 0.9214\n",
      "Epoch 439: val_accuracy did not improve from 0.79833\n",
      "19/19 [==============================] - 0s 15ms/step\n",
      "val_F1_score:  0.785\n",
      "22/22 [==============================] - 2s 88ms/step - loss: 0.2386 - accuracy: 0.9214 - val_loss: 0.9700 - val_accuracy: 0.7850\n",
      "Epoch 440/3000\n",
      "22/22 [==============================] - ETA: 0s - loss: 0.2508 - accuracy: 0.9143\n",
      "Epoch 440: val_accuracy did not improve from 0.79833\n",
      "19/19 [==============================] - 0s 14ms/step\n",
      "val_F1_score:  0.7583333333333333\n",
      "22/22 [==============================] - 2s 88ms/step - loss: 0.2508 - accuracy: 0.9143 - val_loss: 0.9945 - val_accuracy: 0.7583\n",
      "Epoch 441/3000\n",
      "22/22 [==============================] - ETA: 0s - loss: 0.2188 - accuracy: 0.9243\n",
      "Epoch 441: val_accuracy did not improve from 0.79833\n",
      "19/19 [==============================] - 0s 14ms/step\n",
      "val_F1_score:  0.7933333333333333\n",
      "22/22 [==============================] - 2s 88ms/step - loss: 0.2188 - accuracy: 0.9243 - val_loss: 0.9201 - val_accuracy: 0.7933\n",
      "Epoch 442/3000\n",
      "22/22 [==============================] - ETA: 0s - loss: 0.2209 - accuracy: 0.9250\n",
      "Epoch 442: val_accuracy did not improve from 0.79833\n",
      "19/19 [==============================] - 0s 15ms/step\n",
      "val_F1_score:  0.7883333333333333\n",
      "22/22 [==============================] - 2s 86ms/step - loss: 0.2209 - accuracy: 0.9250 - val_loss: 0.9782 - val_accuracy: 0.7883\n",
      "Epoch 443/3000\n",
      "22/22 [==============================] - ETA: 0s - loss: 0.2119 - accuracy: 0.9393\n",
      "Epoch 443: val_accuracy did not improve from 0.79833\n",
      "19/19 [==============================] - 0s 15ms/step\n",
      "val_F1_score:  0.7533333333333333\n",
      "22/22 [==============================] - 2s 88ms/step - loss: 0.2119 - accuracy: 0.9393 - val_loss: 1.0710 - val_accuracy: 0.7533\n",
      "Epoch 444/3000\n",
      "22/22 [==============================] - ETA: 0s - loss: 0.2303 - accuracy: 0.9171\n",
      "Epoch 444: val_accuracy did not improve from 0.79833\n",
      "19/19 [==============================] - 0s 14ms/step\n",
      "val_F1_score:  0.7766666666666666\n",
      "22/22 [==============================] - 2s 87ms/step - loss: 0.2303 - accuracy: 0.9171 - val_loss: 0.9922 - val_accuracy: 0.7767\n",
      "Epoch 445/3000\n",
      "22/22 [==============================] - ETA: 0s - loss: 0.2149 - accuracy: 0.9343\n",
      "Epoch 445: val_accuracy did not improve from 0.79833\n",
      "19/19 [==============================] - 0s 15ms/step\n",
      "val_F1_score:  0.7766666666666666\n",
      "22/22 [==============================] - 2s 89ms/step - loss: 0.2149 - accuracy: 0.9343 - val_loss: 0.9513 - val_accuracy: 0.7767\n",
      "Epoch 446/3000\n",
      "22/22 [==============================] - ETA: 0s - loss: 0.1980 - accuracy: 0.9364\n",
      "Epoch 446: val_accuracy did not improve from 0.79833\n",
      "19/19 [==============================] - 0s 15ms/step\n",
      "val_F1_score:  0.785\n",
      "22/22 [==============================] - 2s 86ms/step - loss: 0.1980 - accuracy: 0.9364 - val_loss: 0.9421 - val_accuracy: 0.7850\n",
      "Epoch 447/3000\n",
      "22/22 [==============================] - ETA: 0s - loss: 0.1958 - accuracy: 0.9400\n",
      "Epoch 447: val_accuracy did not improve from 0.79833\n",
      "19/19 [==============================] - 0s 14ms/step\n",
      "val_F1_score:  0.7933333333333333\n",
      "22/22 [==============================] - 2s 87ms/step - loss: 0.1958 - accuracy: 0.9400 - val_loss: 0.9135 - val_accuracy: 0.7933\n",
      "Epoch 448/3000\n",
      "22/22 [==============================] - ETA: 0s - loss: 0.2285 - accuracy: 0.9250\n",
      "Epoch 448: val_accuracy did not improve from 0.79833\n",
      "19/19 [==============================] - 0s 14ms/step\n",
      "val_F1_score:  0.7933333333333333\n",
      "22/22 [==============================] - 2s 88ms/step - loss: 0.2285 - accuracy: 0.9250 - val_loss: 0.9379 - val_accuracy: 0.7933\n",
      "Epoch 449/3000\n",
      "22/22 [==============================] - ETA: 0s - loss: 0.2012 - accuracy: 0.9379\n",
      "Epoch 449: val_accuracy did not improve from 0.79833\n",
      "19/19 [==============================] - 0s 14ms/step\n",
      "val_F1_score:  0.7766666666666666\n",
      "22/22 [==============================] - 2s 83ms/step - loss: 0.2012 - accuracy: 0.9379 - val_loss: 0.9627 - val_accuracy: 0.7767\n",
      "Epoch 450/3000\n",
      "22/22 [==============================] - ETA: 0s - loss: 0.2220 - accuracy: 0.9236\n",
      "Epoch 450: val_accuracy did not improve from 0.79833\n",
      "19/19 [==============================] - 0s 15ms/step\n",
      "val_F1_score:  0.775\n",
      "22/22 [==============================] - 2s 87ms/step - loss: 0.2220 - accuracy: 0.9236 - val_loss: 0.9811 - val_accuracy: 0.7750\n",
      "Epoch 451/3000\n",
      "21/22 [===========================>..] - ETA: 0s - loss: 0.2055 - accuracy: 0.9315\n",
      "Epoch 451: val_accuracy improved from 0.79833 to 0.80167, saving model to ./model2/best_model_2.h5\n",
      "19/19 [==============================] - 0s 15ms/step\n",
      "val_F1_score:  0.8016666666666666\n",
      "\n",
      "Reached 0.80% val_F1_score, so stopping training!!\n",
      "22/22 [==============================] - 2s 87ms/step - loss: 0.2090 - accuracy: 0.9300 - val_loss: 0.9703 - val_accuracy: 0.8017\n"
     ]
    },
    {
     "data": {
      "text/plain": [
       "<keras.callbacks.History at 0x7f300c2798a0>"
      ]
     },
     "execution_count": 96,
     "metadata": {},
     "output_type": "execute_result"
    }
   ],
   "source": [
    "#train your model\n",
    "\n",
    "model2.fit([X_train_spectrogram],y_train_int, batch_size=64, epochs=3000, \n",
    "           validation_data=([X_test_spectrogram], y_test_int), callbacks=[callbacks2, metrics, tensorboard2],\n",
    "          )"
   ]
  },
  {
   "cell_type": "markdown",
   "metadata": {},
   "source": [
    "> <b>At end of 451 epoch val_F1_score 0.80</b>"
   ]
  },
  {
   "cell_type": "code",
   "execution_count": 97,
   "metadata": {},
   "outputs": [
    {
     "data": {
      "text/html": [
       "\n",
       "      <iframe id=\"tensorboard-frame-769d723634a6f7ab\" width=\"100%\" height=\"800\" frameborder=\"0\">\n",
       "      </iframe>\n",
       "      <script>\n",
       "        (function() {\n",
       "          const frame = document.getElementById(\"tensorboard-frame-769d723634a6f7ab\");\n",
       "          const url = new URL(\"/\", window.location);\n",
       "          const port = 6006;\n",
       "          if (port) {\n",
       "            url.port = port;\n",
       "          }\n",
       "          frame.src = url;\n",
       "        })();\n",
       "      </script>\n",
       "    "
      ],
      "text/plain": [
       "<IPython.core.display.HTML object>"
      ]
     },
     "metadata": {},
     "output_type": "display_data"
    }
   ],
   "source": [
    "%tensorboard --logdir model2/model2_logs"
   ]
  },
  {
   "cell_type": "code",
   "execution_count": 98,
   "metadata": {},
   "outputs": [
    {
     "data": {
      "text/plain": [
       "<matplotlib.legend.Legend at 0x7f30341484f0>"
      ]
     },
     "execution_count": 98,
     "metadata": {},
     "output_type": "execute_result"
    },
    {
     "data": {
      "image/png": "[encoded data removed]",
      "text/plain": [
       "<Figure size 2160x360 with 1 Axes>"
      ]
     },
     "metadata": {
      "needs_background": "light"
     },
     "output_type": "display_data"
    }
   ],
   "source": [
    "# Plot training & validation iou_score values\n",
    "import matplotlib.pyplot as plt\n",
    "his = pd.read_csv('model2/history.csv')\n",
    "\n",
    "plt.figure(figsize=(30, 5))\n",
    "plt.subplot(121)\n",
    "plt.plot(his['loss'])\n",
    "plt.plot(his['val_loss'])\n",
    "plt.title('Model loss')\n",
    "plt.ylabel('loss')\n",
    "plt.xlabel('Epoch')\n",
    "plt.legend(['Train', 'Test'], loc='upper left')"
   ]
  },
  {
   "cell_type": "markdown",
   "metadata": {
    "id": "862fP2e-aNp3"
   },
   "source": [
    "> <b> From the above plot we can ensure that model is slightly gets overfit</b>"
   ]
  },
  {
   "cell_type": "code",
   "execution_count": null,
   "metadata": {
    "id": "VtMsbGs3aNp_"
   },
   "outputs": [],
   "source": []
  },
  {
   "cell_type": "markdown",
   "metadata": {
    "id": "aSl8ZOXjaNqJ"
   },
   "source": [
    "### 3. Data augmentation with raw features \n",
    "\n",
    "Till now we have done with 2000 samples only. It is very less data. We are giving the process of generating augmented data below.\n",
    "\n",
    "There are two types of augmentation:\n",
    "1. time stretching - Time stretching either increases or decreases the length of the file. For time stretching we move the file 30% faster or slower\n",
    "2. pitch shifting - pitch shifting moves the frequencies higher or lower. For pitch shifting we shift up or down one half-step.\n"
   ]
  },
  {
   "cell_type": "code",
   "execution_count": 100,
   "metadata": {
    "id": "jR4JSEDgaNqK"
   },
   "outputs": [],
   "source": [
    "## generating augmented data. \n",
    "def generate_augmented_data(file_path):\n",
    "    augmented_data = []\n",
    "    samples = load_wav(file_path,get_duration=False)\n",
    "    for time_value in [0.7, 1, 1.3]:\n",
    "        for pitch_value in [-1, 0, 1]:\n",
    "            time_stretch_data = librosa.effects.time_stretch(samples, rate=time_value)\n",
    "            final_data = librosa.effects.pitch_shift(time_stretch_data, sr=sample_rate, n_steps=pitch_value)\n",
    "            augmented_data.append(final_data)\n",
    "    return augmented_data"
   ]
  },
  {
   "cell_type": "code",
   "execution_count": 101,
   "metadata": {},
   "outputs": [
    {
     "data": {
      "text/plain": [
       "path     recordings/3_jackson_1.wav\n",
       "label                             3\n",
       "Name: 766, dtype: object"
      ]
     },
     "execution_count": 101,
     "metadata": {},
     "output_type": "execute_result"
    }
   ],
   "source": [
    "df_audio.iloc[0]"
   ]
  },
  {
   "cell_type": "code",
   "execution_count": 102,
   "metadata": {
    "id": "QRdefb-SaNqS"
   },
   "outputs": [],
   "source": [
    "temp_path = df_audio.iloc[0].path\n",
    "aug_temp = generate_augmented_data(temp_path)"
   ]
  },
  {
   "cell_type": "code",
   "execution_count": 103,
   "metadata": {
    "id": "kzdG3iS-aNqc",
    "outputId": "0f17e45e-63a0-4986-8f69-05e2dbd71bac"
   },
   "outputs": [
    {
     "data": {
      "text/plain": [
       "9"
      ]
     },
     "execution_count": 103,
     "metadata": {},
     "output_type": "execute_result"
    }
   ],
   "source": [
    "len(aug_temp)"
   ]
  },
  {
   "cell_type": "markdown",
   "metadata": {
    "id": "ZckytZsraNqk"
   },
   "source": [
    "## Follow the steps \n",
    "\n",
    "1. Split data 'df_audio' into train and test (80-20 split)\n",
    "\n",
    "2. We have 2000 data points(1600 train points, 400 test points) \n",
    "\n"
   ]
  },
  {
   "cell_type": "code",
   "execution_count": 104,
   "metadata": {
    "id": "LFo5SnTLO_sD"
   },
   "outputs": [],
   "source": [
    "from sklearn.model_selection import train_test_split\n",
    "\n",
    "X_train, X_test, y_train, y_test=train_test_split(df_audio['path'],df_audio['label'],random_state=45,test_size=0.2,stratify=df_audio['label'])"
   ]
  },
  {
   "cell_type": "markdown",
   "metadata": {
    "id": "AdKXVRlpaNql"
   },
   "source": [
    "3. Do augmentation only on X_train,pass each point of X_train to generate_augmented_data function.After augmentation we will get 14400 train points. Make sure that you are augmenting the corresponding class labels (y_train) also.\n",
    "4. Preprocess your X_test using load_wav function.\n",
    "5. Convert the augmented_train_data and test_data to numpy arrays.\n",
    "6. Perform padding and masking on augmented_train_data and test_data.\n",
    "7. After padding define the model similar to model 1 and fit the data"
   ]
  },
  {
   "cell_type": "markdown",
   "metadata": {
    "id": "H8Yh72uYO_sD"
   },
   "source": [
    "<font color='red'> Note </font> - While fitting your model on the augmented data for model 3 you might face Resource exhaust error. One simple hack to avoid that is save the augmented_train_data,augment_y_train,test_data and y_test to Drive or into your local system. Then restart the runtime so that now you can train your model with full RAM capacity. Upload these files again in the new runtime session perform padding and masking and then fit your model."
   ]
  },
  {
   "cell_type": "code",
   "execution_count": 105,
   "metadata": {},
   "outputs": [
    {
     "data": {
      "text/plain": [
       "1263     recordings/8_yweweler_4.wav\n",
       "142     recordings/2_yweweler_42.wav\n",
       "1954         recordings/7_theo_7.wav\n",
       "65          recordings/3_theo_46.wav\n",
       "1531     recordings/9_jackson_32.wav\n",
       "                    ...             \n",
       "113          recordings/9_theo_7.wav\n",
       "1637     recordings/7_jackson_22.wav\n",
       "1473      recordings/0_jackson_1.wav\n",
       "617      recordings/3_yweweler_3.wav\n",
       "1639     recordings/2_nicolas_22.wav\n",
       "Name: path, Length: 1600, dtype: object"
      ]
     },
     "execution_count": 105,
     "metadata": {},
     "output_type": "execute_result"
    }
   ],
   "source": [
    "X_train"
   ]
  },
  {
   "cell_type": "code",
   "execution_count": 106,
   "metadata": {},
   "outputs": [
    {
     "data": {
      "text/plain": [
       "1263    8\n",
       "142     2\n",
       "1954    7\n",
       "65      3\n",
       "1531    9\n",
       "       ..\n",
       "113     9\n",
       "1637    7\n",
       "1473    0\n",
       "617     3\n",
       "1639    2\n",
       "Name: label, Length: 1600, dtype: object"
      ]
     },
     "execution_count": 106,
     "metadata": {},
     "output_type": "execute_result"
    }
   ],
   "source": [
    "y_train"
   ]
  },
  {
   "cell_type": "code",
   "execution_count": 107,
   "metadata": {},
   "outputs": [],
   "source": [
    "y_train_int = y_train.astype(int)\n",
    "y_test_int = y_test.astype(int)"
   ]
  },
  {
   "cell_type": "code",
   "execution_count": 108,
   "metadata": {},
   "outputs": [
    {
     "name": "stderr",
     "output_type": "stream",
     "text": [
      "100%|███████████████████████████████████████| 1600/1600 [03:15<00:00,  8.16it/s]\n",
      "100%|███████████████████████████████████| 1600/1600 [00:00<00:00, 196730.96it/s]\n"
     ]
    }
   ],
   "source": [
    "X_train_aug = []\n",
    "y_train_aug = []\n",
    "\n",
    "for i in tqdm(range(len(X_train))):\n",
    "    temp_path = X_train.iloc[i]\n",
    "    X_train_aug.append(generate_augmented_data(temp_path))\n",
    "    \n",
    "for j in tqdm(range(len(y_train_int))):\n",
    "    temp_label = y_train_int.iloc[j]\n",
    "    y_train_aug.append([temp_label]*9)\n",
    "    \n",
    "X_train_aug = np.array(X_train_aug)\n",
    "y_train_aug = np.array(y_train_aug)\n",
    "\n",
    "X_train_augmented = X_train_aug.flatten()\n",
    "y_train_augmented = y_train_aug.flatten()"
   ]
  },
  {
   "cell_type": "code",
   "execution_count": 52,
   "metadata": {},
   "outputs": [],
   "source": [
    "import pickle\n",
    "\n",
    "# save all your results to disk so that, no need to run all again. \n",
    "pickle.dump((X_train_augmented, y_train_augmented),open('model3/augmented.pkl','wb'))"
   ]
  },
  {
   "cell_type": "code",
   "execution_count": 24,
   "metadata": {},
   "outputs": [],
   "source": [
    "#import pickle\n",
    "#X_train_augmented, y_train_augmented = pickle.load(open('model3/augmented.pkl', 'rb'))"
   ]
  },
  {
   "cell_type": "code",
   "execution_count": 25,
   "metadata": {},
   "outputs": [
    {
     "name": "stdout",
     "output_type": "stream",
     "text": [
      "(14400,)\n",
      "(14400,)\n"
     ]
    }
   ],
   "source": [
    "print(X_train_augmented.shape)\n",
    "print(y_train_augmented.shape)"
   ]
  },
  {
   "cell_type": "code",
   "execution_count": 109,
   "metadata": {},
   "outputs": [
    {
     "name": "stdout",
     "output_type": "stream",
     "text": [
      "[ 2.7550347e-04  2.7281698e-04  1.2551129e-04 ... -1.2097165e-04\n",
      " -9.4063718e-05 -9.1231283e-05]\n",
      "2\n"
     ]
    }
   ],
   "source": [
    "print(X_train_augmented[9])\n",
    "print(y_train_augmented[9])"
   ]
  },
  {
   "cell_type": "code",
   "execution_count": 110,
   "metadata": {},
   "outputs": [],
   "source": [
    "sample_rate = 22050\n",
    "def load_wav(x, get_duration=True):\n",
    "    '''This return the array values of audio with sampling rate of 22050 and Duration'''\n",
    "    #loading the wav file with sampling rate of 22050\n",
    "    samples, sample_rate = librosa.load(x, sr=22050)\n",
    "    if get_duration:\n",
    "        duration = librosa.get_duration(samples, sample_rate)\n",
    "        return [samples, duration]\n",
    "    else:\n",
    "        return samples"
   ]
  },
  {
   "cell_type": "code",
   "execution_count": 111,
   "metadata": {},
   "outputs": [
    {
     "name": "stderr",
     "output_type": "stream",
     "text": [
      "100%|████████████████████████████████████████| 400/400 [00:02<00:00, 136.74it/s]\n"
     ]
    }
   ],
   "source": [
    "X_te = X_test.values\n",
    "\n",
    "test_raw_data = []\n",
    "test_duration = []\n",
    "\n",
    "for i in tqdm(range(len(X_te))):\n",
    "    samples, duration = load_wav(X_te[i])\n",
    "    test_raw_data.append(samples)\n",
    "    test_duration.append(duration)\n",
    "    \n",
    "X_test_processed = pd.DataFrame()\n",
    "X_test_processed['raw_data'] = test_raw_data\n",
    "X_test_processed['duration'] = test_duration"
   ]
  },
  {
   "cell_type": "code",
   "execution_count": 112,
   "metadata": {},
   "outputs": [
    {
     "data": {
      "text/html": [
       "<div>\n",
       "<style scoped>\n",
       "    .dataframe tbody tr th:only-of-type {\n",
       "        vertical-align: middle;\n",
       "    }\n",
       "\n",
       "    .dataframe tbody tr th {\n",
       "        vertical-align: top;\n",
       "    }\n",
       "\n",
       "    .dataframe thead th {\n",
       "        text-align: right;\n",
       "    }\n",
       "</style>\n",
       "<table border=\"1\" class=\"dataframe\">\n",
       "  <thead>\n",
       "    <tr style=\"text-align: right;\">\n",
       "      <th></th>\n",
       "      <th>raw_data</th>\n",
       "      <th>duration</th>\n",
       "    </tr>\n",
       "  </thead>\n",
       "  <tbody>\n",
       "    <tr>\n",
       "      <th>0</th>\n",
       "      <td>[-2.4109613e-05, 6.209989e-05, 0.0001363404, 0...</td>\n",
       "      <td>0.409388</td>\n",
       "    </tr>\n",
       "    <tr>\n",
       "      <th>1</th>\n",
       "      <td>[-0.009577481, -0.011705862, -0.01152472, -0.0...</td>\n",
       "      <td>0.355782</td>\n",
       "    </tr>\n",
       "    <tr>\n",
       "      <th>2</th>\n",
       "      <td>[-0.00021788295, -0.00023067498, -0.0001956816...</td>\n",
       "      <td>0.326531</td>\n",
       "    </tr>\n",
       "    <tr>\n",
       "      <th>3</th>\n",
       "      <td>[0.009968175, 0.007859625, 0.003288437, -0.000...</td>\n",
       "      <td>0.582902</td>\n",
       "    </tr>\n",
       "    <tr>\n",
       "      <th>4</th>\n",
       "      <td>[-0.0071265, -0.0045903055, -0.0015180755, -0....</td>\n",
       "      <td>0.553651</td>\n",
       "    </tr>\n",
       "  </tbody>\n",
       "</table>\n",
       "</div>"
      ],
      "text/plain": [
       "                                            raw_data  duration\n",
       "0  [-2.4109613e-05, 6.209989e-05, 0.0001363404, 0...  0.409388\n",
       "1  [-0.009577481, -0.011705862, -0.01152472, -0.0...  0.355782\n",
       "2  [-0.00021788295, -0.00023067498, -0.0001956816...  0.326531\n",
       "3  [0.009968175, 0.007859625, 0.003288437, -0.000...  0.582902\n",
       "4  [-0.0071265, -0.0045903055, -0.0015180755, -0....  0.553651"
      ]
     },
     "execution_count": 112,
     "metadata": {},
     "output_type": "execute_result"
    }
   ],
   "source": [
    "X_test_processed.head()"
   ]
  },
  {
   "cell_type": "code",
   "execution_count": 113,
   "metadata": {},
   "outputs": [
    {
     "data": {
      "text/plain": [
       "(400,)"
      ]
     },
     "execution_count": 113,
     "metadata": {},
     "output_type": "execute_result"
    }
   ],
   "source": [
    "X_test = X_test_processed['raw_data'].values\n",
    "X_test.shape"
   ]
  },
  {
   "cell_type": "code",
   "execution_count": 114,
   "metadata": {},
   "outputs": [],
   "source": [
    "max_length  = 17640"
   ]
  },
  {
   "cell_type": "code",
   "execution_count": 115,
   "metadata": {},
   "outputs": [
    {
     "data": {
      "text/plain": [
       "5530"
      ]
     },
     "execution_count": 115,
     "metadata": {},
     "output_type": "execute_result"
    }
   ],
   "source": [
    "len(X_train_augmented[8])"
   ]
  },
  {
   "cell_type": "code",
   "execution_count": 116,
   "metadata": {},
   "outputs": [
    {
     "name": "stderr",
     "output_type": "stream",
     "text": [
      "100%|████████████████████████████████████| 14400/14400 [00:16<00:00, 862.99it/s]\n",
      "100%|████████████████████████████████████████| 400/400 [00:00<00:00, 906.55it/s]\n"
     ]
    },
    {
     "name": "stdout",
     "output_type": "stream",
     "text": [
      "(14400, 17640)\n",
      "(400, 17640)\n",
      "(14400, 17640)\n",
      "(400, 17640)\n"
     ]
    }
   ],
   "source": [
    "# https://stackoverflow.com/questions/30475558/padding-or-truncating-a-python-list\n",
    "\n",
    "def trp(l, n):\n",
    "    \"\"\" Truncate or pad a list \"\"\"\n",
    "    r = list(l[:n])\n",
    "    if(len(r) < n):\n",
    "        r.extend([0] * (n - len(r)))\n",
    "    return r\n",
    "\n",
    "X_train_pad_seq = []\n",
    "X_train_mask = []\n",
    "X_test_pad_seq = []\n",
    "X_test_mask = []\n",
    "\n",
    "for i in tqdm(range(len(X_train_augmented))):\n",
    "    pad_seq = trp(np.array(X_train_augmented[i]), max_length)\n",
    "    X_train_pad_seq.append(pad_seq)\n",
    "    \n",
    "    \n",
    "for i in tqdm(range(len(X_test))):\n",
    "    pad_seq = trp(np.array(X_test[i]), max_length)\n",
    "    X_test_pad_seq.append(pad_seq)\n",
    "    \n",
    "\n",
    "\n",
    "X_train_pad_seq = np.array(X_train_pad_seq)\n",
    "X_test_pad_seq = np.array(X_test_pad_seq)\n",
    "\n",
    "X_train_mask = np.where(X_train_pad_seq != 0, 1, 0)\n",
    "X_train_mask = X_train_mask.astype(bool)\n",
    "X_test_mask = np.where(X_test_pad_seq != 0, 1, 0)\n",
    "X_test_mask = X_test_mask.astype(bool)\n",
    "\n",
    "print(X_train_pad_seq.shape)\n",
    "print(X_test_pad_seq.shape)\n",
    "\n",
    "print(X_train_mask.shape)\n",
    "print(X_test_mask.shape)\n"
   ]
  },
  {
   "cell_type": "code",
   "execution_count": 43,
   "metadata": {},
   "outputs": [
    {
     "data": {
      "text/plain": [
       "(400,)"
      ]
     },
     "execution_count": 43,
     "metadata": {},
     "output_type": "execute_result"
    }
   ],
   "source": [
    "y_test_int.shape"
   ]
  },
  {
   "cell_type": "code",
   "execution_count": 34,
   "metadata": {},
   "outputs": [],
   "source": [
    "%load_ext tensorboard"
   ]
  },
  {
   "cell_type": "code",
   "execution_count": 44,
   "metadata": {},
   "outputs": [
    {
     "name": "stdout",
     "output_type": "stream",
     "text": [
      "Model: \"model\"\n",
      "__________________________________________________________________________________________________\n",
      " Layer (type)                   Output Shape         Param #     Connected to                     \n",
      "==================================================================================================\n",
      " seq_inp (InputLayer)           [(None, 17640, 1)]   0           []                               \n",
      "                                                                                                  \n",
      " mask_inp (InputLayer)          [(None, 17640)]      0           []                               \n",
      "                                                                                                  \n",
      " lstm (LSTM)                    (None, 64)           16896       ['seq_inp[0][0]',                \n",
      "                                                                  'mask_inp[0][0]']               \n",
      "                                                                                                  \n",
      " dense (Dense)                  (None, 64)           4160        ['lstm[0][0]']                   \n",
      "                                                                                                  \n",
      " dropout (Dropout)              (None, 64)           0           ['dense[0][0]']                  \n",
      "                                                                                                  \n",
      " dense_1 (Dense)                (None, 10)           650         ['dropout[0][0]']                \n",
      "                                                                                                  \n",
      "==================================================================================================\n",
      "Total params: 21,706\n",
      "Trainable params: 21,706\n",
      "Non-trainable params: 0\n",
      "__________________________________________________________________________________________________\n"
     ]
    }
   ],
   "source": [
    "## as discussed above, please write the architecture of the model.\n",
    "## you will have two input layers in your model (data input layer and mask input layer)\n",
    "## make sure that you have defined the data type of masking layer as bool\n",
    "\n",
    "\n",
    "tf.keras.backend.clear_session()\n",
    "\n",
    "seq_inp_layer = Input(shape=(17640,1), dtype='float32',name='seq_inp')\n",
    "mask_inp_layer = Input(shape=(17640), dtype='bool',name='mask_inp')\n",
    "lstm = LSTM(64)(seq_inp_layer,mask=mask_inp_layer)\n",
    "fc1 = Dense(64,activation='relu',kernel_initializer='he_uniform')(lstm)\n",
    "dp1 = Dropout(0.2)(fc1)\n",
    "out_layer = Dense(10,activation='softmax')(dp1)\n",
    "\n",
    "model3 = Model(inputs=[seq_inp_layer,mask_inp_layer],outputs=out_layer)\n",
    "model3.summary()"
   ]
  },
  {
   "cell_type": "code",
   "execution_count": 46,
   "metadata": {},
   "outputs": [
    {
     "data": {
      "image/png": "[encoded data removed]",
      "text/plain": [
       "<IPython.core.display.Image object>"
      ]
     },
     "execution_count": 46,
     "metadata": {},
     "output_type": "execute_result"
    }
   ],
   "source": [
    "tf.keras.utils.plot_model(model3, to_file='model3/model3.png')"
   ]
  },
  {
   "cell_type": "code",
   "execution_count": 50,
   "metadata": {},
   "outputs": [],
   "source": [
    "class Metrics(tf.keras.callbacks.Callback):\n",
    "    def __init__(self, validation_data):\n",
    "        super().__init__()\n",
    "        self.x_test = validation_data[0]\n",
    "        self.y_test = validation_data[1]\n",
    "        \n",
    "    def on_epoch_end(self, epoch, logs={}):\n",
    "        val_predict = (np.asarray(self.model.predict(self.x_test)))\n",
    "        val_label = np.argmax(val_predict, axis = 1)\n",
    "        val_targ = self.y_test\n",
    "        val_f1 = f1_score(val_targ, val_label, average='micro')\n",
    "        print(\"val_F1_score: \", val_f1)\n",
    "        \n",
    "metrics = Metrics(validation_data=([X_test_pad_seq,X_test_mask], y_test_int))"
   ]
  },
  {
   "cell_type": "code",
   "execution_count": 51,
   "metadata": {},
   "outputs": [
    {
     "name": "stderr",
     "output_type": "stream",
     "text": [
      "2022-09-02 18:14:59.085720: I tensorflow/core/profiler/lib/profiler_session.cc:99] Profiler session initializing.\n",
      "2022-09-02 18:14:59.085747: I tensorflow/core/profiler/lib/profiler_session.cc:114] Profiler session started.\n",
      "2022-09-02 18:14:59.085912: E tensorflow/core/profiler/internal/gpu/cupti_error_manager.cc:133] cuptiGetTimestamp: ignored due to a previous error.\n",
      "2022-09-02 18:14:59.085922: E tensorflow/core/profiler/internal/gpu/cupti_error_manager.cc:184] cuptiSubscribe: ignored due to a previous error.\n",
      "2022-09-02 18:14:59.085926: E tensorflow/core/profiler/internal/gpu/cupti_error_manager.cc:457] cuptiGetResultString: ignored due to a previous error.\n",
      "2022-09-02 18:14:59.085931: E tensorflow/core/profiler/internal/gpu/cupti_tracer.cc:1716] function cupti_interface_->Subscribe( &subscriber_, (CUpti_CallbackFunc)ApiCallback, this)failed with error \n",
      "2022-09-02 18:14:59.086000: I tensorflow/core/profiler/lib/profiler_session.cc:126] Profiler session tear down.\n",
      "2022-09-02 18:14:59.086031: E tensorflow/core/profiler/internal/gpu/cupti_error_manager.cc:140] cuptiFinalize: ignored due to a previous error.\n",
      "2022-09-02 18:14:59.086035: E tensorflow/core/profiler/internal/gpu/cupti_error_manager.cc:457] cuptiGetResultString: ignored due to a previous error.\n",
      "2022-09-02 18:14:59.086038: E tensorflow/core/profiler/internal/gpu/cupti_tracer.cc:1808] function cupti_interface_->Finalize()failed with error \n"
     ]
    }
   ],
   "source": [
    "tensorboard3 = TensorBoard(log_dir='model3/model3_logs'.format(time()), histogram_freq=1, write_graph=True,)"
   ]
  },
  {
   "cell_type": "code",
   "execution_count": 52,
   "metadata": {},
   "outputs": [],
   "source": [
    "callbacks3 = [\n",
    "    ModelCheckpoint(filepath='./model3/best_model_3.h5', save_weights_only = True, save_best_only = True, \\\n",
    "                                       mode = 'max', monitor = 'val_accuracy', verbose = 1),\n",
    "    tf.keras.callbacks.ReduceLROnPlateau(monitor = 'val_accuracy', patience = 1, mode = 'max', verbose = 1),\n",
    "    tf.keras.callbacks.CSVLogger('./model3/history.csv'),\n",
    "]\n",
    "\n",
    "\n",
    "model3.compile(loss='sparse_categorical_crossentropy', optimizer=tf.keras.optimizers.Adam(lr=0.0006,decay = 1e-4),\n",
    "              metrics=['accuracy'])\n"
   ]
  },
  {
   "cell_type": "code",
   "execution_count": 53,
   "metadata": {
    "scrolled": false
   },
   "outputs": [
    {
     "name": "stdout",
     "output_type": "stream",
     "text": [
      "Epoch 1/2\n",
      "  1/225 [..............................] - ETA: 34:18 - loss: 2.3026 - accuracy: 0.0781"
     ]
    },
    {
     "name": "stderr",
     "output_type": "stream",
     "text": [
      "2022-09-02 18:15:22.732962: I tensorflow/core/profiler/lib/profiler_session.cc:99] Profiler session initializing.\n",
      "2022-09-02 18:15:22.732994: I tensorflow/core/profiler/lib/profiler_session.cc:114] Profiler session started.\n",
      "2022-09-02 18:15:22.733041: E tensorflow/core/profiler/internal/gpu/cupti_error_manager.cc:133] cuptiGetTimestamp: ignored due to a previous error.\n",
      "2022-09-02 18:15:22.733050: E tensorflow/core/profiler/internal/gpu/cupti_error_manager.cc:184] cuptiSubscribe: ignored due to a previous error.\n",
      "2022-09-02 18:15:22.733058: E tensorflow/core/profiler/internal/gpu/cupti_error_manager.cc:457] cuptiGetResultString: ignored due to a previous error.\n",
      "2022-09-02 18:15:22.733063: E tensorflow/core/profiler/internal/gpu/cupti_tracer.cc:1716] function cupti_interface_->Subscribe( &subscriber_, (CUpti_CallbackFunc)ApiCallback, this)failed with error \n",
      "2022-09-02 18:15:30.677094: I tensorflow/core/profiler/lib/profiler_session.cc:66] Profiler session collecting data.\n",
      "2022-09-02 18:15:30.835014: E tensorflow/core/profiler/internal/gpu/cupti_error_manager.cc:140] cuptiFinalize: ignored due to a previous error.\n",
      "2022-09-02 18:15:30.835051: E tensorflow/core/profiler/internal/gpu/cupti_error_manager.cc:457] cuptiGetResultString: ignored due to a previous error.\n",
      "2022-09-02 18:15:30.835056: E tensorflow/core/profiler/internal/gpu/cupti_tracer.cc:1808] function cupti_interface_->Finalize()failed with error \n",
      "2022-09-02 18:15:36.047919: E tensorflow/core/profiler/internal/gpu/cupti_error_manager.cc:133] cuptiGetTimestamp: ignored due to a previous error.\n",
      "2022-09-02 18:15:36.047957: E tensorflow/core/profiler/internal/gpu/cupti_error_manager.cc:133] cuptiGetTimestamp: ignored due to a previous error.\n",
      "2022-09-02 18:15:36.047963: I tensorflow/core/profiler/internal/gpu/cupti_collector.cc:521]  GpuTracer has collected 0 callback api events and 0 activity events. \n",
      "2022-09-02 18:15:42.203276: I tensorflow/core/profiler/lib/profiler_session.cc:126] Profiler session tear down.\n",
      "2022-09-02 18:15:49.864184: I tensorflow/core/profiler/rpc/client/save_profile.cc:136] Creating directory: model3/model3_logs/train/plugins/profile/2022_09_02_18_15_42\n",
      "\n",
      "2022-09-02 18:15:52.450548: I tensorflow/core/profiler/rpc/client/save_profile.cc:142] Dumped gzipped tool data for trace.json.gz to model3/model3_logs/train/plugins/profile/2022_09_02_18_15_42/AI-iiitg.trace.json.gz\n",
      "2022-09-02 18:15:59.497667: I tensorflow/core/profiler/rpc/client/save_profile.cc:136] Creating directory: model3/model3_logs/train/plugins/profile/2022_09_02_18_15_42\n",
      "\n",
      "2022-09-02 18:15:59.503822: I tensorflow/core/profiler/rpc/client/save_profile.cc:142] Dumped gzipped tool data for memory_profile.json.gz to model3/model3_logs/train/plugins/profile/2022_09_02_18_15_42/AI-iiitg.memory_profile.json.gz\n",
      "2022-09-02 18:15:59.599289: I tensorflow/core/profiler/rpc/client/capture_profile.cc:251] Creating directory: model3/model3_logs/train/plugins/profile/2022_09_02_18_15_42\n",
      "Dumped tool data for xplane.pb to model3/model3_logs/train/plugins/profile/2022_09_02_18_15_42/AI-iiitg.xplane.pb\n",
      "Dumped tool data for overview_page.pb to model3/model3_logs/train/plugins/profile/2022_09_02_18_15_42/AI-iiitg.overview_page.pb\n",
      "Dumped tool data for input_pipeline.pb to model3/model3_logs/train/plugins/profile/2022_09_02_18_15_42/AI-iiitg.input_pipeline.pb\n",
      "Dumped tool data for tensorflow_stats.pb to model3/model3_logs/train/plugins/profile/2022_09_02_18_15_42/AI-iiitg.tensorflow_stats.pb\n",
      "Dumped tool data for kernel_stats.pb to model3/model3_logs/train/plugins/profile/2022_09_02_18_15_42/AI-iiitg.kernel_stats.pb\n",
      "\n"
     ]
    },
    {
     "name": "stdout",
     "output_type": "stream",
     "text": [
      "225/225 [==============================] - ETA: 0s - loss: 2.3029 - accuracy: 0.0988\n",
      "Epoch 1: val_accuracy improved from -inf to 0.10000, saving model to ./model3/best_model_3.h5\n",
      "13/13 [==============================] - 24s 2s/step\n",
      "val_F1_score:  0.10000000000000002\n",
      "225/225 [==============================] - 1932s 9s/step - loss: 2.3029 - accuracy: 0.0988 - val_loss: 2.3026 - val_accuracy: 0.1000 - lr: 6.0000e-04\n",
      "Epoch 2/2\n",
      "225/225 [==============================] - ETA: 0s - loss: 2.3028 - accuracy: 0.0955\n",
      "Epoch 2: val_accuracy did not improve from 0.10000\n",
      "\n",
      "Epoch 2: ReduceLROnPlateau reducing learning rate to 6.000000284984708e-05.\n",
      "13/13 [==============================] - 28s 2s/step\n",
      "val_F1_score:  0.10000000000000002\n",
      "225/225 [==============================] - 1894s 8s/step - loss: 2.3028 - accuracy: 0.0955 - val_loss: 2.3026 - val_accuracy: 0.1000 - lr: 6.0000e-04\n"
     ]
    },
    {
     "data": {
      "text/plain": [
       "<keras.callbacks.History at 0x7fe76557d300>"
      ]
     },
     "execution_count": 53,
     "metadata": {},
     "output_type": "execute_result"
    }
   ],
   "source": [
    "#train your model\n",
    "model3.fit([X_train_pad_seq,X_train_mask],y_train_augmented, batch_size=64, epochs=2, \n",
    "           validation_data=([X_test_pad_seq,X_test_mask], y_test_int), callbacks=[callbacks3, metrics, tensorboard3],\n",
    "          )"
   ]
  },
  {
   "cell_type": "markdown",
   "metadata": {},
   "source": [
    "> <b>At end of 2 epoch val_F1_score 0.10</b>"
   ]
  },
  {
   "cell_type": "code",
   "execution_count": 54,
   "metadata": {},
   "outputs": [
    {
     "data": {
      "text/html": [
       "\n",
       "      <iframe id=\"tensorboard-frame-5de32c2c7c38b006\" width=\"100%\" height=\"800\" frameborder=\"0\">\n",
       "      </iframe>\n",
       "      <script>\n",
       "        (function() {\n",
       "          const frame = document.getElementById(\"tensorboard-frame-5de32c2c7c38b006\");\n",
       "          const url = new URL(\"/\", window.location);\n",
       "          const port = 6006;\n",
       "          if (port) {\n",
       "            url.port = port;\n",
       "          }\n",
       "          frame.src = url;\n",
       "        })();\n",
       "      </script>\n",
       "    "
      ],
      "text/plain": [
       "<IPython.core.display.HTML object>"
      ]
     },
     "metadata": {},
     "output_type": "display_data"
    }
   ],
   "source": [
    "%tensorboard --logdir model3/model3_logs"
   ]
  },
  {
   "cell_type": "code",
   "execution_count": 55,
   "metadata": {},
   "outputs": [
    {
     "data": {
      "text/plain": [
       "<matplotlib.legend.Legend at 0x7fe75c603640>"
      ]
     },
     "execution_count": 55,
     "metadata": {},
     "output_type": "execute_result"
    },
    {
     "data": {
      "image/png": "[encoded data removed]",
      "text/plain": [
       "<Figure size 2160x360 with 1 Axes>"
      ]
     },
     "metadata": {
      "needs_background": "light"
     },
     "output_type": "display_data"
    }
   ],
   "source": [
    "# Plot training & validation iou_score values\n",
    "import matplotlib.pyplot as plt\n",
    "his = pd.read_csv('model3/history.csv')\n",
    "\n",
    "plt.figure(figsize=(30, 5))\n",
    "plt.subplot(121)\n",
    "plt.plot(his['loss'])\n",
    "plt.plot(his['val_loss'])\n",
    "plt.title('Model loss')\n",
    "plt.ylabel('loss')\n",
    "plt.xlabel('Epoch')\n",
    "plt.legend(['Train', 'Test'], loc='upper left')"
   ]
  },
  {
   "cell_type": "markdown",
   "metadata": {},
   "source": [
    "> <b> From the above plot we can ensure that model is not overfitted</b>"
   ]
  },
  {
   "cell_type": "markdown",
   "metadata": {
    "id": "vXY9uP7cO_sE"
   },
   "source": [
    "### 4. Data augmentation with spectogram data"
   ]
  },
  {
   "cell_type": "markdown",
   "metadata": {
    "id": "EShBfiERO_sE"
   },
   "source": [
    "1. use convert_to_spectrogram and convert the padded data from train and test data to spectogram data.\n",
    "2. The shape of train data will be 14400 x 64 x 35 and shape of test_data will be 400 x 64 x35\n",
    "3. Define the model similar to model 2 and fit the data"
   ]
  },
  {
   "cell_type": "code",
   "execution_count": 99,
   "metadata": {
    "id": "QpVMCEW3O_sE"
   },
   "outputs": [],
   "source": [
    "def convert_to_spectrogram(raw_data):\n",
    "    '''converting to spectrogram'''\n",
    "    spectrum = librosa.feature.melspectrogram(y=raw_data, sr=sample_rate, n_mels=64)\n",
    "    logmel_spectrum = librosa.power_to_db(S=spectrum, ref=np.max)\n",
    "    return logmel_spectrum"
   ]
  },
  {
   "cell_type": "code",
   "execution_count": 117,
   "metadata": {},
   "outputs": [
    {
     "name": "stdout",
     "output_type": "stream",
     "text": [
      "(14400, 64, 35)\n",
      "(400, 64, 35)\n"
     ]
    }
   ],
   "source": [
    "X_train_spectrogram = np.array(convert_to_spectrogram(X_train_pad_seq))\n",
    "X_test_spectrogram = np.array(convert_to_spectrogram(X_test_pad_seq))\n",
    "\n",
    "\n",
    "print(X_train_spectrogram.shape)\n",
    "print(X_test_spectrogram.shape)"
   ]
  },
  {
   "cell_type": "code",
   "execution_count": 118,
   "metadata": {},
   "outputs": [
    {
     "name": "stdout",
     "output_type": "stream",
     "text": [
      "Model: \"model\"\n",
      "_________________________________________________________________\n",
      " Layer (type)                Output Shape              Param #   \n",
      "=================================================================\n",
      " X_train_pad_seq_input (Inpu  [(None, 64, 35)]         0         \n",
      " tLayer)                                                         \n",
      "                                                                 \n",
      " lstm (LSTM)                 (None, 64, 128)           83968     \n",
      "                                                                 \n",
      " global_average_pooling1d (G  (None, 128)              0         \n",
      " lobalAveragePooling1D)                                          \n",
      "                                                                 \n",
      " dense (Dense)               (None, 128)               16512     \n",
      "                                                                 \n",
      " p_re_lu (PReLU)             (None, 128)               128       \n",
      "                                                                 \n",
      " dropout (Dropout)           (None, 128)               0         \n",
      "                                                                 \n",
      " dense_1 (Dense)             (None, 10)                1290      \n",
      "                                                                 \n",
      "=================================================================\n",
      "Total params: 101,898\n",
      "Trainable params: 101,898\n",
      "Non-trainable params: 0\n",
      "_________________________________________________________________\n"
     ]
    }
   ],
   "source": [
    "# write the architecture of the model\n",
    "#print model.summary and make sure that it is following point 2 mentioned above\n",
    "\n",
    "tf.keras.backend.clear_session()\n",
    "\n",
    "input_layer = Input(shape=(64, 35), name=\"X_train_pad_seq_input\", dtype='float32')\n",
    "\n",
    "lstm_output = LSTM(128, return_sequences=True, kernel_initializer=tf.keras.initializers.HeUniform())(input_layer)\n",
    "\n",
    "global_pooling = GlobalAveragePooling1D()(lstm_output)\n",
    "\n",
    "fc1 = Dense(128, kernel_initializer=tf.keras.initializers.HeUniform())(global_pooling)\n",
    "\n",
    "gelu_1 = tf.keras.layers.PReLU()(fc1)\n",
    "\n",
    "droup_1 = Dropout(0.2)(gelu_1)\n",
    "\n",
    "output = Dense(10,activation='softmax')(droup_1)\n",
    "\n",
    "model4 = Model(inputs = [input_layer], outputs = output) \n",
    "\n",
    "model4.summary()"
   ]
  },
  {
   "cell_type": "code",
   "execution_count": 119,
   "metadata": {},
   "outputs": [
    {
     "data": {
      "image/png": "[encoded data removed]",
      "text/plain": [
       "<IPython.core.display.Image object>"
      ]
     },
     "execution_count": 119,
     "metadata": {},
     "output_type": "execute_result"
    }
   ],
   "source": [
    "tf.keras.utils.plot_model(model4, to_file='model4/model4.png')"
   ]
  },
  {
   "cell_type": "code",
   "execution_count": 120,
   "metadata": {},
   "outputs": [
    {
     "data": {
      "text/plain": [
       "(400, 64, 35)"
      ]
     },
     "execution_count": 120,
     "metadata": {},
     "output_type": "execute_result"
    }
   ],
   "source": [
    "X_test_spectrogram.shape"
   ]
  },
  {
   "cell_type": "code",
   "execution_count": 121,
   "metadata": {},
   "outputs": [
    {
     "data": {
      "text/plain": [
       "(400,)"
      ]
     },
     "execution_count": 121,
     "metadata": {},
     "output_type": "execute_result"
    }
   ],
   "source": [
    "y_test_int.shape"
   ]
  },
  {
   "cell_type": "code",
   "execution_count": 129,
   "metadata": {},
   "outputs": [
    {
     "data": {
      "text/plain": [
       "(14400, 64, 35)"
      ]
     },
     "execution_count": 129,
     "metadata": {},
     "output_type": "execute_result"
    }
   ],
   "source": [
    "X_train_spectrogram.shape"
   ]
  },
  {
   "cell_type": "code",
   "execution_count": 126,
   "metadata": {},
   "outputs": [
    {
     "data": {
      "text/plain": [
       "(14400,)"
      ]
     },
     "execution_count": 126,
     "metadata": {},
     "output_type": "execute_result"
    }
   ],
   "source": [
    "y_train_augmented.shape"
   ]
  },
  {
   "cell_type": "code",
   "execution_count": 122,
   "metadata": {
    "id": "40RMwgJ6O_sE"
   },
   "outputs": [],
   "source": [
    "THRESHOLD = 0.8\n",
    "class Metrics(tf.keras.callbacks.Callback):\n",
    "    def __init__(self, validation_data):\n",
    "        super().__init__()\n",
    "        self.x_test = validation_data[0]\n",
    "        self.y_test = validation_data[1]\n",
    "        \n",
    "    def on_epoch_end(self, epoch, logs={}):\n",
    "        val_predict = (np.asarray(self.model.predict(self.x_test)))\n",
    "        val_label = np.argmax(val_predict, axis = 1)\n",
    "        val_targ = self.y_test\n",
    "        val_f1 = f1_score(val_targ, val_label, average='micro')\n",
    "        print(\"val_F1_score: \", val_f1)\n",
    "        \n",
    "        \n",
    "        if(val_f1 > 0.80):\n",
    "            print(\"\\nReached %2.2f%% val_F1_score, so stopping training!!\" %(THRESHOLD))\n",
    "            self.model.stop_training = True\n",
    "        \n",
    "        \n",
    "metrics = Metrics(validation_data=([X_test_spectrogram], y_test_int))"
   ]
  },
  {
   "cell_type": "code",
   "execution_count": 123,
   "metadata": {},
   "outputs": [
    {
     "name": "stderr",
     "output_type": "stream",
     "text": [
      "2022-09-03 14:00:31.092361: I tensorflow/core/profiler/lib/profiler_session.cc:99] Profiler session initializing.\n",
      "2022-09-03 14:00:31.092401: I tensorflow/core/profiler/lib/profiler_session.cc:114] Profiler session started.\n",
      "2022-09-03 14:00:31.095870: E tensorflow/core/profiler/internal/gpu/cupti_error_manager.cc:133] cuptiGetTimestamp: ignored due to a previous error.\n",
      "2022-09-03 14:00:31.095890: E tensorflow/core/profiler/internal/gpu/cupti_error_manager.cc:184] cuptiSubscribe: ignored due to a previous error.\n",
      "2022-09-03 14:00:31.095895: E tensorflow/core/profiler/internal/gpu/cupti_error_manager.cc:457] cuptiGetResultString: ignored due to a previous error.\n",
      "2022-09-03 14:00:31.095900: E tensorflow/core/profiler/internal/gpu/cupti_tracer.cc:1716] function cupti_interface_->Subscribe( &subscriber_, (CUpti_CallbackFunc)ApiCallback, this)failed with error \n",
      "2022-09-03 14:00:31.095950: I tensorflow/core/profiler/lib/profiler_session.cc:126] Profiler session tear down.\n",
      "2022-09-03 14:00:31.095995: E tensorflow/core/profiler/internal/gpu/cupti_error_manager.cc:140] cuptiFinalize: ignored due to a previous error.\n",
      "2022-09-03 14:00:31.095999: E tensorflow/core/profiler/internal/gpu/cupti_error_manager.cc:457] cuptiGetResultString: ignored due to a previous error.\n",
      "2022-09-03 14:00:31.096002: E tensorflow/core/profiler/internal/gpu/cupti_tracer.cc:1808] function cupti_interface_->Finalize()failed with error \n"
     ]
    }
   ],
   "source": [
    "tensorboard4 = TensorBoard(log_dir='model4/model4_logs'.format(time()), histogram_freq=1, write_graph=True,)"
   ]
  },
  {
   "cell_type": "code",
   "execution_count": 124,
   "metadata": {},
   "outputs": [],
   "source": [
    "callbacks4 = [\n",
    "    ModelCheckpoint(filepath='./model4/best_model_4.h5', save_weights_only = True, save_best_only = True, \\\n",
    "                                       mode = 'max', monitor = 'val_accuracy', verbose = 1),\n",
    "    tf.keras.callbacks.CSVLogger('./model4/history.csv'),\n",
    "]\n",
    "\n",
    "#compile model.\n",
    "model4.compile(loss='sparse_categorical_crossentropy', optimizer=tf.keras.optimizers.Adam(lr=0.0006),\n",
    "              metrics=['accuracy'])\n"
   ]
  },
  {
   "cell_type": "code",
   "execution_count": 130,
   "metadata": {
    "scrolled": true
   },
   "outputs": [
    {
     "name": "stdout",
     "output_type": "stream",
     "text": [
      "Epoch 1/3000\n",
      "  1/225 [..............................] - ETA: 4:39 - loss: 2.5051 - accuracy: 0.0625"
     ]
    },
    {
     "name": "stderr",
     "output_type": "stream",
     "text": [
      "2022-09-03 14:07:22.437954: I tensorflow/core/profiler/lib/profiler_session.cc:99] Profiler session initializing.\n",
      "2022-09-03 14:07:22.437983: I tensorflow/core/profiler/lib/profiler_session.cc:114] Profiler session started.\n",
      "2022-09-03 14:07:22.438105: E tensorflow/core/profiler/internal/gpu/cupti_error_manager.cc:133] cuptiGetTimestamp: ignored due to a previous error.\n",
      "2022-09-03 14:07:22.438115: E tensorflow/core/profiler/internal/gpu/cupti_error_manager.cc:184] cuptiSubscribe: ignored due to a previous error.\n",
      "2022-09-03 14:07:22.438120: E tensorflow/core/profiler/internal/gpu/cupti_error_manager.cc:457] cuptiGetResultString: ignored due to a previous error.\n",
      "2022-09-03 14:07:22.438124: E tensorflow/core/profiler/internal/gpu/cupti_tracer.cc:1716] function cupti_interface_->Subscribe( &subscriber_, (CUpti_CallbackFunc)ApiCallback, this)failed with error \n",
      "2022-09-03 14:07:22.554106: I tensorflow/core/profiler/lib/profiler_session.cc:66] Profiler session collecting data.\n",
      "2022-09-03 14:07:22.555258: E tensorflow/core/profiler/internal/gpu/cupti_error_manager.cc:140] cuptiFinalize: ignored due to a previous error.\n",
      "2022-09-03 14:07:22.555273: E tensorflow/core/profiler/internal/gpu/cupti_error_manager.cc:457] cuptiGetResultString: ignored due to a previous error.\n",
      "2022-09-03 14:07:22.555278: E tensorflow/core/profiler/internal/gpu/cupti_tracer.cc:1808] function cupti_interface_->Finalize()failed with error \n",
      "2022-09-03 14:07:22.573473: E tensorflow/core/profiler/internal/gpu/cupti_error_manager.cc:133] cuptiGetTimestamp: ignored due to a previous error.\n",
      "2022-09-03 14:07:22.573492: E tensorflow/core/profiler/internal/gpu/cupti_error_manager.cc:133] cuptiGetTimestamp: ignored due to a previous error.\n",
      "2022-09-03 14:07:22.573498: I tensorflow/core/profiler/internal/gpu/cupti_collector.cc:521]  GpuTracer has collected 0 callback api events and 0 activity events. \n",
      "2022-09-03 14:07:22.598806: I tensorflow/core/profiler/lib/profiler_session.cc:126] Profiler session tear down.\n",
      "2022-09-03 14:07:22.624798: I tensorflow/core/profiler/rpc/client/save_profile.cc:136] Creating directory: model4/model4_logs/train/plugins/profile/2022_09_03_14_07_22\n",
      "\n"
     ]
    },
    {
     "name": "stdout",
     "output_type": "stream",
     "text": [
      "  4/225 [..............................] - ETA: 27s - loss: 2.5233 - accuracy: 0.0781"
     ]
    },
    {
     "name": "stderr",
     "output_type": "stream",
     "text": [
      "2022-09-03 14:07:22.644273: I tensorflow/core/profiler/rpc/client/save_profile.cc:142] Dumped gzipped tool data for trace.json.gz to model4/model4_logs/train/plugins/profile/2022_09_03_14_07_22/AI-iiitg.trace.json.gz\n",
      "2022-09-03 14:07:22.686045: I tensorflow/core/profiler/rpc/client/save_profile.cc:136] Creating directory: model4/model4_logs/train/plugins/profile/2022_09_03_14_07_22\n",
      "\n",
      "2022-09-03 14:07:22.691480: I tensorflow/core/profiler/rpc/client/save_profile.cc:142] Dumped gzipped tool data for memory_profile.json.gz to model4/model4_logs/train/plugins/profile/2022_09_03_14_07_22/AI-iiitg.memory_profile.json.gz\n",
      "2022-09-03 14:07:22.692014: I tensorflow/core/profiler/rpc/client/capture_profile.cc:251] Creating directory: model4/model4_logs/train/plugins/profile/2022_09_03_14_07_22\n",
      "Dumped tool data for xplane.pb to model4/model4_logs/train/plugins/profile/2022_09_03_14_07_22/AI-iiitg.xplane.pb\n",
      "Dumped tool data for overview_page.pb to model4/model4_logs/train/plugins/profile/2022_09_03_14_07_22/AI-iiitg.overview_page.pb\n",
      "Dumped tool data for input_pipeline.pb to model4/model4_logs/train/plugins/profile/2022_09_03_14_07_22/AI-iiitg.input_pipeline.pb\n",
      "Dumped tool data for tensorflow_stats.pb to model4/model4_logs/train/plugins/profile/2022_09_03_14_07_22/AI-iiitg.tensorflow_stats.pb\n",
      "Dumped tool data for kernel_stats.pb to model4/model4_logs/train/plugins/profile/2022_09_03_14_07_22/AI-iiitg.kernel_stats.pb\n",
      "\n"
     ]
    },
    {
     "name": "stdout",
     "output_type": "stream",
     "text": [
      "225/225 [==============================] - ETA: 0s - loss: 2.1742 - accuracy: 0.1992\n",
      "Epoch 1: val_accuracy improved from -inf to 0.30500, saving model to ./model4/best_model_4.h5\n",
      "13/13 [==============================] - 0s 16ms/step\n",
      "val_F1_score:  0.305\n",
      "225/225 [==============================] - 14s 56ms/step - loss: 2.1742 - accuracy: 0.1992 - val_loss: 2.0058 - val_accuracy: 0.3050\n",
      "Epoch 2/3000\n",
      "224/225 [============================>.] - ETA: 0s - loss: 1.9218 - accuracy: 0.3292\n",
      "Epoch 2: val_accuracy improved from 0.30500 to 0.42250, saving model to ./model4/best_model_4.h5\n",
      "13/13 [==============================] - 0s 15ms/step\n",
      "val_F1_score:  0.4225\n",
      "225/225 [==============================] - 12s 54ms/step - loss: 1.9215 - accuracy: 0.3293 - val_loss: 1.8040 - val_accuracy: 0.4225\n",
      "Epoch 3/3000\n",
      "225/225 [==============================] - ETA: 0s - loss: 1.7148 - accuracy: 0.4094\n",
      "Epoch 3: val_accuracy improved from 0.42250 to 0.51750, saving model to ./model4/best_model_4.h5\n",
      "13/13 [==============================] - 0s 16ms/step\n",
      "val_F1_score:  0.5175\n",
      "225/225 [==============================] - 11s 51ms/step - loss: 1.7148 - accuracy: 0.4094 - val_loss: 1.6113 - val_accuracy: 0.5175\n",
      "Epoch 4/3000\n",
      "225/225 [==============================] - ETA: 0s - loss: 1.5507 - accuracy: 0.4550\n",
      "Epoch 4: val_accuracy improved from 0.51750 to 0.54250, saving model to ./model4/best_model_4.h5\n",
      "13/13 [==============================] - 0s 15ms/step\n",
      "val_F1_score:  0.5425\n",
      "225/225 [==============================] - 13s 56ms/step - loss: 1.5507 - accuracy: 0.4550 - val_loss: 1.4936 - val_accuracy: 0.5425\n",
      "Epoch 5/3000\n",
      "225/225 [==============================] - ETA: 0s - loss: 1.4465 - accuracy: 0.4992\n",
      "Epoch 5: val_accuracy improved from 0.54250 to 0.54750, saving model to ./model4/best_model_4.h5\n",
      "13/13 [==============================] - 0s 16ms/step\n",
      "val_F1_score:  0.5475\n",
      "225/225 [==============================] - 13s 56ms/step - loss: 1.4465 - accuracy: 0.4992 - val_loss: 1.3819 - val_accuracy: 0.5475\n",
      "Epoch 6/3000\n",
      "224/225 [============================>.] - ETA: 0s - loss: 1.3544 - accuracy: 0.5263\n",
      "Epoch 6: val_accuracy improved from 0.54750 to 0.59250, saving model to ./model4/best_model_4.h5\n",
      "13/13 [==============================] - 0s 17ms/step\n",
      "val_F1_score:  0.5925\n",
      "225/225 [==============================] - 13s 56ms/step - loss: 1.3543 - accuracy: 0.5262 - val_loss: 1.2822 - val_accuracy: 0.5925\n",
      "Epoch 7/3000\n",
      "225/225 [==============================] - ETA: 0s - loss: 1.2762 - accuracy: 0.5556\n",
      "Epoch 7: val_accuracy did not improve from 0.59250\n",
      "13/13 [==============================] - 0s 16ms/step\n",
      "val_F1_score:  0.5725\n",
      "225/225 [==============================] - 12s 55ms/step - loss: 1.2762 - accuracy: 0.5556 - val_loss: 1.2577 - val_accuracy: 0.5725\n",
      "Epoch 8/3000\n",
      "225/225 [==============================] - ETA: 0s - loss: 1.2036 - accuracy: 0.5845\n",
      "Epoch 8: val_accuracy did not improve from 0.59250\n",
      "13/13 [==============================] - 0s 16ms/step\n",
      "val_F1_score:  0.575\n",
      "225/225 [==============================] - 12s 55ms/step - loss: 1.2036 - accuracy: 0.5845 - val_loss: 1.2351 - val_accuracy: 0.5750\n",
      "Epoch 9/3000\n",
      "225/225 [==============================] - ETA: 0s - loss: 1.1392 - accuracy: 0.6086\n",
      "Epoch 9: val_accuracy did not improve from 0.59250\n",
      "13/13 [==============================] - 0s 15ms/step\n",
      "val_F1_score:  0.575\n",
      "225/225 [==============================] - 13s 56ms/step - loss: 1.1392 - accuracy: 0.6086 - val_loss: 1.1931 - val_accuracy: 0.5750\n",
      "Epoch 10/3000\n",
      "225/225 [==============================] - ETA: 0s - loss: 1.0959 - accuracy: 0.6221\n",
      "Epoch 10: val_accuracy improved from 0.59250 to 0.60000, saving model to ./model4/best_model_4.h5\n",
      "13/13 [==============================] - 0s 15ms/step\n",
      "val_F1_score:  0.6\n",
      "225/225 [==============================] - 12s 55ms/step - loss: 1.0959 - accuracy: 0.6221 - val_loss: 1.1255 - val_accuracy: 0.6000\n",
      "Epoch 11/3000\n",
      "225/225 [==============================] - ETA: 0s - loss: 1.0470 - accuracy: 0.6433\n",
      "Epoch 11: val_accuracy improved from 0.60000 to 0.65250, saving model to ./model4/best_model_4.h5\n",
      "13/13 [==============================] - 0s 16ms/step\n",
      "val_F1_score:  0.6525\n",
      "225/225 [==============================] - 12s 55ms/step - loss: 1.0470 - accuracy: 0.6433 - val_loss: 1.0577 - val_accuracy: 0.6525\n",
      "Epoch 12/3000\n",
      "225/225 [==============================] - ETA: 0s - loss: 1.0083 - accuracy: 0.6483\n",
      "Epoch 12: val_accuracy improved from 0.65250 to 0.66000, saving model to ./model4/best_model_4.h5\n",
      "13/13 [==============================] - 0s 16ms/step\n",
      "val_F1_score:  0.66\n",
      "225/225 [==============================] - 13s 56ms/step - loss: 1.0083 - accuracy: 0.6483 - val_loss: 1.0041 - val_accuracy: 0.6600\n",
      "Epoch 13/3000\n",
      "225/225 [==============================] - ETA: 0s - loss: 0.9672 - accuracy: 0.6680\n",
      "Epoch 13: val_accuracy improved from 0.66000 to 0.69000, saving model to ./model4/best_model_4.h5\n",
      "13/13 [==============================] - 0s 17ms/step\n",
      "val_F1_score:  0.69\n",
      "225/225 [==============================] - 12s 55ms/step - loss: 0.9672 - accuracy: 0.6680 - val_loss: 0.9912 - val_accuracy: 0.6900\n",
      "Epoch 14/3000\n",
      "225/225 [==============================] - ETA: 0s - loss: 0.9416 - accuracy: 0.6774\n",
      "Epoch 14: val_accuracy improved from 0.69000 to 0.69250, saving model to ./model4/best_model_4.h5\n",
      "13/13 [==============================] - 0s 16ms/step\n",
      "val_F1_score:  0.6925\n",
      "225/225 [==============================] - 13s 56ms/step - loss: 0.9416 - accuracy: 0.6774 - val_loss: 0.9662 - val_accuracy: 0.6925\n",
      "Epoch 15/3000\n",
      "225/225 [==============================] - ETA: 0s - loss: 0.9032 - accuracy: 0.6929\n",
      "Epoch 15: val_accuracy improved from 0.69250 to 0.70000, saving model to ./model4/best_model_4.h5\n",
      "13/13 [==============================] - 0s 15ms/step\n",
      "val_F1_score:  0.7\n",
      "225/225 [==============================] - 12s 55ms/step - loss: 0.9032 - accuracy: 0.6929 - val_loss: 0.9250 - val_accuracy: 0.7000\n",
      "Epoch 16/3000\n",
      "225/225 [==============================] - ETA: 0s - loss: 0.8757 - accuracy: 0.7058\n",
      "Epoch 16: val_accuracy improved from 0.70000 to 0.70750, saving model to ./model4/best_model_4.h5\n",
      "13/13 [==============================] - 0s 14ms/step\n",
      "val_F1_score:  0.7075\n",
      "225/225 [==============================] - 11s 50ms/step - loss: 0.8757 - accuracy: 0.7058 - val_loss: 0.8895 - val_accuracy: 0.7075\n",
      "Epoch 17/3000\n",
      "225/225 [==============================] - ETA: 0s - loss: 0.8439 - accuracy: 0.7133\n",
      "Epoch 17: val_accuracy did not improve from 0.70750\n",
      "13/13 [==============================] - 0s 16ms/step\n",
      "val_F1_score:  0.6975\n",
      "225/225 [==============================] - 11s 51ms/step - loss: 0.8439 - accuracy: 0.7133 - val_loss: 0.8609 - val_accuracy: 0.6975\n",
      "Epoch 18/3000\n",
      "225/225 [==============================] - ETA: 0s - loss: 0.8254 - accuracy: 0.7194\n",
      "Epoch 18: val_accuracy improved from 0.70750 to 0.75250, saving model to ./model4/best_model_4.h5\n",
      "13/13 [==============================] - 0s 16ms/step\n",
      "val_F1_score:  0.7525\n",
      "225/225 [==============================] - 13s 56ms/step - loss: 0.8254 - accuracy: 0.7194 - val_loss: 0.8011 - val_accuracy: 0.7525\n",
      "Epoch 19/3000\n",
      "225/225 [==============================] - ETA: 0s - loss: 0.8098 - accuracy: 0.7255\n",
      "Epoch 19: val_accuracy did not improve from 0.75250\n",
      "13/13 [==============================] - 0s 16ms/step\n",
      "val_F1_score:  0.7299999999999999\n",
      "225/225 [==============================] - 13s 57ms/step - loss: 0.8098 - accuracy: 0.7255 - val_loss: 0.8454 - val_accuracy: 0.7300\n",
      "Epoch 20/3000\n",
      "225/225 [==============================] - ETA: 0s - loss: 0.7860 - accuracy: 0.7292\n",
      "Epoch 20: val_accuracy did not improve from 0.75250\n",
      "13/13 [==============================] - 0s 16ms/step\n",
      "val_F1_score:  0.735\n",
      "225/225 [==============================] - 13s 57ms/step - loss: 0.7860 - accuracy: 0.7292 - val_loss: 0.8294 - val_accuracy: 0.7350\n",
      "Epoch 21/3000\n",
      "225/225 [==============================] - ETA: 0s - loss: 0.7753 - accuracy: 0.7320\n",
      "Epoch 21: val_accuracy did not improve from 0.75250\n",
      "13/13 [==============================] - 0s 16ms/step\n",
      "val_F1_score:  0.7175\n",
      "225/225 [==============================] - 13s 56ms/step - loss: 0.7753 - accuracy: 0.7320 - val_loss: 0.8245 - val_accuracy: 0.7175\n",
      "Epoch 22/3000\n",
      "225/225 [==============================] - ETA: 0s - loss: 0.7571 - accuracy: 0.7417\n",
      "Epoch 22: val_accuracy did not improve from 0.75250\n",
      "13/13 [==============================] - 0s 15ms/step\n",
      "val_F1_score:  0.7425\n",
      "225/225 [==============================] - 12s 55ms/step - loss: 0.7571 - accuracy: 0.7417 - val_loss: 0.7492 - val_accuracy: 0.7425\n",
      "Epoch 23/3000\n",
      "225/225 [==============================] - ETA: 0s - loss: 0.7366 - accuracy: 0.7449\n",
      "Epoch 23: val_accuracy did not improve from 0.75250\n",
      "13/13 [==============================] - 0s 16ms/step\n",
      "val_F1_score:  0.7425\n",
      "225/225 [==============================] - 12s 55ms/step - loss: 0.7366 - accuracy: 0.7449 - val_loss: 0.7685 - val_accuracy: 0.7425\n",
      "Epoch 24/3000\n",
      "225/225 [==============================] - ETA: 0s - loss: 0.7325 - accuracy: 0.7455\n",
      "Epoch 24: val_accuracy improved from 0.75250 to 0.76250, saving model to ./model4/best_model_4.h5\n",
      "13/13 [==============================] - 0s 12ms/step\n",
      "val_F1_score:  0.7625\n",
      "225/225 [==============================] - 12s 54ms/step - loss: 0.7325 - accuracy: 0.7455 - val_loss: 0.7902 - val_accuracy: 0.7625\n",
      "Epoch 25/3000\n",
      "225/225 [==============================] - ETA: 0s - loss: 0.7123 - accuracy: 0.7547\n",
      "Epoch 25: val_accuracy did not improve from 0.76250\n",
      "13/13 [==============================] - 0s 15ms/step\n",
      "val_F1_score:  0.7575\n",
      "225/225 [==============================] - 12s 53ms/step - loss: 0.7123 - accuracy: 0.7547 - val_loss: 0.7854 - val_accuracy: 0.7575\n",
      "Epoch 26/3000\n",
      "225/225 [==============================] - ETA: 0s - loss: 0.7066 - accuracy: 0.7549\n",
      "Epoch 26: val_accuracy did not improve from 0.76250\n",
      "13/13 [==============================] - 0s 17ms/step\n",
      "val_F1_score:  0.7525\n",
      "225/225 [==============================] - 12s 55ms/step - loss: 0.7066 - accuracy: 0.7549 - val_loss: 0.7235 - val_accuracy: 0.7525\n",
      "Epoch 27/3000\n",
      "225/225 [==============================] - ETA: 0s - loss: 0.6808 - accuracy: 0.7648\n",
      "Epoch 27: val_accuracy improved from 0.76250 to 0.77000, saving model to ./model4/best_model_4.h5\n",
      "13/13 [==============================] - 0s 17ms/step\n",
      "val_F1_score:  0.7699999999999999\n",
      "225/225 [==============================] - 13s 56ms/step - loss: 0.6808 - accuracy: 0.7648 - val_loss: 0.7503 - val_accuracy: 0.7700\n",
      "Epoch 28/3000\n",
      "225/225 [==============================] - ETA: 0s - loss: 0.6670 - accuracy: 0.7694\n",
      "Epoch 28: val_accuracy did not improve from 0.77000\n",
      "13/13 [==============================] - 0s 15ms/step\n",
      "val_F1_score:  0.765\n",
      "225/225 [==============================] - 12s 55ms/step - loss: 0.6670 - accuracy: 0.7694 - val_loss: 0.7423 - val_accuracy: 0.7650\n",
      "Epoch 29/3000\n",
      "225/225 [==============================] - ETA: 0s - loss: 0.6508 - accuracy: 0.7745\n",
      "Epoch 29: val_accuracy did not improve from 0.77000\n",
      "13/13 [==============================] - 0s 17ms/step\n",
      "val_F1_score:  0.7625\n",
      "225/225 [==============================] - 12s 55ms/step - loss: 0.6508 - accuracy: 0.7745 - val_loss: 0.7426 - val_accuracy: 0.7625\n",
      "Epoch 30/3000\n",
      "225/225 [==============================] - ETA: 0s - loss: 0.6422 - accuracy: 0.7768\n",
      "Epoch 30: val_accuracy did not improve from 0.77000\n",
      "13/13 [==============================] - 0s 15ms/step\n",
      "val_F1_score:  0.7299999999999999\n",
      "225/225 [==============================] - 13s 56ms/step - loss: 0.6422 - accuracy: 0.7768 - val_loss: 0.7721 - val_accuracy: 0.7300\n",
      "Epoch 31/3000\n",
      "225/225 [==============================] - ETA: 0s - loss: 0.6337 - accuracy: 0.7747\n",
      "Epoch 31: val_accuracy improved from 0.77000 to 0.79750, saving model to ./model4/best_model_4.h5\n",
      "13/13 [==============================] - 0s 16ms/step\n",
      "val_F1_score:  0.7975\n",
      "225/225 [==============================] - 13s 56ms/step - loss: 0.6337 - accuracy: 0.7747 - val_loss: 0.6683 - val_accuracy: 0.7975\n",
      "Epoch 32/3000\n",
      "225/225 [==============================] - ETA: 0s - loss: 0.6309 - accuracy: 0.7775\n",
      "Epoch 32: val_accuracy did not improve from 0.79750\n",
      "13/13 [==============================] - 0s 17ms/step\n",
      "val_F1_score:  0.7699999999999999\n",
      "225/225 [==============================] - 12s 54ms/step - loss: 0.6309 - accuracy: 0.7775 - val_loss: 0.7114 - val_accuracy: 0.7700\n",
      "Epoch 33/3000\n",
      "225/225 [==============================] - ETA: 0s - loss: 0.6157 - accuracy: 0.7856\n",
      "Epoch 33: val_accuracy did not improve from 0.79750\n",
      "13/13 [==============================] - 0s 15ms/step\n",
      "val_F1_score:  0.7725000000000001\n",
      "225/225 [==============================] - 12s 53ms/step - loss: 0.6157 - accuracy: 0.7856 - val_loss: 0.6664 - val_accuracy: 0.7725\n",
      "Epoch 34/3000\n",
      "225/225 [==============================] - ETA: 0s - loss: 0.5931 - accuracy: 0.7961\n",
      "Epoch 34: val_accuracy improved from 0.79750 to 0.80250, saving model to ./model4/best_model_4.h5\n",
      "13/13 [==============================] - 0s 15ms/step\n",
      "val_F1_score:  0.8025\n",
      "\n",
      "Reached 0.80% val_F1_score, so stopping training!!\n",
      "225/225 [==============================] - 13s 56ms/step - loss: 0.5931 - accuracy: 0.7961 - val_loss: 0.6308 - val_accuracy: 0.8025\n"
     ]
    },
    {
     "data": {
      "text/plain": [
       "<keras.callbacks.History at 0x7f303441d990>"
      ]
     },
     "execution_count": 130,
     "metadata": {},
     "output_type": "execute_result"
    }
   ],
   "source": [
    "#train your model\n",
    "\n",
    "model4.fit([X_train_spectrogram],y_train_augmented, batch_size=64, epochs=3000, \n",
    "           validation_data=([X_test_spectrogram], y_test_int), callbacks=[callbacks4, metrics, tensorboard4],\n",
    "          )"
   ]
  },
  {
   "cell_type": "markdown",
   "metadata": {},
   "source": [
    "> <b>At end of 34 epoch val_F1_score 0.80</b>"
   ]
  },
  {
   "cell_type": "code",
   "execution_count": 131,
   "metadata": {},
   "outputs": [
    {
     "data": {
      "text/html": [
       "\n",
       "      <iframe id=\"tensorboard-frame-bdef796740ea71c3\" width=\"100%\" height=\"800\" frameborder=\"0\">\n",
       "      </iframe>\n",
       "      <script>\n",
       "        (function() {\n",
       "          const frame = document.getElementById(\"tensorboard-frame-bdef796740ea71c3\");\n",
       "          const url = new URL(\"/\", window.location);\n",
       "          const port = 6007;\n",
       "          if (port) {\n",
       "            url.port = port;\n",
       "          }\n",
       "          frame.src = url;\n",
       "        })();\n",
       "      </script>\n",
       "    "
      ],
      "text/plain": [
       "<IPython.core.display.HTML object>"
      ]
     },
     "metadata": {},
     "output_type": "display_data"
    }
   ],
   "source": [
    "%tensorboard --logdir model4/model4_logs"
   ]
  },
  {
   "cell_type": "code",
   "execution_count": 132,
   "metadata": {},
   "outputs": [
    {
     "data": {
      "text/plain": [
       "<matplotlib.legend.Legend at 0x7f28208ffa60>"
      ]
     },
     "execution_count": 132,
     "metadata": {},
     "output_type": "execute_result"
    },
    {
     "data": {
      "image/png": "[encoded data removed]",
      "text/plain": [
       "<Figure size 2160x360 with 1 Axes>"
      ]
     },
     "metadata": {
      "needs_background": "light"
     },
     "output_type": "display_data"
    }
   ],
   "source": [
    "# Plot training & validation iou_score values\n",
    "import matplotlib.pyplot as plt\n",
    "his = pd.read_csv('model4/history.csv')\n",
    "\n",
    "plt.figure(figsize=(30, 5))\n",
    "plt.subplot(121)\n",
    "plt.plot(his['loss'])\n",
    "plt.plot(his['val_loss'])\n",
    "plt.title('Model loss')\n",
    "plt.ylabel('loss')\n",
    "plt.xlabel('Epoch')\n",
    "plt.legend(['Train', 'Test'], loc='upper left')"
   ]
  },
  {
   "cell_type": "markdown",
   "metadata": {},
   "source": [
    "> <b> From the above plot we can ensure that model is not getting overfit</b>"
   ]
  },
  {
   "cell_type": "code",
   "execution_count": null,
   "metadata": {},
   "outputs": [],
   "source": []
  }
 ],
 "metadata": {
  "colab": {
   "collapsed_sections": [],
   "name": "Speech detection Assignment.ipynb",
   "provenance": []
  },
  "kernelspec": {
   "display_name": "Python 3 (ipykernel)",
   "language": "python",
   "name": "python3"
  },
  "language_info": {
   "codemirror_mode": {
    "name": "ipython",
    "version": 3
   },
   "file_extension": ".py",
   "mimetype": "text/x-python",
   "name": "python",
   "nbconvert_exporter": "python",
   "pygments_lexer": "ipython3",
   "version": "3.9.12"
  }
 },
 "nbformat": 4,
 "nbformat_minor": 1
}
